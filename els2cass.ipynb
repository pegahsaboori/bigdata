{
 "cells": [
  {
   "cell_type": "code",
   "execution_count": 28,
   "id": "3ccbd489",
   "metadata": {},
   "outputs": [
    {
     "name": "stderr",
     "output_type": "stream",
     "text": [
      "C:\\Users\\Pegah\\AppData\\Local\\Temp\\ipykernel_14516\\4103704326.py:34: DeprecationWarning: The 'body' parameter is deprecated and will be removed in a future version. Instead use individual parameters.\n",
      "  res = es.search(\n"
     ]
    },
    {
     "name": "stdout",
     "output_type": "stream",
     "text": [
      "100 docs added to books.parents.\r"
     ]
    },
    {
     "name": "stderr",
     "output_type": "stream",
     "text": [
      "C:\\Users\\Pegah\\AppData\\Local\\Temp\\ipykernel_14516\\4103704326.py:76: DeprecationWarning: The 'body' parameter is deprecated and will be removed in a future version. Instead use individual parameters.\n",
      "  res = es.search(\n"
     ]
    },
    {
     "name": "stdout",
     "output_type": "stream",
     "text": [
      "1423 docs added to books.parents.\n",
      "Total documents: 1423\n",
      "\n"
     ]
    }
   ],
   "source": [
    "from elasticsearch import Elasticsearch\n",
    "from cassandra.cluster import Cluster\n",
    "from cassandra.query import BatchStatement\n",
    "# Cassandra settings\n",
    "cluster = Cluster(['127.0.0.1'], port=32769)  # Replace with actual Cassandra cluster address\n",
    "session = cluster.connect()\n",
    "session.execute(\"CREATE KEYSPACE IF NOT EXISTS books WITH REPLICATION = {'class': 'SimpleStrategy', 'replication_factor': 1}\")\n",
    "session.set_keyspace('books')\n",
    "session.execute(\"CREATE TABLE IF NOT EXISTS books.children (trove_id TEXT PRIMARY KEY, title TEXT, url TEXT, contributors LIST<TEXT>, date DATE, format TEXT, pages INT)\")\n",
    "# Elasticsearch settings\n",
    "es = Elasticsearch(['http://localhost:9200']) \n",
    "search_after= None\n",
    "i=0\n",
    "\n",
    "session.execute(\"DROP KEYSPACE IF EXISTS books\")\n",
    "session.execute(\"CREATE KEYSPACE IF NOT EXISTS books WITH replication = {'class': 'SimpleStrategy', 'replication_factor' : 1};\")\n",
    "\n",
    "\n",
    "insert_query_for_parents = \"INSERT INTO books.parents (trove_id,title,url,contributors,date,format,pages) VALUES (?,?,?,?,?,?,?)\"\n",
    "create_table_query_parents= \"CREATE TABLE books.parents (\\\n",
    "    title text,\\\n",
    "    url text,\\\n",
    "    contributors text,\\\n",
    "    date text,\\\n",
    "    format text,\\\n",
    "    trove_id text PRIMARY KEY,\\\n",
    "    pages int\\\n",
    ");\"\n",
    "\n",
    "\n",
    "session.execute(create_table_query_parents)\n",
    "insert_statement = session.prepare(insert_query_for_parents)\n",
    "\n",
    "res = es.search(\n",
    "    index='books',\n",
    "    body={\n",
    "        \"query\": {\n",
    "            \"bool\": {\n",
    "                \n",
    "                \"must_not\": [\n",
    "                    {\n",
    "                        \"term\": {\n",
    "                            \"parent\": \"\"\n",
    "                        }\n",
    "                    }\n",
    "                ]\n",
    "            }\n",
    "        },\n",
    "        'sort': [{'_doc': 'asc'}],\n",
    "        'size': 100,\n",
    "        'search_after': search_after\n",
    "    }\n",
    ")\n",
    "\n",
    "while res['hits']['hits']:\n",
    "    last_hit = res['hits']['hits'][-1]\n",
    "    search_after = last_hit['sort']\n",
    "\n",
    "    for hit in res['hits']['hits']:\n",
    "        doc_id = hit['_id']\n",
    "        doc = hit['_source']\n",
    "        i += 1\n",
    "        \n",
    "        row = (\n",
    "            doc['trove_id'],\n",
    "            doc['title'],\n",
    "            doc['url'],\n",
    "            doc['contributors'],\n",
    "            doc['date'],\n",
    "            doc['format'],\n",
    "            int(doc['pages'])\n",
    "        )\n",
    "        session.execute(insert_statement, row)\n",
    "        print(f\"{i} documents have been added to parents table\", end=\"\\r\")\n",
    "\n",
    "    res = es.search(\n",
    "        index='books',\n",
    "        body={\n",
    "            \"query\": {\n",
    "                \"bool\": {\n",
    "                    \n",
    "                    \"must_not\": [\n",
    "                        {\n",
    "                            \"term\": {\n",
    "                                \"parent\": \"\"\n",
    "                            }\n",
    "                        }\n",
    "                    ]\n",
    "                }\n",
    "            },\n",
    "            'sort': [{'_doc': 'asc'}],\n",
    "            'size': 100,\n",
    "            'search_after': search_after\n",
    "        }\n",
    "    )\n",
    "\n",
    "print(f\"\\n {i} documents have been uploaded\\n\")\n"
   ]
  },
  {
   "cell_type": "code",
   "execution_count": 29,
   "id": "5818349a",
   "metadata": {},
   "outputs": [
    {
     "name": "stderr",
     "output_type": "stream",
     "text": [
      "C:\\Users\\Pegah\\AppData\\Local\\Temp\\ipykernel_14516\\3402402505.py:18: DeprecationWarning: The 'body' parameter is deprecated and will be removed in a future version. Instead use individual parameters.\n",
      "  res = es.search(\n"
     ]
    },
    {
     "name": "stdout",
     "output_type": "stream",
     "text": [
      "100 docs added to books.children.\r"
     ]
    },
    {
     "name": "stderr",
     "output_type": "stream",
     "text": [
      "C:\\Users\\Pegah\\AppData\\Local\\Temp\\ipykernel_14516\\3402402505.py:60: DeprecationWarning: The 'body' parameter is deprecated and will be removed in a future version. Instead use individual parameters.\n",
      "  res = es.search(\n"
     ]
    },
    {
     "name": "stdout",
     "output_type": "stream",
     "text": [
      "240 docs added to books.children.\n",
      "Total documents: 240\n",
      "\n"
     ]
    }
   ],
   "source": [
    "\n",
    "i=0\n",
    "#Cassandra Settings:\n",
    "insert_query_for_children = \"INSERT INTO books.children (trove_id,title,url,contributors,date,format,pages) VALUES (?,?,?,?,?,?,?)\"\n",
    "create_table_query_children= \"CREATE TABLE books.children (\\\n",
    "    title text,\\\n",
    "    url text,\\\n",
    "    contributors text,\\\n",
    "    date text,\\\n",
    "    format text,\\\n",
    "    trove_id text PRIMARY KEY,\\\n",
    "    pages int\\\n",
    ");\"\n",
    "session.execute(create_table_query_children)\n",
    "insert_statement = session.prepare(insert_query_for_children)\n",
    "\n",
    "res = es.search(\n",
    "    index='books',\n",
    "    body={\n",
    "        \"query\": {\n",
    "            \"bool\": {\n",
    "                \n",
    "                \"must_not\": [\n",
    "                    {\n",
    "                        \"term\": {\n",
    "                            \"children\": \"\"\n",
    "                        }\n",
    "                    }\n",
    "                ]\n",
    "            }\n",
    "        },\n",
    "        'sort': [{'_doc': 'asc'}],\n",
    "        'size': 100,\n",
    "        'search_after': None\n",
    "    }\n",
    ")\n",
    "\n",
    "while res['hits']['hits']:\n",
    "    last_hit = res['hits']['hits'][-1]\n",
    "    search_after = last_hit['sort']\n",
    "\n",
    "    for hit in res['hits']['hits']:\n",
    "        doc_id = hit['_id']\n",
    "        doc = hit['_source']\n",
    "        i += 1\n",
    "        # Perform any necessary data transformations or mappings here\n",
    "        row = (\n",
    "            doc['trove_id'],\n",
    "            doc['title'],\n",
    "            doc['url'],\n",
    "            doc['contributors'],\n",
    "            doc['date'],\n",
    "            doc['format'],\n",
    "            int(doc['pages'])\n",
    "        )\n",
    "        session.execute(insert_statement, row)\n",
    "        print(f\"{i} documents have been added to children table\", end=\"\\r\")\n",
    "\n",
    "    res = es.search(\n",
    "        index='books',\n",
    "        body={\n",
    "            \"query\": {\n",
    "                \"bool\": {\n",
    "                    \n",
    "                    \"must_not\": [\n",
    "                        {\n",
    "                            \"term\": {\n",
    "                                \"children\": \"\"\n",
    "                            }\n",
    "                        }\n",
    "                    ]\n",
    "                }\n",
    "            },\n",
    "            'sort': [{'_doc': 'asc'}],\n",
    "            'size': 100,\n",
    "            'search_after': search_after\n",
    "        }\n",
    "    )\n",
    "\n",
    "print(f\"\\n {i} documents have been uploaded\\n\")\n"
   ]
  },
  {
   "cell_type": "code",
   "execution_count": null,
   "id": "e6b36585",
   "metadata": {},
   "outputs": [],
   "source": []
  }
 ],
 "metadata": {
  "kernelspec": {
   "display_name": "Python 3 (ipykernel)",
   "language": "python",
   "name": "python3"
  },
  "language_info": {
   "codemirror_mode": {
    "name": "ipython",
    "version": 3
   },
   "file_extension": ".py",
   "mimetype": "text/x-python",
   "name": "python",
   "nbconvert_exporter": "python",
   "pygments_lexer": "ipython3",
   "version": "3.11.3"
  }
 },
 "nbformat": 4,
 "nbformat_minor": 5
}
