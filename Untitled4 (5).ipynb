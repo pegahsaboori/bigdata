{
  "nbformat": 4,
  "nbformat_minor": 0,
  "metadata": {
    "colab": {
      "provenance": []
    },
    "kernelspec": {
      "name": "python3",
      "display_name": "Python 3"
    },
    "language_info": {
      "name": "python"
    }
  },
  "cells": [
    {
      "cell_type": "code",
      "execution_count": null,
      "metadata": {
        "colab": {
          "base_uri": "https://localhost:8080/"
        },
        "id": "M9FPl1Gi7BYX",
        "outputId": "70fe761a-b658-4638-c15c-a953a34dd1b4"
      },
      "outputs": [
        {
          "output_type": "stream",
          "name": "stdout",
          "text": [
            "Mounted at /content/gdrive\n"
          ]
        }
      ],
      "source": [
        "from google.colab import drive\n",
        "drive.mount('/content/gdrive')\n"
      ]
    },
    {
      "cell_type": "code",
      "source": [
        "!pip install pyspark"
      ],
      "metadata": {
        "colab": {
          "base_uri": "https://localhost:8080/"
        },
        "id": "mHq9BUlv8QDt",
        "outputId": "779d9413-5b02-49a9-a1c5-b9bc3adbba09"
      },
      "execution_count": null,
      "outputs": [
        {
          "output_type": "stream",
          "name": "stdout",
          "text": [
            "Looking in indexes: https://pypi.org/simple, https://us-python.pkg.dev/colab-wheels/public/simple/\n",
            "Collecting pyspark\n",
            "  Downloading pyspark-3.3.2.tar.gz (281.4 MB)\n",
            "\u001b[2K     \u001b[90m━━━━━━━━━━━━━━━━━━━━━━━━━━━━━━━━━━━━━━━\u001b[0m \u001b[32m281.4/281.4 MB\u001b[0m \u001b[31m4.6 MB/s\u001b[0m eta \u001b[36m0:00:00\u001b[0m\n",
            "\u001b[?25h  Preparing metadata (setup.py) ... \u001b[?25l\u001b[?25hdone\n",
            "Collecting py4j==0.10.9.5\n",
            "  Downloading py4j-0.10.9.5-py2.py3-none-any.whl (199 kB)\n",
            "\u001b[2K     \u001b[90m━━━━━━━━━━━━━━━━━━━━━━━━━━━━━━━━━━━━━━\u001b[0m \u001b[32m199.7/199.7 KB\u001b[0m \u001b[31m16.8 MB/s\u001b[0m eta \u001b[36m0:00:00\u001b[0m\n",
            "\u001b[?25hBuilding wheels for collected packages: pyspark\n",
            "  Building wheel for pyspark (setup.py) ... \u001b[?25l\u001b[?25hdone\n",
            "  Created wheel for pyspark: filename=pyspark-3.3.2-py2.py3-none-any.whl size=281824028 sha256=617324043b23d3643dcbba73b29be1e6c1981b089a3c942e4ea55ebbb7455b13\n",
            "  Stored in directory: /root/.cache/pip/wheels/6c/e3/9b/0525ce8a69478916513509d43693511463c6468db0de237c86\n",
            "Successfully built pyspark\n",
            "Installing collected packages: py4j, pyspark\n",
            "  Attempting uninstall: py4j\n",
            "    Found existing installation: py4j 0.10.9.7\n",
            "    Uninstalling py4j-0.10.9.7:\n",
            "      Successfully uninstalled py4j-0.10.9.7\n",
            "Successfully installed py4j-0.10.9.5 pyspark-3.3.2\n"
          ]
        }
      ]
    },
    {
      "cell_type": "code",
      "source": [
        "import pyspark \n",
        "from pyspark.ml import Pipeline\n",
        "from pyspark.ml.linalg import Vectors\n",
        "from pyspark.ml.classification import LogisticRegression\n",
        "from pyspark.ml.regression import LinearRegression\n",
        "from pyspark.ml.feature import *\n",
        "from pyspark.ml.evaluation import BinaryClassificationEvaluator\n",
        "from pyspark.ml.tuning import ParamGridBuilder, CrossValidator\n",
        "from pyspark.sql import Row\n",
        "from pyspark.sql.functions import *\n",
        "from pyspark.sql.types import *\n",
        "import os\n",
        "import sys\n",
        "from pyspark import SparkContext\n",
        "from pyspark.sql import SQLContext\n",
        "from pyspark.sql import SparkSession\n",
        "from pyspark.sql.functions import monotonically_increasing_id \n",
        "import numpy as np\n"
      ],
      "metadata": {
        "id": "e-pdY9b476GS"
      },
      "execution_count": null,
      "outputs": []
    },
    {
      "cell_type": "code",
      "source": [
        "from pyspark import SparkContext\n",
        "from pyspark.sql import SQLContext\n",
        "from pyspark.sql import SparkSession\n",
        "#sc = SparkContext()\n",
        "spark = SparkSession.builder.appName('ml-hw').getOrCreate()"
      ],
      "metadata": {
        "id": "JPH7N_YU8OKR"
      },
      "execution_count": null,
      "outputs": []
    },
    {
      "cell_type": "code",
      "source": [
        "df = spark.read.csv('/content/gdrive/MyDrive/ML_hw_dataset.csv', header = True, inferSchema = True)\n"
      ],
      "metadata": {
        "id": "vWXJ1OCMDskx"
      },
      "execution_count": null,
      "outputs": []
    },
    {
      "cell_type": "code",
      "source": [
        "df.show()"
      ],
      "metadata": {
        "id": "uGZah3RRD4Ph",
        "colab": {
          "base_uri": "https://localhost:8080/"
        },
        "outputId": "f5071c28-a8bf-44b9-c297-a5c6c0623eae"
      },
      "execution_count": null,
      "outputs": [
        {
          "output_type": "stream",
          "name": "stdout",
          "text": [
            "+---+-----------+--------+-----------------+-------+-------+----+---------+-----+-----------+--------+--------+-----+--------+-----------+------------+--------------+-------------+---------+-----------+---+\n",
            "|age|        job| marital|        education|default|housing|loan|  contact|month|day_of_week|duration|campaign|pdays|previous|   poutcome|emp_var_rate|cons_price_idx|cons_conf_idx|euribor3m|nr_employed|  y|\n",
            "+---+-----------+--------+-----------------+-------+-------+----+---------+-----+-----------+--------+--------+-----+--------+-----------+------------+--------------+-------------+---------+-----------+---+\n",
            "| 44|blue-collar| married|         basic.4y|unknown|    yes|  no| cellular|  aug|        thu|     210|       1|  999|       0|nonexistent|         1.4|        93.444|        -36.1|    4.963|     5228.1|  0|\n",
            "| 53| technician| married|          unknown|     no|     no|  no| cellular|  nov|        fri|     138|       1|  999|       0|nonexistent|        -0.1|          93.2|        -42.0|    4.021|     5195.8|  0|\n",
            "| 28| management|  single|university.degree|     no|    yes|  no| cellular|  jun|        thu|     339|       3|    6|       2|    success|        -1.7|        94.055|        -39.8|    0.729|     4991.6|  1|\n",
            "| 39|   services| married|      high.school|     no|     no|  no| cellular|  apr|        fri|     185|       2|  999|       0|nonexistent|        -1.8|        93.075|        -47.1|    1.405|     5099.1|  0|\n",
            "| 55|    retired| married|         basic.4y|     no|    yes|  no| cellular|  aug|        fri|     137|       1|    3|       1|    success|        -2.9|        92.201|        -31.4|    0.869|     5076.2|  1|\n",
            "| 30| management|divorced|         basic.4y|     no|    yes|  no| cellular|  jul|        tue|      68|       8|  999|       0|nonexistent|         1.4|        93.918|        -42.7|    4.961|     5228.1|  0|\n",
            "| 37|blue-collar| married|         basic.4y|     no|    yes|  no| cellular|  may|        thu|     204|       1|  999|       0|nonexistent|        -1.8|        92.893|        -46.2|    1.327|     5099.1|  0|\n",
            "| 39|blue-collar|divorced|         basic.9y|     no|    yes|  no| cellular|  may|        fri|     191|       1|  999|       0|nonexistent|        -1.8|        92.893|        -46.2|    1.313|     5099.1|  0|\n",
            "| 36|     admin.| married|university.degree|     no|     no|  no| cellular|  jun|        mon|     174|       1|    3|       1|    success|        -2.9|        92.963|        -40.8|    1.266|     5076.2|  1|\n",
            "| 27|blue-collar|  single|         basic.4y|     no|    yes|  no| cellular|  apr|        thu|     191|       2|  999|       1|    failure|        -1.8|        93.075|        -47.1|     1.41|     5099.1|  0|\n",
            "| 34|  housemaid|  single|university.degree|     no|     no|  no|telephone|  may|        fri|      62|       2|  999|       0|nonexistent|         1.1|        93.994|        -36.4|    4.864|     5191.0|  0|\n",
            "| 41| management| married|university.degree|     no|    yes|  no| cellular|  aug|        thu|     789|       1|  999|       0|nonexistent|         1.4|        93.444|        -36.1|    4.964|     5228.1|  0|\n",
            "| 55| management| married|university.degree|     no|     no|  no| cellular|  aug|        mon|     372|       3|  999|       0|nonexistent|         1.4|        93.444|        -36.1|    4.965|     5228.1|  1|\n",
            "| 33|   services|divorced|      high.school|     no|    yes|  no| cellular|  may|        tue|      75|       5|  999|       0|nonexistent|        -1.8|        92.893|        -46.2|    1.291|     5099.1|  0|\n",
            "| 26|     admin.| married|      high.school|     no|     no| yes|telephone|  jun|        mon|    1021|       1|  999|       0|nonexistent|         1.4|        94.465|        -41.8|     4.96|     5228.1|  0|\n",
            "| 52|   services| married|      high.school|unknown|    yes|  no| cellular|  jul|        thu|     117|       2|  999|       0|nonexistent|         1.4|        93.918|        -42.7|    4.962|     5228.1|  0|\n",
            "| 35|   services| married|      high.school|     no|     no|  no| cellular|  apr|        thu|    1034|       2|  999|       0|nonexistent|        -1.8|        93.075|        -47.1|    1.365|     5099.1|  1|\n",
            "| 27|     admin.|  single|university.degree|     no|     no|  no|telephone|  oct|        tue|     540|       1|  999|       0|nonexistent|        -0.1|        93.798|        -40.4|     4.86|     5195.8|  1|\n",
            "| 28|blue-collar| married|         basic.9y|unknown|     no|  no|telephone|  may|        thu|     140|       1|  999|       0|nonexistent|         1.1|        93.994|        -36.4|     4.86|     5191.0|  0|\n",
            "| 26| unemployed|  single|         basic.9y|     no|    yes| yes| cellular|  jul|        mon|     104|       4|  999|       0|nonexistent|         1.4|        93.918|        -42.7|     4.96|     5228.1|  0|\n",
            "+---+-----------+--------+-----------------+-------+-------+----+---------+-----+-----------+--------+--------+-----+--------+-----------+------------+--------------+-------------+---------+-----------+---+\n",
            "only showing top 20 rows\n",
            "\n"
          ]
        }
      ]
    },
    {
      "cell_type": "code",
      "source": [
        "rows = df.count()\n",
        "cols = len(df.columns)\n",
        "print(\"Total rows: \", rows)\n",
        "print(\"Total columns: \", cols)\n"
      ],
      "metadata": {
        "id": "DyvNFkViU8tP",
        "colab": {
          "base_uri": "https://localhost:8080/"
        },
        "outputId": "ce007493-4c28-4e88-ddf1-48961275335d"
      },
      "execution_count": null,
      "outputs": [
        {
          "output_type": "stream",
          "name": "stdout",
          "text": [
            "Total rows:  41188\n",
            "Total columns:  21\n"
          ]
        }
      ]
    },
    {
      "cell_type": "code",
      "source": [
        "\n",
        "from pyspark.sql.functions import countDistinct\n",
        "from pyspark.sql.functions import count\n",
        "\n",
        "duplicate_rows = df.groupBy(df.columns).agg(count('*').alias('count')).filter('count > 1')\n",
        "num_duplicate_rows = duplicate_rows.count()"
      ],
      "metadata": {
        "id": "F1Nzp82sVOtj"
      },
      "execution_count": null,
      "outputs": []
    },
    {
      "cell_type": "code",
      "source": [
        "duplicate_rows.show()"
      ],
      "metadata": {
        "id": "3R1Wz9VOYCEw",
        "colab": {
          "base_uri": "https://localhost:8080/"
        },
        "outputId": "e8879082-32a5-415c-f76d-46cd496f4b1c"
      },
      "execution_count": null,
      "outputs": [
        {
          "output_type": "stream",
          "name": "stdout",
          "text": [
            "+---+-----------+--------+-------------------+-------+-------+----+---------+-----+-----------+--------+--------+-----+--------+-----------+------------+--------------+-------------+---------+-----------+---+-----+\n",
            "|age|        job| marital|          education|default|housing|loan|  contact|month|day_of_week|duration|campaign|pdays|previous|   poutcome|emp_var_rate|cons_price_idx|cons_conf_idx|euribor3m|nr_employed|  y|count|\n",
            "+---+-----------+--------+-------------------+-------+-------+----+---------+-----+-----------+--------+--------+-----+--------+-----------+------------+--------------+-------------+---------+-----------+---+-----+\n",
            "| 41| technician| married|professional.course|     no|    yes|  no| cellular|  aug|        tue|     127|       1|  999|       0|nonexistent|         1.4|        93.444|        -36.1|    4.966|     5228.1|  0|    2|\n",
            "| 55|   services| married|        high.school|unknown|     no|  no| cellular|  aug|        mon|      33|       1|  999|       0|nonexistent|         1.4|        93.444|        -36.1|    4.965|     5228.1|  0|    2|\n",
            "| 71|    retired|  single|  university.degree|     no|     no|  no|telephone|  oct|        tue|     120|       1|  999|       0|nonexistent|        -3.4|        92.431|        -26.9|    0.742|     5017.5|  0|    2|\n",
            "| 47| technician|divorced|        high.school|     no|    yes|  no| cellular|  jul|        thu|      43|       3|  999|       0|nonexistent|         1.4|        93.918|        -42.7|    4.962|     5228.1|  0|    2|\n",
            "| 36|    retired| married|            unknown|     no|     no|  no|telephone|  jul|        thu|      88|       1|  999|       0|nonexistent|         1.4|        93.918|        -42.7|    4.966|     5228.1|  0|    2|\n",
            "| 39|     admin.| married|  university.degree|     no|     no|  no| cellular|  nov|        tue|     123|       2|  999|       0|nonexistent|        -0.1|          93.2|        -42.0|    4.153|     5195.8|  0|    2|\n",
            "| 24|   services|  single|        high.school|     no|    yes|  no| cellular|  apr|        tue|     114|       1|  999|       0|nonexistent|        -1.8|        93.075|        -47.1|    1.423|     5099.1|  0|    2|\n",
            "| 45|     admin.| married|  university.degree|     no|     no|  no| cellular|  jul|        thu|     252|       1|  999|       0|nonexistent|        -2.9|        92.469|        -33.6|    1.072|     5076.2|  1|    2|\n",
            "| 27| technician|  single|professional.course|     no|     no|  no| cellular|  jul|        mon|     331|       2|  999|       0|nonexistent|         1.4|        93.918|        -42.7|    4.962|     5228.1|  0|    2|\n",
            "| 32| technician|  single|professional.course|     no|    yes|  no| cellular|  jul|        thu|     128|       1|  999|       0|nonexistent|         1.4|        93.918|        -42.7|    4.968|     5228.1|  0|    2|\n",
            "| 35|     admin.| married|  university.degree|     no|    yes|  no| cellular|  may|        fri|     348|       4|  999|       0|nonexistent|        -1.8|        92.893|        -46.2|    1.313|     5099.1|  0|    2|\n",
            "| 39|blue-collar| married|           basic.6y|     no|     no|  no|telephone|  may|        thu|     124|       1|  999|       0|nonexistent|         1.1|        93.994|        -36.4|    4.855|     5191.0|  0|    2|\n",
            "+---+-----------+--------+-------------------+-------+-------+----+---------+-----+-----------+--------+--------+-----+--------+-----------+------------+--------------+-------------+---------+-----------+---+-----+\n",
            "\n"
          ]
        }
      ]
    },
    {
      "cell_type": "code",
      "source": [
        "num_duplicate_rows"
      ],
      "metadata": {
        "id": "pJjbNiAqWtmw",
        "colab": {
          "base_uri": "https://localhost:8080/"
        },
        "outputId": "5a2583a8-b899-4bdb-d726-424462402769"
      },
      "execution_count": null,
      "outputs": [
        {
          "output_type": "execute_result",
          "data": {
            "text/plain": [
              "12"
            ]
          },
          "metadata": {},
          "execution_count": 10
        }
      ]
    },
    {
      "cell_type": "code",
      "source": [
        "df=df.dropDuplicates()\n"
      ],
      "metadata": {
        "id": "WuV7zXrAYnTP"
      },
      "execution_count": null,
      "outputs": []
    },
    {
      "cell_type": "code",
      "source": [
        "duplicate_rows = df.groupBy(df.columns[:-1]).agg(count('*').alias('count')).filter('count > 1')\n",
        "num_duplicate_rows = duplicate_rows.count()\n",
        "num_duplicate_rows"
      ],
      "metadata": {
        "id": "clh9M3z3YrvY",
        "colab": {
          "base_uri": "https://localhost:8080/"
        },
        "outputId": "07232904-97ba-47fc-8ba2-22c35f6b27d7"
      },
      "execution_count": null,
      "outputs": [
        {
          "output_type": "execute_result",
          "data": {
            "text/plain": [
              "0"
            ]
          },
          "metadata": {},
          "execution_count": 12
        }
      ]
    },
    {
      "cell_type": "code",
      "source": [
        "df = df.select(\"*\").withColumn(\"id\", monotonically_increasing_id())"
      ],
      "metadata": {
        "id": "CJK08J37fbci"
      },
      "execution_count": null,
      "outputs": []
    },
    {
      "cell_type": "code",
      "source": [
        "import numpy as np\n",
        "\n",
        "df.select([count(when(isnan(c) | col(c).isNull(), c)).alias(c) for c in df.columns]).show()"
      ],
      "metadata": {
        "id": "2CwEp1nDEE5I",
        "colab": {
          "base_uri": "https://localhost:8080/"
        },
        "outputId": "758c1e30-49ee-4a0b-848d-14e110cb7292"
      },
      "execution_count": null,
      "outputs": [
        {
          "output_type": "stream",
          "name": "stdout",
          "text": [
            "+---+---+-------+---------+-------+-------+----+-------+-----+-----------+--------+--------+-----+--------+--------+------------+--------------+-------------+---------+-----------+---+---+\n",
            "|age|job|marital|education|default|housing|loan|contact|month|day_of_week|duration|campaign|pdays|previous|poutcome|emp_var_rate|cons_price_idx|cons_conf_idx|euribor3m|nr_employed|  y| id|\n",
            "+---+---+-------+---------+-------+-------+----+-------+-----+-----------+--------+--------+-----+--------+--------+------------+--------------+-------------+---------+-----------+---+---+\n",
            "|  0|  0|      0|        0|      0|      0|   0|      0|    0|          0|       0|       0|    0|       0|       0|           0|             0|            0|        0|          0|  0|  0|\n",
            "+---+---+-------+---------+-------+-------+----+-------+-----+-----------+--------+--------+-----+--------+--------+------------+--------------+-------------+---------+-----------+---+---+\n",
            "\n"
          ]
        }
      ]
    },
    {
      "cell_type": "code",
      "source": [
        "from pyspark.sql.functions import countDistinct\n",
        "\n",
        "for col in df.columns:\n",
        "    print(f\"Column {col} has {df.select(countDistinct(col)).collect()[0][0]} unique values\")"
      ],
      "metadata": {
        "id": "33AjSn-oQ6UV",
        "colab": {
          "base_uri": "https://localhost:8080/"
        },
        "outputId": "f6e1d736-7446-47dc-92b5-e081702564de"
      },
      "execution_count": null,
      "outputs": [
        {
          "output_type": "stream",
          "name": "stdout",
          "text": [
            "Column age has 78 unique values\n",
            "Column job has 12 unique values\n",
            "Column marital has 4 unique values\n",
            "Column education has 8 unique values\n",
            "Column default has 3 unique values\n",
            "Column housing has 3 unique values\n",
            "Column loan has 3 unique values\n",
            "Column contact has 2 unique values\n",
            "Column month has 10 unique values\n",
            "Column day_of_week has 5 unique values\n",
            "Column duration has 1544 unique values\n",
            "Column campaign has 42 unique values\n",
            "Column pdays has 27 unique values\n",
            "Column previous has 8 unique values\n",
            "Column poutcome has 3 unique values\n",
            "Column emp_var_rate has 10 unique values\n",
            "Column cons_price_idx has 26 unique values\n",
            "Column cons_conf_idx has 26 unique values\n",
            "Column euribor3m has 316 unique values\n",
            "Column nr_employed has 11 unique values\n",
            "Column y has 2 unique values\n",
            "Column id has 41176 unique values\n"
          ]
        }
      ]
    },
    {
      "cell_type": "code",
      "source": [
        "df.printSchema()"
      ],
      "metadata": {
        "id": "VfK2VOldbJPQ",
        "colab": {
          "base_uri": "https://localhost:8080/"
        },
        "outputId": "e706e389-8369-4a82-edd3-0413163b47e8"
      },
      "execution_count": null,
      "outputs": [
        {
          "output_type": "stream",
          "name": "stdout",
          "text": [
            "root\n",
            " |-- age: integer (nullable = true)\n",
            " |-- job: string (nullable = true)\n",
            " |-- marital: string (nullable = true)\n",
            " |-- education: string (nullable = true)\n",
            " |-- default: string (nullable = true)\n",
            " |-- housing: string (nullable = true)\n",
            " |-- loan: string (nullable = true)\n",
            " |-- contact: string (nullable = true)\n",
            " |-- month: string (nullable = true)\n",
            " |-- day_of_week: string (nullable = true)\n",
            " |-- duration: integer (nullable = true)\n",
            " |-- campaign: integer (nullable = true)\n",
            " |-- pdays: integer (nullable = true)\n",
            " |-- previous: integer (nullable = true)\n",
            " |-- poutcome: string (nullable = true)\n",
            " |-- emp_var_rate: double (nullable = true)\n",
            " |-- cons_price_idx: double (nullable = true)\n",
            " |-- cons_conf_idx: double (nullable = true)\n",
            " |-- euribor3m: double (nullable = true)\n",
            " |-- nr_employed: double (nullable = true)\n",
            " |-- y: integer (nullable = true)\n",
            " |-- id: long (nullable = false)\n",
            "\n"
          ]
        }
      ]
    },
    {
      "cell_type": "code",
      "source": [
        "distinct_names = df.select(\"age\").distinct()\n"
      ],
      "metadata": {
        "id": "KGPn2knzar76"
      },
      "execution_count": null,
      "outputs": []
    },
    {
      "cell_type": "code",
      "source": [
        "distinct_names.show(100)"
      ],
      "metadata": {
        "id": "3yDEnN59bxgp",
        "colab": {
          "base_uri": "https://localhost:8080/"
        },
        "outputId": "0fcfbd50-c986-44dd-c69b-4420fa1eea1b"
      },
      "execution_count": null,
      "outputs": [
        {
          "output_type": "stream",
          "name": "stdout",
          "text": [
            "+---+\n",
            "|age|\n",
            "+---+\n",
            "| 31|\n",
            "| 85|\n",
            "| 65|\n",
            "| 53|\n",
            "| 78|\n",
            "| 34|\n",
            "| 81|\n",
            "| 28|\n",
            "| 76|\n",
            "| 27|\n",
            "| 26|\n",
            "| 44|\n",
            "| 91|\n",
            "| 22|\n",
            "| 47|\n",
            "| 52|\n",
            "| 86|\n",
            "| 40|\n",
            "| 20|\n",
            "| 94|\n",
            "| 57|\n",
            "| 54|\n",
            "| 48|\n",
            "| 19|\n",
            "| 92|\n",
            "| 64|\n",
            "| 41|\n",
            "| 43|\n",
            "| 37|\n",
            "| 61|\n",
            "| 88|\n",
            "| 17|\n",
            "| 72|\n",
            "| 35|\n",
            "| 55|\n",
            "| 59|\n",
            "| 39|\n",
            "| 23|\n",
            "| 49|\n",
            "| 84|\n",
            "| 87|\n",
            "| 51|\n",
            "| 69|\n",
            "| 63|\n",
            "| 77|\n",
            "| 50|\n",
            "| 45|\n",
            "| 38|\n",
            "| 82|\n",
            "| 80|\n",
            "| 25|\n",
            "| 73|\n",
            "| 24|\n",
            "| 70|\n",
            "| 62|\n",
            "| 95|\n",
            "| 29|\n",
            "| 21|\n",
            "| 98|\n",
            "| 32|\n",
            "| 60|\n",
            "| 75|\n",
            "| 56|\n",
            "| 58|\n",
            "| 33|\n",
            "| 83|\n",
            "| 68|\n",
            "| 71|\n",
            "| 42|\n",
            "| 79|\n",
            "| 30|\n",
            "| 66|\n",
            "| 46|\n",
            "| 67|\n",
            "| 18|\n",
            "| 74|\n",
            "| 36|\n",
            "| 89|\n",
            "+---+\n",
            "\n"
          ]
        }
      ]
    },
    {
      "cell_type": "code",
      "source": [
        "distinct_names = df.select(df.columns[1]).distinct()\n",
        "distinct_names.show(100)"
      ],
      "metadata": {
        "id": "RVTqDrLAd89Q",
        "colab": {
          "base_uri": "https://localhost:8080/"
        },
        "outputId": "3bdfe394-0930-45ea-dcf2-e483f1530dcf"
      },
      "execution_count": null,
      "outputs": [
        {
          "output_type": "stream",
          "name": "stdout",
          "text": [
            "+-------------+\n",
            "|          job|\n",
            "+-------------+\n",
            "|   management|\n",
            "|      retired|\n",
            "|      unknown|\n",
            "|self-employed|\n",
            "|      student|\n",
            "|  blue-collar|\n",
            "| entrepreneur|\n",
            "|       admin.|\n",
            "|   technician|\n",
            "|     services|\n",
            "|    housemaid|\n",
            "|   unemployed|\n",
            "+-------------+\n",
            "\n"
          ]
        }
      ]
    },
    {
      "cell_type": "code",
      "source": [
        "distinct_names = df.select(df.columns[2]).distinct()\n",
        "distinct_names.show(100)"
      ],
      "metadata": {
        "id": "aaK3ESVgjGGy",
        "colab": {
          "base_uri": "https://localhost:8080/"
        },
        "outputId": "6f6cca6a-d624-4925-c8b8-f4be12c19e61"
      },
      "execution_count": null,
      "outputs": [
        {
          "output_type": "stream",
          "name": "stdout",
          "text": [
            "+--------+\n",
            "| marital|\n",
            "+--------+\n",
            "| unknown|\n",
            "|divorced|\n",
            "| married|\n",
            "|  single|\n",
            "+--------+\n",
            "\n"
          ]
        }
      ]
    },
    {
      "cell_type": "code",
      "source": [
        "distinct_names = df.select(df.columns[3]).distinct()\n",
        "distinct_names.show(100)"
      ],
      "metadata": {
        "id": "8gMeUry0nwWc",
        "colab": {
          "base_uri": "https://localhost:8080/"
        },
        "outputId": "46291813-3e17-4908-a934-955ddcf02853"
      },
      "execution_count": null,
      "outputs": [
        {
          "output_type": "stream",
          "name": "stdout",
          "text": [
            "+-------------------+\n",
            "|          education|\n",
            "+-------------------+\n",
            "|        high.school|\n",
            "|            unknown|\n",
            "|           basic.6y|\n",
            "|professional.course|\n",
            "|  university.degree|\n",
            "|         illiterate|\n",
            "|           basic.4y|\n",
            "|           basic.9y|\n",
            "+-------------------+\n",
            "\n"
          ]
        }
      ]
    },
    {
      "cell_type": "code",
      "source": [
        "distinct_names = df.select(df.columns[4]).distinct()\n",
        "distinct_names.show(100)"
      ],
      "metadata": {
        "id": "re6oEOQ1n023",
        "colab": {
          "base_uri": "https://localhost:8080/"
        },
        "outputId": "495c9ff8-2cab-4c0d-9c88-d2dac955d9a7"
      },
      "execution_count": null,
      "outputs": [
        {
          "output_type": "stream",
          "name": "stdout",
          "text": [
            "+-------+\n",
            "|default|\n",
            "+-------+\n",
            "|unknown|\n",
            "|     no|\n",
            "|    yes|\n",
            "+-------+\n",
            "\n"
          ]
        }
      ]
    },
    {
      "cell_type": "code",
      "source": [
        "distinct_names = df.select(df.columns[5]).distinct()\n",
        "distinct_names.show(100)"
      ],
      "metadata": {
        "id": "sBV7ChgCn63H",
        "colab": {
          "base_uri": "https://localhost:8080/"
        },
        "outputId": "cd31ec7e-4142-46e9-ab76-7a9810a97feb"
      },
      "execution_count": null,
      "outputs": [
        {
          "output_type": "stream",
          "name": "stdout",
          "text": [
            "+-------+\n",
            "|housing|\n",
            "+-------+\n",
            "|unknown|\n",
            "|     no|\n",
            "|    yes|\n",
            "+-------+\n",
            "\n"
          ]
        }
      ]
    },
    {
      "cell_type": "code",
      "source": [
        "distinct_names = df.select(df.columns[6]).distinct()\n",
        "distinct_names.show(100)"
      ],
      "metadata": {
        "id": "YHCnvmaPoBHn",
        "colab": {
          "base_uri": "https://localhost:8080/"
        },
        "outputId": "7e2c2828-6a2c-4f74-d592-6111ee8e6f58"
      },
      "execution_count": null,
      "outputs": [
        {
          "output_type": "stream",
          "name": "stdout",
          "text": [
            "+-------+\n",
            "|   loan|\n",
            "+-------+\n",
            "|unknown|\n",
            "|     no|\n",
            "|    yes|\n",
            "+-------+\n",
            "\n"
          ]
        }
      ]
    },
    {
      "cell_type": "code",
      "source": [
        "distinct_names = df.select(df.columns[7]).distinct()\n",
        "distinct_names.show(100)"
      ],
      "metadata": {
        "id": "hjamQD9doEsR",
        "colab": {
          "base_uri": "https://localhost:8080/"
        },
        "outputId": "90f11f22-20f9-4a0a-a2fa-910ba8f940f4"
      },
      "execution_count": null,
      "outputs": [
        {
          "output_type": "stream",
          "name": "stdout",
          "text": [
            "+---------+\n",
            "|  contact|\n",
            "+---------+\n",
            "| cellular|\n",
            "|telephone|\n",
            "+---------+\n",
            "\n"
          ]
        }
      ]
    },
    {
      "cell_type": "code",
      "source": [
        "distinct_names = df.select(df.columns[8]).distinct()\n",
        "distinct_names.show(100)"
      ],
      "metadata": {
        "id": "38BtXAR2oH6s",
        "colab": {
          "base_uri": "https://localhost:8080/"
        },
        "outputId": "b2dd274d-14fd-4b70-d499-c933a04a8adf"
      },
      "execution_count": null,
      "outputs": [
        {
          "output_type": "stream",
          "name": "stdout",
          "text": [
            "+-----+\n",
            "|month|\n",
            "+-----+\n",
            "|  jun|\n",
            "|  aug|\n",
            "|  may|\n",
            "|  sep|\n",
            "|  mar|\n",
            "|  oct|\n",
            "|  jul|\n",
            "|  nov|\n",
            "|  apr|\n",
            "|  dec|\n",
            "+-----+\n",
            "\n"
          ]
        }
      ]
    },
    {
      "cell_type": "code",
      "source": [
        "distinct_names = df.select(df.columns[9]).distinct()\n",
        "distinct_names.show(100)"
      ],
      "metadata": {
        "id": "ETThPbltoNDo",
        "colab": {
          "base_uri": "https://localhost:8080/"
        },
        "outputId": "c1824103-a2f8-4ec8-f9de-653d4bc09d4b"
      },
      "execution_count": null,
      "outputs": [
        {
          "output_type": "stream",
          "name": "stdout",
          "text": [
            "+-----------+\n",
            "|day_of_week|\n",
            "+-----------+\n",
            "|        fri|\n",
            "|        thu|\n",
            "|        tue|\n",
            "|        wed|\n",
            "|        mon|\n",
            "+-----------+\n",
            "\n"
          ]
        }
      ]
    },
    {
      "cell_type": "code",
      "source": [
        "distinct_names = df.select(df.columns[10]).distinct()\n",
        "distinct_names.show(100)"
      ],
      "metadata": {
        "id": "ugIL5wQpoShb",
        "colab": {
          "base_uri": "https://localhost:8080/"
        },
        "outputId": "7e9e75e7-547f-4dfc-8618-d167abdf9e73"
      },
      "execution_count": null,
      "outputs": [
        {
          "output_type": "stream",
          "name": "stdout",
          "text": [
            "+--------+\n",
            "|duration|\n",
            "+--------+\n",
            "|     463|\n",
            "|     148|\n",
            "|     471|\n",
            "|    1088|\n",
            "|     496|\n",
            "|     833|\n",
            "|    1580|\n",
            "|    1238|\n",
            "|    1342|\n",
            "|     540|\n",
            "|     243|\n",
            "|    1025|\n",
            "|     392|\n",
            "|     623|\n",
            "|    1721|\n",
            "|     858|\n",
            "|     737|\n",
            "|    1084|\n",
            "|     897|\n",
            "|    1127|\n",
            "|    1460|\n",
            "|    1395|\n",
            "|      31|\n",
            "|    1143|\n",
            "|    1352|\n",
            "|     516|\n",
            "|    1303|\n",
            "|    1139|\n",
            "|    1618|\n",
            "|    1339|\n",
            "|     137|\n",
            "|     451|\n",
            "|     251|\n",
            "|      85|\n",
            "|    2025|\n",
            "|     580|\n",
            "|     808|\n",
            "|    1265|\n",
            "|    1975|\n",
            "|    2231|\n",
            "|      65|\n",
            "|     458|\n",
            "|     879|\n",
            "|    1223|\n",
            "|     883|\n",
            "|      53|\n",
            "|     481|\n",
            "|     588|\n",
            "|     255|\n",
            "|     799|\n",
            "|     898|\n",
            "|     804|\n",
            "|    3631|\n",
            "|     970|\n",
            "|     133|\n",
            "|     296|\n",
            "|     472|\n",
            "|     853|\n",
            "|     322|\n",
            "|      78|\n",
            "|     513|\n",
            "|     918|\n",
            "|    1133|\n",
            "|     362|\n",
            "|     673|\n",
            "|     961|\n",
            "|     321|\n",
            "|     613|\n",
            "|     633|\n",
            "|     974|\n",
            "|     857|\n",
            "|     597|\n",
            "|     375|\n",
            "|     976|\n",
            "|     876|\n",
            "|     593|\n",
            "|    1212|\n",
            "|    1199|\n",
            "|    1468|\n",
            "|     744|\n",
            "|     155|\n",
            "|     108|\n",
            "|     683|\n",
            "|    1331|\n",
            "|     950|\n",
            "|      34|\n",
            "|     193|\n",
            "|     211|\n",
            "|     368|\n",
            "|     796|\n",
            "|     530|\n",
            "|     642|\n",
            "|    1344|\n",
            "|    1068|\n",
            "|     115|\n",
            "|     126|\n",
            "|    1183|\n",
            "|     101|\n",
            "|     756|\n",
            "|    1500|\n",
            "+--------+\n",
            "only showing top 100 rows\n",
            "\n"
          ]
        }
      ]
    },
    {
      "cell_type": "code",
      "source": [
        "distinct_names = df.select(df.columns[11]).distinct()\n",
        "distinct_names.show(100)"
      ],
      "metadata": {
        "id": "28G2bKgPoV5T",
        "colab": {
          "base_uri": "https://localhost:8080/"
        },
        "outputId": "bb4196f1-9900-4c6f-a1ae-318657b91327"
      },
      "execution_count": null,
      "outputs": [
        {
          "output_type": "stream",
          "name": "stdout",
          "text": [
            "+--------+\n",
            "|campaign|\n",
            "+--------+\n",
            "|      31|\n",
            "|      34|\n",
            "|      28|\n",
            "|      27|\n",
            "|      26|\n",
            "|      12|\n",
            "|      22|\n",
            "|       1|\n",
            "|      13|\n",
            "|       6|\n",
            "|      16|\n",
            "|       3|\n",
            "|      20|\n",
            "|      40|\n",
            "|       5|\n",
            "|      19|\n",
            "|      41|\n",
            "|      15|\n",
            "|      43|\n",
            "|      17|\n",
            "|       9|\n",
            "|      35|\n",
            "|       4|\n",
            "|       8|\n",
            "|      23|\n",
            "|      39|\n",
            "|       7|\n",
            "|      10|\n",
            "|      25|\n",
            "|      24|\n",
            "|      29|\n",
            "|      21|\n",
            "|      32|\n",
            "|      56|\n",
            "|      11|\n",
            "|      33|\n",
            "|      14|\n",
            "|      42|\n",
            "|       2|\n",
            "|      30|\n",
            "|      18|\n",
            "|      37|\n",
            "+--------+\n",
            "\n"
          ]
        }
      ]
    },
    {
      "cell_type": "code",
      "source": [
        "distinct_names = df.select(df.columns[12]).distinct()\n",
        "distinct_names.show(100)"
      ],
      "metadata": {
        "id": "O385XGzeoZS4",
        "colab": {
          "base_uri": "https://localhost:8080/"
        },
        "outputId": "9783d54a-68a7-435b-85b7-708fc85cb61f"
      },
      "execution_count": null,
      "outputs": [
        {
          "output_type": "stream",
          "name": "stdout",
          "text": [
            "+-----+\n",
            "|pdays|\n",
            "+-----+\n",
            "|   26|\n",
            "|   27|\n",
            "|   12|\n",
            "|   22|\n",
            "|    1|\n",
            "|   13|\n",
            "|    6|\n",
            "|   16|\n",
            "|    3|\n",
            "|   20|\n",
            "|    5|\n",
            "|   19|\n",
            "|   15|\n",
            "|    9|\n",
            "|   17|\n",
            "|    4|\n",
            "|    8|\n",
            "|    7|\n",
            "|   10|\n",
            "|   25|\n",
            "|   21|\n",
            "|   11|\n",
            "|   14|\n",
            "|    2|\n",
            "|  999|\n",
            "|    0|\n",
            "|   18|\n",
            "+-----+\n",
            "\n"
          ]
        }
      ]
    },
    {
      "cell_type": "code",
      "source": [
        "distinct_names = df.select(df.columns[13]).distinct()\n",
        "distinct_names.show(100)"
      ],
      "metadata": {
        "id": "m5U4oo2roeGw",
        "colab": {
          "base_uri": "https://localhost:8080/"
        },
        "outputId": "5270f1ac-c9f2-4ded-84e9-92e2432ceb36"
      },
      "execution_count": null,
      "outputs": [
        {
          "output_type": "stream",
          "name": "stdout",
          "text": [
            "+--------+\n",
            "|previous|\n",
            "+--------+\n",
            "|       1|\n",
            "|       6|\n",
            "|       3|\n",
            "|       5|\n",
            "|       4|\n",
            "|       7|\n",
            "|       2|\n",
            "|       0|\n",
            "+--------+\n",
            "\n"
          ]
        }
      ]
    },
    {
      "cell_type": "code",
      "source": [
        "distinct_names = df.select(df.columns[14]).distinct()\n",
        "distinct_names.show(100)"
      ],
      "metadata": {
        "id": "wJLvidm2oj8B",
        "colab": {
          "base_uri": "https://localhost:8080/"
        },
        "outputId": "d0ae008f-b13e-4f20-d8f1-6eb19a5c62e4"
      },
      "execution_count": null,
      "outputs": [
        {
          "output_type": "stream",
          "name": "stdout",
          "text": [
            "+-----------+\n",
            "|   poutcome|\n",
            "+-----------+\n",
            "|    success|\n",
            "|    failure|\n",
            "|nonexistent|\n",
            "+-----------+\n",
            "\n"
          ]
        }
      ]
    },
    {
      "cell_type": "code",
      "source": [
        "distinct_names = df.select(df.columns[15]).distinct()\n",
        "distinct_names.show(100)"
      ],
      "metadata": {
        "id": "5fmlX8qYon7l",
        "colab": {
          "base_uri": "https://localhost:8080/"
        },
        "outputId": "d5e588aa-acf5-4e4b-96cc-3e1f4303c403"
      },
      "execution_count": null,
      "outputs": [
        {
          "output_type": "stream",
          "name": "stdout",
          "text": [
            "+------------+\n",
            "|emp_var_rate|\n",
            "+------------+\n",
            "|        -1.7|\n",
            "|        -0.1|\n",
            "|         1.4|\n",
            "|        -1.8|\n",
            "|        -3.0|\n",
            "|        -1.1|\n",
            "|        -2.9|\n",
            "|         1.1|\n",
            "|        -0.2|\n",
            "|        -3.4|\n",
            "+------------+\n",
            "\n"
          ]
        }
      ]
    },
    {
      "cell_type": "code",
      "source": [
        "distinct_names = df.select(df.columns[16]).distinct()\n",
        "distinct_names.show(100)"
      ],
      "metadata": {
        "id": "oH5nNCLZorqL",
        "colab": {
          "base_uri": "https://localhost:8080/"
        },
        "outputId": "9277be2b-1361-46b1-a633-930aa20d3f87"
      },
      "execution_count": null,
      "outputs": [
        {
          "output_type": "stream",
          "name": "stdout",
          "text": [
            "+--------------+\n",
            "|cons_price_idx|\n",
            "+--------------+\n",
            "|        92.201|\n",
            "|        93.369|\n",
            "|        92.713|\n",
            "|        94.215|\n",
            "|        92.963|\n",
            "|        93.444|\n",
            "|        93.749|\n",
            "|        94.601|\n",
            "|        92.469|\n",
            "|          93.2|\n",
            "|        94.055|\n",
            "|        93.798|\n",
            "|        92.756|\n",
            "|        92.649|\n",
            "|        92.431|\n",
            "|        94.199|\n",
            "|        93.994|\n",
            "|        93.876|\n",
            "|        92.843|\n",
            "|        94.465|\n",
            "|        92.893|\n",
            "|        93.918|\n",
            "|        93.075|\n",
            "|        94.767|\n",
            "|        94.027|\n",
            "|        92.379|\n",
            "+--------------+\n",
            "\n"
          ]
        }
      ]
    },
    {
      "cell_type": "code",
      "source": [
        "distinct_names = df.select(df.columns[17]).distinct()\n",
        "distinct_names.show(100)"
      ],
      "metadata": {
        "id": "qajXUemNoulS",
        "colab": {
          "base_uri": "https://localhost:8080/"
        },
        "outputId": "90924584-3b29-4d2e-86f7-35d4d23c7923"
      },
      "execution_count": null,
      "outputs": [
        {
          "output_type": "stream",
          "name": "stdout",
          "text": [
            "+-------------+\n",
            "|cons_conf_idx|\n",
            "+-------------+\n",
            "|        -41.8|\n",
            "|        -34.6|\n",
            "|        -50.0|\n",
            "|        -40.3|\n",
            "|        -42.0|\n",
            "|        -42.7|\n",
            "|        -33.6|\n",
            "|        -40.0|\n",
            "|        -38.3|\n",
            "|        -36.1|\n",
            "|        -40.8|\n",
            "|        -40.4|\n",
            "|        -49.5|\n",
            "|        -29.8|\n",
            "|        -33.0|\n",
            "|        -45.9|\n",
            "|        -34.8|\n",
            "|        -37.5|\n",
            "|        -36.4|\n",
            "|        -31.4|\n",
            "|        -39.8|\n",
            "|        -47.1|\n",
            "|        -50.8|\n",
            "|        -30.1|\n",
            "|        -46.2|\n",
            "|        -26.9|\n",
            "+-------------+\n",
            "\n"
          ]
        }
      ]
    },
    {
      "cell_type": "code",
      "source": [
        "distinct_names = df.select(df.columns[18]).distinct()\n",
        "distinct_names.show(100)"
      ],
      "metadata": {
        "id": "OwVjJsOKox00",
        "colab": {
          "base_uri": "https://localhost:8080/"
        },
        "outputId": "cd57babe-27f5-4792-89aa-149a06183c23"
      },
      "execution_count": null,
      "outputs": [
        {
          "output_type": "stream",
          "name": "stdout",
          "text": [
            "+---------+\n",
            "|euribor3m|\n",
            "+---------+\n",
            "|    1.757|\n",
            "|    4.592|\n",
            "|    4.967|\n",
            "|    1.435|\n",
            "|    4.223|\n",
            "|    0.716|\n",
            "|     0.84|\n",
            "|    0.645|\n",
            "|    0.744|\n",
            "|     1.41|\n",
            "|    1.059|\n",
            "|    0.773|\n",
            "|    0.886|\n",
            "|    1.614|\n",
            "|    1.206|\n",
            "|    0.894|\n",
            "|    3.669|\n",
            "|    4.964|\n",
            "|    4.245|\n",
            "|     0.87|\n",
            "|    0.878|\n",
            "|    0.881|\n",
            "|    0.714|\n",
            "|    4.406|\n",
            "|    1.574|\n",
            "|    0.717|\n",
            "|    0.819|\n",
            "|    0.869|\n",
            "|    4.957|\n",
            "|    0.825|\n",
            "|    0.713|\n",
            "|    0.697|\n",
            "|    0.767|\n",
            "|    0.688|\n",
            "|     0.89|\n",
            "|    0.702|\n",
            "|    0.965|\n",
            "|    0.822|\n",
            "|    0.731|\n",
            "|     1.25|\n",
            "|    0.854|\n",
            "|    0.829|\n",
            "|    4.866|\n",
            "|    1.039|\n",
            "|    1.029|\n",
            "|    4.191|\n",
            "|    1.479|\n",
            "|    0.668|\n",
            "|    0.634|\n",
            "|    0.743|\n",
            "|    4.864|\n",
            "|    0.653|\n",
            "|    0.712|\n",
            "|    0.927|\n",
            "|     1.52|\n",
            "|    1.016|\n",
            "|    1.045|\n",
            "|    0.755|\n",
            "|    4.912|\n",
            "|    4.962|\n",
            "|    4.794|\n",
            "|    0.695|\n",
            "|      1.4|\n",
            "|     0.79|\n",
            "|     0.72|\n",
            "|     1.05|\n",
            "|    0.642|\n",
            "|    0.672|\n",
            "|    4.858|\n",
            "|    0.788|\n",
            "|    0.753|\n",
            "|    0.851|\n",
            "|      0.7|\n",
            "|    0.735|\n",
            "|    1.548|\n",
            "|    1.372|\n",
            "|    0.638|\n",
            "|    0.749|\n",
            "|    0.803|\n",
            "|    4.021|\n",
            "|    1.025|\n",
            "|    0.979|\n",
            "|    1.453|\n",
            "|    0.821|\n",
            "|    1.538|\n",
            "|    0.877|\n",
            "|    0.937|\n",
            "|     4.12|\n",
            "|    0.721|\n",
            "|    0.711|\n",
            "|    4.859|\n",
            "|    1.047|\n",
            "|    4.474|\n",
            "|    1.252|\n",
            "|    1.313|\n",
            "|    0.993|\n",
            "|    1.299|\n",
            "|    1.365|\n",
            "|    0.654|\n",
            "|    1.531|\n",
            "+---------+\n",
            "only showing top 100 rows\n",
            "\n"
          ]
        }
      ]
    },
    {
      "cell_type": "code",
      "source": [
        "distinct_names = df.select(df.columns[19]).distinct()\n",
        "distinct_names.show(100)"
      ],
      "metadata": {
        "id": "HxCS30_Wo6YP",
        "colab": {
          "base_uri": "https://localhost:8080/"
        },
        "outputId": "1e5578a0-3237-42fc-a6f5-763c1235a882"
      },
      "execution_count": null,
      "outputs": [
        {
          "output_type": "stream",
          "name": "stdout",
          "text": [
            "+-----------+\n",
            "|nr_employed|\n",
            "+-----------+\n",
            "|     5191.0|\n",
            "|     5228.1|\n",
            "|     5023.5|\n",
            "|     5195.8|\n",
            "|     5076.2|\n",
            "|     4991.6|\n",
            "|     5099.1|\n",
            "|     5008.7|\n",
            "|     5017.5|\n",
            "|     4963.6|\n",
            "|     5176.3|\n",
            "+-----------+\n",
            "\n"
          ]
        }
      ]
    },
    {
      "cell_type": "code",
      "source": [
        "distinct_names = df.select(df.columns[20]).distinct()\n",
        "distinct_names.show(100)"
      ],
      "metadata": {
        "id": "QrzVf7p-pAka",
        "colab": {
          "base_uri": "https://localhost:8080/"
        },
        "outputId": "00cb06d9-14a9-45f8-cf0c-ae5bfad7c1bf"
      },
      "execution_count": null,
      "outputs": [
        {
          "output_type": "stream",
          "name": "stdout",
          "text": [
            "+---+\n",
            "|  y|\n",
            "+---+\n",
            "|  1|\n",
            "|  0|\n",
            "+---+\n",
            "\n"
          ]
        }
      ]
    },
    {
      "cell_type": "code",
      "source": [
        "df.show(1)"
      ],
      "metadata": {
        "id": "OxKO4QFbuS1M",
        "colab": {
          "base_uri": "https://localhost:8080/"
        },
        "outputId": "457ec818-16bd-4f2d-cfaf-47a18bc2e572"
      },
      "execution_count": null,
      "outputs": [
        {
          "output_type": "stream",
          "name": "stdout",
          "text": [
            "+---+----------+-------+-----------------+-------+-------+----+--------+-----+-----------+--------+--------+-----+--------+-----------+------------+--------------+-------------+---------+-----------+---+---+\n",
            "|age|       job|marital|        education|default|housing|loan| contact|month|day_of_week|duration|campaign|pdays|previous|   poutcome|emp_var_rate|cons_price_idx|cons_conf_idx|euribor3m|nr_employed|  y| id|\n",
            "+---+----------+-------+-----------------+-------+-------+----+--------+-----+-----------+--------+--------+-----+--------+-----------+------------+--------------+-------------+---------+-----------+---+---+\n",
            "| 30|management|married|university.degree|     no|     no|  no|cellular|  mar|        mon|     116|       1|  999|       0|nonexistent|        -1.8|        92.843|        -50.0|    1.811|     5099.1|  1|  0|\n",
            "+---+----------+-------+-----------------+-------+-------+----+--------+-----+-----------+--------+--------+-----+--------+-----------+------------+--------------+-------------+---------+-----------+---+---+\n",
            "only showing top 1 row\n",
            "\n"
          ]
        }
      ]
    },
    {
      "cell_type": "code",
      "source": [
        "df.describe()"
      ],
      "metadata": {
        "id": "-3kGk8NFuDSR",
        "colab": {
          "base_uri": "https://localhost:8080/"
        },
        "outputId": "66a11325-ec44-43bf-8881-b884072643e4"
      },
      "execution_count": null,
      "outputs": [
        {
          "output_type": "execute_result",
          "data": {
            "text/plain": [
              "DataFrame[summary: string, age: string, job: string, marital: string, education: string, default: string, housing: string, loan: string, contact: string, month: string, day_of_week: string, duration: string, campaign: string, pdays: string, previous: string, poutcome: string, emp_var_rate: string, cons_price_idx: string, cons_conf_idx: string, euribor3m: string, nr_employed: string, y: string, id: string]"
            ]
          },
          "metadata": {},
          "execution_count": 40
        }
      ]
    },
    {
      "cell_type": "code",
      "source": [
        "import matplotlib.pyplot as plt\n",
        "import seaborn as sns\n",
        "cc=['age','duration','campaign','pdays','previous','emp_var_rate','cons_price_idx','cons_conf_idx','euribr3m','nr_employed']\n",
        "ii=0\n",
        "for i in [0,10,11,12,13,15,16,17,18,19]:#['age','duration','campaign','pdays','previous','emp_var_rate','cons_price_idx','cons_conf_idx','euribr3m','nr_employed']:\n",
        "  bxp = df.select(df.columns[i]).rdd.flatMap(lambda x: x).collect()\n",
        "  plt.figure()\n",
        "  plt.boxplot(bxp)\n",
        "  col=cc[ii]\n",
        "  ii=ii+1\n",
        "  plt.title(f\" boxplot of {col}\")\n",
        "  plt.show()"
      ],
      "metadata": {
        "colab": {
          "base_uri": "https://localhost:8080/",
          "height": 1000
        },
        "id": "avmLDNujpDva",
        "outputId": "6dbdeac1-03a8-43d5-8929-b259c444f151"
      },
      "execution_count": null,
      "outputs": [
        {
          "output_type": "display_data",
          "data": {
            "text/plain": [
              "<Figure size 640x480 with 1 Axes>"
            ],
            "image/png": "[encoded data removed]"
          },
          "metadata": {}
        },
        {
          "output_type": "display_data",
          "data": {
            "text/plain": [
              "<Figure size 640x480 with 1 Axes>"
            ],
            "image/png": "[encoded data removed]"
          },
          "metadata": {}
        },
        {
          "output_type": "display_data",
          "data": {
            "text/plain": [
              "<Figure size 640x480 with 1 Axes>"
            ],
            "image/png": "[encoded data removed]"
          },
          "metadata": {}
        },
        {
          "output_type": "display_data",
          "data": {
            "text/plain": [
              "<Figure size 640x480 with 1 Axes>"
            ],
            "image/png": "[encoded data removed]"
          },
          "metadata": {}
        },
        {
          "output_type": "display_data",
          "data": {
            "text/plain": [
              "<Figure size 640x480 with 1 Axes>"
            ],
            "image/png": "[encoded data removed]"
          },
          "metadata": {}
        },
        {
          "output_type": "display_data",
          "data": {
            "text/plain": [
              "<Figure size 640x480 with 1 Axes>"
            ],
            "image/png": "[encoded data removed]"
          },
          "metadata": {}
        },
        {
          "output_type": "display_data",
          "data": {
            "text/plain": [
              "<Figure size 640x480 with 1 Axes>"
            ],
            "image/png": "[encoded data removed]"
          },
          "metadata": {}
        },
        {
          "output_type": "display_data",
          "data": {
            "text/plain": [
              "<Figure size 640x480 with 1 Axes>"
            ],
            "image/png": "[encoded data removed]"
          },
          "metadata": {}
        },
        {
          "output_type": "display_data",
          "data": {
            "text/plain": [
              "<Figure size 640x480 with 1 Axes>"
            ],
            "image/png": "[encoded data removed]"
          },
          "metadata": {}
        },
        {
          "output_type": "display_data",
          "data": {
            "text/plain": [
              "<Figure size 640x480 with 1 Axes>"
            ],
            "image/png": "[encoded data removed]"
          },
          "metadata": {}
        }
      ]
    },
    {
      "cell_type": "code",
      "source": [
        "df_filtered=df\n",
        "quantiles = df.approxQuantile(\"age\", [0.01, 0.99], 0)\n",
        "df_filtered = df.filter((df[\"age\"] >= quantiles[0]) & (df[\"age\"] <= quantiles[1]))\n",
        "bxp = df.select(df.age).rdd.flatMap(lambda x: x).collect()\n",
        "plt.figure()\n",
        "plt.boxplot(bxp)\n",
        "plt.show()\n",
        "bxp = df_filtered.select(df_filtered.age).rdd.flatMap(lambda x: x).collect()\n",
        "plt.figure()\n",
        "plt.boxplot(bxp)\n",
        "plt.show()"
      ],
      "metadata": {
        "id": "e6zBmrrsz9Ze",
        "outputId": "4b6233c0-618c-4595-c9b2-5b6aef5092ca",
        "colab": {
          "base_uri": "https://localhost:8080/",
          "height": 843
        }
      },
      "execution_count": null,
      "outputs": [
        {
          "output_type": "display_data",
          "data": {
            "text/plain": [
              "<Figure size 640x480 with 1 Axes>"
            ],
            "image/png": "[encoded data removed]"
          },
          "metadata": {}
        },
        {
          "output_type": "display_data",
          "data": {
            "text/plain": [
              "<Figure size 640x480 with 1 Axes>"
            ],
            "image/png": "[encoded data removed]"
          },
          "metadata": {}
        }
      ]
    },
    {
      "cell_type": "code",
      "source": [
        "quantiles = df.approxQuantile(\"duration\", [0.01, 0.99], 0)\n",
        "df_filtered = df.filter((df[\"duration\"] >= quantiles[0]) & (df[\"duration\"] <= quantiles[1]))\n",
        "bxp = df.select(df.duration).rdd.flatMap(lambda x: x).collect()\n",
        "plt.figure()\n",
        "plt.boxplot(bxp)\n",
        "plt.show()\n",
        "bxp = df_filtered.select(df_filtered.duration).rdd.flatMap(lambda x: x).collect()\n",
        "plt.figure()\n",
        "plt.boxplot(bxp)\n",
        "plt.show()\n"
      ],
      "metadata": {
        "colab": {
          "base_uri": "https://localhost:8080/",
          "height": 843
        },
        "id": "hYcJIboYNbUE",
        "outputId": "189375ab-2fea-4c6f-9353-731b2c678fae"
      },
      "execution_count": null,
      "outputs": [
        {
          "output_type": "display_data",
          "data": {
            "text/plain": [
              "<Figure size 640x480 with 1 Axes>"
            ],
            "image/png": "[encoded data removed]"
          },
          "metadata": {}
        },
        {
          "output_type": "display_data",
          "data": {
            "text/plain": [
              "<Figure size 640x480 with 1 Axes>"
            ],
            "image/png": "[encoded data removed]"
          },
          "metadata": {}
        }
      ]
    },
    {
      "cell_type": "code",
      "source": [
        "quantiles = df.approxQuantile(\"campaign\", [0.01, 0.99], 0)\n",
        "df_filtered = df.filter((df[\"campaign\"] >= quantiles[0]) & (df[\"campaign\"] <= quantiles[1]))\n",
        "bxp = df.select(df.campaign).rdd.flatMap(lambda x: x).collect()\n",
        "plt.figure()\n",
        "plt.boxplot(bxp)\n",
        "plt.show()\n",
        "bxp = df_filtered.select(df_filtered.campaign).rdd.flatMap(lambda x: x).collect()\n",
        "plt.figure()\n",
        "plt.boxplot(bxp)\n",
        "plt.show()\n"
      ],
      "metadata": {
        "colab": {
          "base_uri": "https://localhost:8080/",
          "height": 843
        },
        "id": "Jq6P1prKNbWk",
        "outputId": "ea67776f-c34e-477d-96ab-9f5041e36d70"
      },
      "execution_count": null,
      "outputs": [
        {
          "output_type": "display_data",
          "data": {
            "text/plain": [
              "<Figure size 640x480 with 1 Axes>"
            ],
            "image/png": "[encoded data removed]"
          },
          "metadata": {}
        },
        {
          "output_type": "display_data",
          "data": {
            "text/plain": [
              "<Figure size 640x480 with 1 Axes>"
            ],
            "image/png": "[encoded data removed]"
          },
          "metadata": {}
        }
      ]
    },
    {
      "cell_type": "code",
      "source": [
        "quantiles = df.approxQuantile(\"pdays\", [0.01, 0.99], 0)\n",
        "df_filtered = df.filter((df[\"pdays\"] >= quantiles[0]) & (df[\"pdays\"] <= quantiles[1]))\n",
        "bxp = df.select(df.pdays).rdd.flatMap(lambda x: x).collect()\n",
        "plt.figure()\n",
        "plt.boxplot(bxp)\n",
        "plt.show()\n",
        "bxp = df_filtered.select(df_filtered.pdays).rdd.flatMap(lambda x: x).collect()\n",
        "plt.figure()\n",
        "plt.boxplot(bxp)\n",
        "plt.show()\n"
      ],
      "metadata": {
        "colab": {
          "base_uri": "https://localhost:8080/",
          "height": 843
        },
        "id": "V12GDB1HPVjO",
        "outputId": "d9318e4d-c40c-45e8-ed91-f5ed534182e6"
      },
      "execution_count": null,
      "outputs": [
        {
          "output_type": "display_data",
          "data": {
            "text/plain": [
              "<Figure size 640x480 with 1 Axes>"
            ],
            "image/png": "[encoded data removed]"
          },
          "metadata": {}
        },
        {
          "output_type": "display_data",
          "data": {
            "text/plain": [
              "<Figure size 640x480 with 1 Axes>"
            ],
            "image/png": "[encoded data removed]"
          },
          "metadata": {}
        }
      ]
    },
    {
      "cell_type": "code",
      "source": [
        "quantiles = df.approxQuantile(\"previous\", [0.01, 0.99], 0)\n",
        "df_filtered = df.filter((df[\"previous\"] >= quantiles[0]) & (df[\"previous\"] <= quantiles[1]))\n",
        "bxp = df.select(df.previous).rdd.flatMap(lambda x: x).collect()\n",
        "plt.figure()\n",
        "plt.boxplot(bxp)\n",
        "plt.show()\n",
        "bxp = df_filtered.select(df_filtered.previous).rdd.flatMap(lambda x: x).collect()\n",
        "plt.figure()\n",
        "plt.boxplot(bxp)\n",
        "plt.show()\n"
      ],
      "metadata": {
        "colab": {
          "base_uri": "https://localhost:8080/",
          "height": 843
        },
        "id": "KjLpZfaiPVlm",
        "outputId": "cc7c74f9-88f5-4246-df47-7b95363ac450"
      },
      "execution_count": null,
      "outputs": [
        {
          "output_type": "display_data",
          "data": {
            "text/plain": [
              "<Figure size 640x480 with 1 Axes>"
            ],
            "image/png": "[encoded data removed]"
          },
          "metadata": {}
        },
        {
          "output_type": "display_data",
          "data": {
            "text/plain": [
              "<Figure size 640x480 with 1 Axes>"
            ],
            "image/png": "[encoded data removed]"
          },
          "metadata": {}
        }
      ]
    },
    {
      "cell_type": "code",
      "source": [
        "categorical_cols=[0]*9\n",
        "categorical_cols[0:8]=df.columns[1:10]\n",
        "categorical_cols[9]=df.columns[14]"
      ],
      "metadata": {
        "id": "L2udzE3CQtHU"
      },
      "execution_count": null,
      "outputs": []
    },
    {
      "cell_type": "code",
      "source": [
        "from pyspark.ml.feature import OneHotEncoder, StringIndexer\n",
        "\n",
        "# Define the StringIndexer for each categorical column\n",
        "indexers = [StringIndexer(inputCol=column, outputCol=column+\"_index\", handleInvalid='skip')\n",
        "            for column in categorical_cols]\n",
        "\n",
        "# Define the OneHotEncoderEstimator to one-hot-encode the indexed columns\n",
        "encoder = OneHotEncoder(inputCols=[indexer.getOutputCol() for indexer in indexers],\n",
        "                                 outputCols=[column+\"_onehot\" for column in categorical_cols])\n",
        "\n",
        "# Apply the encoders and join the one-hot-encoded features with the numeric features\n",
        "pipeline = Pipeline(stages=indexers + [encoder])\n",
        "model = pipeline.fit(df)\n",
        "transformed_data = model.transform(df)\n",
        "transformed_data.show(1)"
      ],
      "metadata": {
        "colab": {
          "base_uri": "https://localhost:8080/"
        },
        "id": "bkXW58muNbbm",
        "outputId": "3870ef85-0a28-4104-a4ac-ba68125c011f"
      },
      "execution_count": null,
      "outputs": [
        {
          "output_type": "stream",
          "name": "stdout",
          "text": [
            "+---+----------+-------+-----------------+-------+-------+----+--------+-----+-----------+--------+--------+-----+--------+-----------+------------+--------------+-------------+---------+-----------+---+---+---------+-------------+---------------+-------------+-------------+----------+-------------+-----------+-----------------+--------------+--------------+--------------+----------------+--------------+--------------+-------------+--------------+-------------+------------------+---------------+\n",
            "|age|       job|marital|        education|default|housing|loan| contact|month|day_of_week|duration|campaign|pdays|previous|   poutcome|emp_var_rate|cons_price_idx|cons_conf_idx|euribor3m|nr_employed|  y| id|job_index|marital_index|education_index|default_index|housing_index|loan_index|contact_index|month_index|day_of_week_index|poutcome_index|    job_onehot|marital_onehot|education_onehot|default_onehot|housing_onehot|  loan_onehot|contact_onehot| month_onehot|day_of_week_onehot|poutcome_onehot|\n",
            "+---+----------+-------+-----------------+-------+-------+----+--------+-----+-----------+--------+--------+-----+--------+-----------+------------+--------------+-------------+---------+-----------+---+---+---------+-------------+---------------+-------------+-------------+----------+-------------+-----------+-----------------+--------------+--------------+--------------+----------------+--------------+--------------+-------------+--------------+-------------+------------------+---------------+\n",
            "| 30|management|married|university.degree|     no|     no|  no|cellular|  mar|        mon|     116|       1|  999|       0|nonexistent|        -1.8|        92.843|        -50.0|    1.811|     5099.1|  1|  0|      4.0|          0.0|            0.0|          0.0|          1.0|       0.0|          0.0|        8.0|              1.0|           0.0|(11,[4],[1.0])| (3,[0],[1.0])|   (7,[0],[1.0])| (2,[0],[1.0])| (2,[1],[1.0])|(2,[0],[1.0])| (1,[0],[1.0])|(9,[8],[1.0])|     (4,[1],[1.0])|  (2,[0],[1.0])|\n",
            "+---+----------+-------+-----------------+-------+-------+----+--------+-----+-----------+--------+--------+-----+--------+-----------+------------+--------------+-------------+---------+-----------+---+---+---------+-------------+---------------+-------------+-------------+----------+-------------+-----------+-----------------+--------------+--------------+--------------+----------------+--------------+--------------+-------------+--------------+-------------+------------------+---------------+\n",
            "only showing top 1 row\n",
            "\n"
          ]
        }
      ]
    },
    {
      "cell_type": "code",
      "source": [
        "#numeric_cols=['id','age','duration','campaign','pdays','previous','emp_var_rate','cons_price_idx','cons_conf_idx','euribor3m','nr_employed','job_onehot','marital_onehot','education_onehot','default_onehot','housing_onehot',  'loan_onehot','contact_onehot', 'month_onehot','day_of_week_onehot','poutcome_onehot','y']\n",
        "#df_new = transformed_data.select('id','age','duration','campaign','pdays','previous','emp_var_rate','cons_price_idx','cons_conf_idx','euribor3m','nr_employed','job_onehot','marital_onehot','education_onehot','default_onehot','housing_onehot',  'loan_onehot','contact_onehot', 'month_onehot','day_of_week_onehot','poutcome_onehot','y')\n",
        "#df_new.show(5)"
      ],
      "metadata": {
        "colab": {
          "base_uri": "https://localhost:8080/"
        },
        "id": "F8JSFThZd4td",
        "outputId": "713061e4-9da9-4564-d20a-d4fc8ceef907"
      },
      "execution_count": null,
      "outputs": [
        {
          "output_type": "stream",
          "name": "stdout",
          "text": [
            "+---+---+--------+--------+-----+--------+------------+--------------+-------------+---------+-----------+---------------+--------------+----------------+--------------+--------------+-------------+--------------+-------------+------------------+---------------+---+\n",
            "| id|age|duration|campaign|pdays|previous|emp_var_rate|cons_price_idx|cons_conf_idx|euribor3m|nr_employed|     job_onehot|marital_onehot|education_onehot|default_onehot|housing_onehot|  loan_onehot|contact_onehot| month_onehot|day_of_week_onehot|poutcome_onehot|  y|\n",
            "+---+---+--------+--------+-----+--------+------------+--------------+-------------+---------+-----------+---------------+--------------+----------------+--------------+--------------+-------------+--------------+-------------+------------------+---------------+---+\n",
            "|  0| 30|     116|       1|  999|       0|        -1.8|        92.843|        -50.0|    1.811|     5099.1| (11,[4],[1.0])| (3,[0],[1.0])|   (7,[0],[1.0])| (2,[0],[1.0])| (2,[1],[1.0])|(2,[0],[1.0])| (1,[0],[1.0])|(9,[8],[1.0])|     (4,[1],[1.0])|  (2,[0],[1.0])|  1|\n",
            "|  1| 34|     146|       1|  999|       0|         1.4|        93.444|        -36.1|    4.968|     5228.1| (11,[0],[1.0])| (3,[0],[1.0])|   (7,[0],[1.0])| (2,[1],[1.0])| (2,[1],[1.0])|(2,[0],[1.0])| (1,[0],[1.0])|(9,[2],[1.0])|     (4,[3],[1.0])|  (2,[0],[1.0])|  0|\n",
            "|  2| 27|     120|       1|  999|       0|         1.4|        93.918|        -42.7|    4.961|     5228.1| (11,[9],[1.0])| (3,[1],[1.0])|   (7,[0],[1.0])| (2,[0],[1.0])| (2,[0],[1.0])|(2,[0],[1.0])| (1,[0],[1.0])|(9,[1],[1.0])|     (4,[3],[1.0])|  (2,[0],[1.0])|  0|\n",
            "|  3| 32|     209|       1|  999|       0|        -1.8|        92.893|        -46.2|    1.313|     5099.1|(11,[10],[1.0])| (3,[1],[1.0])|   (7,[0],[1.0])| (2,[0],[1.0])| (2,[1],[1.0])|(2,[0],[1.0])| (1,[0],[1.0])|(9,[0],[1.0])|         (4,[],[])|  (2,[0],[1.0])|  0|\n",
            "|  4| 30|     454|      18|  999|       0|         1.4|        93.918|        -42.7|    4.968|     5228.1| (11,[3],[1.0])| (3,[1],[1.0])|   (7,[1],[1.0])| (2,[1],[1.0])| (2,[1],[1.0])|(2,[0],[1.0])|     (1,[],[])|(9,[1],[1.0])|     (4,[0],[1.0])|  (2,[0],[1.0])|  0|\n",
            "+---+---+--------+--------+-----+--------+------------+--------------+-------------+---------+-----------+---------------+--------------+----------------+--------------+--------------+-------------+--------------+-------------+------------------+---------------+---+\n",
            "only showing top 5 rows\n",
            "\n"
          ]
        }
      ]
    },
    {
      "cell_type": "code",
      "source": [
        "from pyspark.sql.functions import corr\n",
        "numeric_cols=['id','age','duration','campaign','pdays','previous','emp_var_rate','cons_price_idx','euribor3m','nr_employed','job_index','marital_index','education_index','default_index','housing_index',  'loan_index','contact_index', 'month_index','day_of_week_index','poutcome_index','y']\n",
        "lisst=[]\n",
        "for col in numeric_cols:\n",
        "  correlation = transformed_data.select(corr(\"y\", col)).collect()[0][0]\n",
        "  if correlation>0.1 or correlation<-0.1:\n",
        "    lisst.append(col)\n",
        "    print(f\"The correlation between 'label' and {col} is {correlation}\")\n",
        "print(lisst)"
      ],
      "metadata": {
        "colab": {
          "base_uri": "https://localhost:8080/"
        },
        "id": "HZidErimNbec",
        "outputId": "8be3f2cf-2961-4772-b424-122f63273546"
      },
      "execution_count": null,
      "outputs": [
        {
          "output_type": "stream",
          "name": "stdout",
          "text": [
            "The correlation between 'label' and duration is 0.40529726126852683\n",
            "The correlation between 'label' and pdays is -0.3249475863855849\n",
            "The correlation between 'label' and previous is 0.23020157021544851\n",
            "The correlation between 'label' and emp_var_rate is -0.29828850424620634\n",
            "The correlation between 'label' and cons_price_idx is -0.13613397100783486\n",
            "The correlation between 'label' and euribor3m is -0.3077403955846894\n",
            "The correlation between 'label' and nr_employed is -0.35466901538267526\n",
            "The correlation between 'label' and contact_index is -0.144774216615885\n",
            "The correlation between 'label' and month_index is 0.2227774876127229\n",
            "The correlation between 'label' and poutcome_index is 0.2703989464189324\n",
            "The correlation between 'label' and y is 1.0\n",
            "['duration', 'pdays', 'previous', 'emp_var_rate', 'cons_price_idx', 'euribor3m', 'nr_employed', 'contact_index', 'month_index', 'poutcome_index', 'y']\n"
          ]
        }
      ]
    },
    {
      "cell_type": "code",
      "source": [
        "'id','age','duration','campaign','pdays','previous','emp_var_rate','cons_price_idx','euribor3m','nr_employed','job_index','marital_index','education_index','default_index','housing_index',  'loan_index','contact_index', 'month_index','day_of_week_index','poutcome_index','y'"
      ],
      "metadata": {
        "id": "fbfDqoZINbuU"
      },
      "execution_count": null,
      "outputs": []
    },
    {
      "cell_type": "code",
      "source": [
        "df_new = transformed_data.select('id','age','duration','campaign','pdays','previous','emp_var_rate','cons_price_idx','euribor3m','nr_employed','job_index','marital_index','education_index','default_index','housing_index',  'loan_index','contact_index', 'month_index','day_of_week_index','poutcome_index','y')"
      ],
      "metadata": {
        "id": "9bi9CZ7_Nbxj"
      },
      "execution_count": null,
      "outputs": []
    },
    {
      "cell_type": "code",
      "source": [
        "DF=df_new.toPandas()\n",
        "from seaborn import heatmap\n",
        "heatmap(DF.corr())"
      ],
      "metadata": {
        "id": "l4WSS23oz-HK",
        "colab": {
          "base_uri": "https://localhost:8080/",
          "height": 573
        },
        "outputId": "08f4527a-a70a-42ac-a88e-3a79a2bfeb17"
      },
      "execution_count": null,
      "outputs": [
        {
          "output_type": "execute_result",
          "data": {
            "text/plain": [
              "<Axes: >"
            ]
          },
          "metadata": {},
          "execution_count": 58
        },
        {
          "output_type": "display_data",
          "data": {
            "text/plain": [
              "<Figure size 640x480 with 2 Axes>"
            ],
            "image/png": "[encoded data removed]"
          },
          "metadata": {}
        }
      ]
    },
    {
      "cell_type": "code",
      "source": [
        "df_new = transformed_data.select('duration', 'pdays', 'previous', 'emp_var_rate', 'cons_price_idx', 'euribor3m', 'nr_employed', 'contact_index', 'month_index', 'poutcome_index', 'y')"
      ],
      "metadata": {
        "id": "GFBlUN9jMeiS"
      },
      "execution_count": null,
      "outputs": []
    },
    {
      "cell_type": "code",
      "source": [
        "df_new.show(1)"
      ],
      "metadata": {
        "colab": {
          "base_uri": "https://localhost:8080/"
        },
        "id": "ghpmWrLNonNs",
        "outputId": "f4770fa8-1b8f-4022-cd60-e5fa4adc88f7"
      },
      "execution_count": null,
      "outputs": [
        {
          "output_type": "stream",
          "name": "stdout",
          "text": [
            "+--------+-----+--------+------------+--------------+---------+-----------+-------------+-----------+--------------+---+\n",
            "|duration|pdays|previous|emp_var_rate|cons_price_idx|euribor3m|nr_employed|contact_index|month_index|poutcome_index|  y|\n",
            "+--------+-----+--------+------------+--------------+---------+-----------+-------------+-----------+--------------+---+\n",
            "|     116|  999|       0|        -1.8|        92.843|    1.811|     5099.1|          0.0|        8.0|           0.0|  1|\n",
            "+--------+-----+--------+------------+--------------+---------+-----------+-------------+-----------+--------------+---+\n",
            "only showing top 1 row\n",
            "\n"
          ]
        }
      ]
    },
    {
      "cell_type": "code",
      "source": [
        "hasher = FeatureHasher(inputCols=['duration', 'pdays', 'previous', 'emp_var_rate', 'cons_price_idx', 'euribor3m', 'nr_employed', 'contact_index', 'month_index', 'poutcome_index'],\n",
        "                       outputCol=\"features\")\n",
        "featurized = hasher.transform(df_new)\n",
        "featurized.show(1)"
      ],
      "metadata": {
        "colab": {
          "base_uri": "https://localhost:8080/"
        },
        "id": "CeAHwmm8o7wc",
        "outputId": "a0cc1371-3b71-4e01-9c51-1eb80bec239a"
      },
      "execution_count": null,
      "outputs": [
        {
          "output_type": "stream",
          "name": "stdout",
          "text": [
            "+--------+-----+--------+------------+--------------+---------+-----------+-------------+-----------+--------------+---+----------------------------------------------------------------------------------------------------------------------------------+\n",
            "|duration|pdays|previous|emp_var_rate|cons_price_idx|euribor3m|nr_employed|contact_index|month_index|poutcome_index|y  |features                                                                                                                          |\n",
            "+--------+-----+--------+------------+--------------+---------+-----------+-------------+-----------+--------------+---+----------------------------------------------------------------------------------------------------------------------------------+\n",
            "|116     |999  |0       |-1.8        |92.843        |1.811    |5099.1     |0.0          |8.0        |0.0           |1  |(262144,[13117,38765,39701,54209,71736,141943,150734,185507,205745,238671],[0.0,0.0,-1.8,116.0,5099.1,0.0,92.843,8.0,1.811,999.0])|\n",
            "|146     |999  |0       |1.4         |93.444        |4.968    |5228.1     |0.0          |2.0        |0.0           |0  |(262144,[13117,38765,39701,54209,71736,141943,150734,185507,205745,238671],[0.0,0.0,1.4,146.0,5228.1,0.0,93.444,2.0,4.968,999.0]) |\n",
            "|120     |999  |0       |1.4         |93.918        |4.961    |5228.1     |0.0          |1.0        |0.0           |0  |(262144,[13117,38765,39701,54209,71736,141943,150734,185507,205745,238671],[0.0,0.0,1.4,120.0,5228.1,0.0,93.918,1.0,4.961,999.0]) |\n",
            "|209     |999  |0       |-1.8        |92.893        |1.313    |5099.1     |0.0          |0.0        |0.0           |0  |(262144,[13117,38765,39701,54209,71736,141943,150734,185507,205745,238671],[0.0,0.0,-1.8,209.0,5099.1,0.0,92.893,0.0,1.313,999.0])|\n",
            "|454     |999  |0       |1.4         |93.918        |4.968    |5228.1     |1.0          |1.0        |0.0           |0  |(262144,[13117,38765,39701,54209,71736,141943,150734,185507,205745,238671],[0.0,0.0,1.4,454.0,5228.1,1.0,93.918,1.0,4.968,999.0]) |\n",
            "|348     |999  |0       |1.4         |93.444        |4.965    |5228.1     |0.0          |2.0        |0.0           |0  |(262144,[13117,38765,39701,54209,71736,141943,150734,185507,205745,238671],[0.0,0.0,1.4,348.0,5228.1,0.0,93.444,2.0,4.965,999.0]) |\n",
            "|145     |999  |0       |1.4         |93.918        |4.96     |5228.1     |0.0          |1.0        |0.0           |0  |(262144,[13117,38765,39701,54209,71736,141943,150734,185507,205745,238671],[0.0,0.0,1.4,145.0,5228.1,0.0,93.918,1.0,4.96,999.0])  |\n",
            "|245     |999  |1       |-1.8        |92.893        |1.327    |5099.1     |0.0          |0.0        |1.0           |0  |(262144,[13117,38765,39701,54209,71736,141943,150734,185507,205745,238671],[1.0,1.0,-1.8,245.0,5099.1,0.0,92.893,0.0,1.327,999.0])|\n",
            "|351     |999  |0       |-1.8        |93.075        |1.405    |5099.1     |0.0          |5.0        |0.0           |0  |(262144,[13117,38765,39701,54209,71736,141943,150734,185507,205745,238671],[0.0,0.0,-1.8,351.0,5099.1,0.0,93.075,5.0,1.405,999.0])|\n",
            "|207     |999  |0       |1.1         |93.994        |4.857    |5191.0     |1.0          |0.0        |0.0           |0  |(262144,[13117,38765,39701,54209,71736,141943,150734,185507,205745,238671],[0.0,0.0,1.1,207.0,5191.0,1.0,93.994,0.0,4.857,999.0]) |\n",
            "|94      |999  |0       |1.4         |93.444        |4.963    |5228.1     |0.0          |2.0        |0.0           |0  |(262144,[13117,38765,39701,54209,71736,141943,150734,185507,205745,238671],[0.0,0.0,1.4,94.0,5228.1,0.0,93.444,2.0,4.963,999.0])  |\n",
            "|415     |999  |0       |1.1         |93.994        |4.858    |5191.0     |1.0          |0.0        |0.0           |0  |(262144,[13117,38765,39701,54209,71736,141943,150734,185507,205745,238671],[0.0,0.0,1.1,415.0,5191.0,1.0,93.994,0.0,4.858,999.0]) |\n",
            "|202     |999  |0       |-1.8        |92.893        |1.327    |5099.1     |0.0          |0.0        |0.0           |0  |(262144,[13117,38765,39701,54209,71736,141943,150734,185507,205745,238671],[0.0,0.0,-1.8,202.0,5099.1,0.0,92.893,0.0,1.327,999.0])|\n",
            "|115     |999  |0       |1.4         |93.444        |4.963    |5228.1     |0.0          |2.0        |0.0           |0  |(262144,[13117,38765,39701,54209,71736,141943,150734,185507,205745,238671],[0.0,0.0,1.4,115.0,5228.1,0.0,93.444,2.0,4.963,999.0]) |\n",
            "|84      |999  |0       |1.1         |93.994        |4.86     |5191.0     |1.0          |0.0        |0.0           |0  |(262144,[13117,38765,39701,54209,71736,141943,150734,185507,205745,238671],[0.0,0.0,1.1,84.0,5191.0,1.0,93.994,0.0,4.86,999.0])   |\n",
            "|401     |999  |0       |-1.7        |94.055        |0.761    |4991.6     |0.0          |3.0        |0.0           |1  |(262144,[13117,38765,39701,54209,71736,141943,150734,185507,205745,238671],[0.0,0.0,-1.7,401.0,4991.6,0.0,94.055,3.0,0.761,999.0])|\n",
            "|265     |999  |0       |1.1         |93.994        |4.857    |5191.0     |1.0          |0.0        |0.0           |0  |(262144,[13117,38765,39701,54209,71736,141943,150734,185507,205745,238671],[0.0,0.0,1.1,265.0,5191.0,1.0,93.994,0.0,4.857,999.0]) |\n",
            "|49      |999  |0       |-2.9        |92.201        |0.883    |5076.2     |1.0          |2.0        |0.0           |0  |(262144,[13117,38765,39701,54209,71736,141943,150734,185507,205745,238671],[0.0,0.0,-2.9,49.0,5076.2,1.0,92.201,2.0,0.883,999.0]) |\n",
            "|15      |999  |0       |1.4         |94.465        |4.962    |5228.1     |1.0          |3.0        |0.0           |0  |(262144,[13117,38765,39701,54209,71736,141943,150734,185507,205745,238671],[0.0,0.0,1.4,15.0,5228.1,1.0,94.465,3.0,4.962,999.0])  |\n",
            "|129     |999  |0       |1.4         |93.918        |4.961    |5228.1     |0.0          |1.0        |0.0           |0  |(262144,[13117,38765,39701,54209,71736,141943,150734,185507,205745,238671],[0.0,0.0,1.4,129.0,5228.1,0.0,93.918,1.0,4.961,999.0]) |\n",
            "+--------+-----+--------+------------+--------------+---------+-----------+-------------+-----------+--------------+---+----------------------------------------------------------------------------------------------------------------------------------+\n",
            "only showing top 20 rows\n",
            "\n"
          ]
        }
      ]
    },
    {
      "cell_type": "code",
      "source": [
        "from pyspark.ml.feature import VectorAssembler\n",
        "from pyspark.ml.feature import StandardScaler\n",
        "\n",
        "# انتخاب تمامی ستون‌های عددی\n",
        "numeric_cols = ['duration', 'pdays', 'previous', 'emp_var_rate', 'cons_price_idx', 'euribor3m', 'nr_employed', 'contact_index', 'month_index', 'poutcome_index']\n",
        "\n",
        "# تبدیل تمام ستون‌های انتخاب شده به یک ستون وکتور\n",
        "assembler = VectorAssembler(inputCols=numeric_cols, outputCol=\"features\")\n",
        "output = assembler.transform(df_new).select(\"features\",'y')\n",
        "\n",
        "# نرمالایز کردن ویژگی‌ها\n",
        "scaler = StandardScaler(inputCol=\"features\", outputCol=\"scaledFeatures\",\n",
        "                        withStd=True, withMean=False)\n",
        "scalerModel = scaler.fit(output)\n",
        "scaledData = scalerModel.transform(output)\n",
        "scaledData.show()"
      ],
      "metadata": {
        "colab": {
          "base_uri": "https://localhost:8080/"
        },
        "id": "ZiHkj0rwwIYk",
        "outputId": "36632ae0-205d-41b1-dab0-327b4cb77b76"
      },
      "execution_count": 109,
      "outputs": [
        {
          "output_type": "stream",
          "name": "stdout",
          "text": [
            "+--------------------+---+--------------------+\n",
            "|            features|  y|      scaledFeatures|\n",
            "+--------------------+---+--------------------+\n",
            "|[116.0,999.0,0.0,...|  1|[0.44734909246407...|\n",
            "|[146.0,999.0,0.0,...|  0|[0.56304282327375...|\n",
            "|[120.0,999.0,0.0,...|  0|[0.46277492323870...|\n",
            "|[209.0,999.0,0.0,...|  0|[0.80599965797407...|\n",
            "|[454.0,999.0,0.0,...|  0|[1.75083179291976...|\n",
            "|[348.0,999.0,0.0,...|  0|[1.34204727739223...|\n",
            "|[145.0,999.0,0.0,...|  0|[0.55918636558009...|\n",
            "|[245.0,999.0,1.0,...|  0|[0.94483213494568...|\n",
            "|[351.0,999.0,0.0,...|  0|[1.35361665047320...|\n",
            "|[207.0,999.0,0.0,...|  0|[0.79828674258676...|\n",
            "|[94.0,999.0,0.0,1...|  0|[0.36250702320365...|\n",
            "|[415.0,999.0,0.0,...|  0|[1.60042994286718...|\n",
            "|[202.0,999.0,0.0,...|  0|[0.77900445411848...|\n",
            "|[115.0,999.0,0.0,...|  0|[0.44349263477042...|\n",
            "|[84.0,999.0,0.0,1...|  0|[0.32394244626709...|\n",
            "|[401.0,999.0,0.0,...|  1|[1.546439535156,5...|\n",
            "|[265.0,999.0,0.0,...|  0|[1.02196128881880...|\n",
            "|[49.0,999.0,0.0,-...|  0|[0.18896642698913...|\n",
            "|[15.0,999.0,0.0,1...|  0|[0.05784686540483...|\n",
            "|[129.0,999.0,0.0,...|  0|[0.49748304248160...|\n",
            "+--------------------+---+--------------------+\n",
            "only showing top 20 rows\n",
            "\n"
          ]
        }
      ]
    },
    {
      "cell_type": "code",
      "source": [
        "from pyspark.ml.classification import LogisticRegression\n",
        "from pyspark.ml.linalg import Vectors\n",
        "from pyspark.ml.feature import VectorAssembler\n",
        "from pyspark.ml.evaluation import BinaryClassificationEvaluator\n",
        "\n",
        "train_data, test_data =scaledData.randomSplit([0.8, 0.2], seed=100)\n",
        "accuracy=0\n",
        "Recall=0\n",
        "Precision=0\n",
        "F_Measure=0\n",
        "n=10\n",
        "for i in range(n):\n",
        "  lr = LogisticRegression(labelCol=\"y\", featuresCol=\"scaledFeatures\")\n",
        "  lrModel = lr.fit(train_data)\n",
        "  predictions = lrModel.transform(test_data)\n",
        "  #predictions.show()\n",
        "  evaluator = BinaryClassificationEvaluator(labelCol=\"y\",rawPredictionCol=\"rawPrediction\")\n",
        "  predictions = lrModel.transform(test_data)\n",
        "  predictions.groupBy('y', 'prediction').count().show()\n",
        "  TN = predictions.filter('prediction = 0 AND y = prediction').count()\n",
        "  TP = predictions.filter('prediction = 1 AND y = prediction').count()\n",
        "  FN = predictions.filter('prediction = 0 AND y = 1').count()\n",
        "  FP = predictions.filter('prediction = 1 AND y = 0').count()\n",
        "  accuracy =accuracy+ (TN + TP) / (TN + TP + FN + FP)\n",
        "  Precision =Precision+ TP/(TP+FP)\n",
        "  Recall =Recall+ TP/(TP+FN)\n",
        "  F_Measure=F_Measure+(2*Precision*Recall)/(Precision+Recall)\n",
        "\n",
        "print(accuracy/n)\n",
        "print(Precision/n)\n",
        "print(Recall/n)\n",
        "print(F_Measure/n)"
      ],
      "metadata": {
        "id": "2bldldl1tmST",
        "colab": {
          "base_uri": "https://localhost:8080/"
        },
        "outputId": "034cf8f5-2381-494b-ccad-752bf4de0d53"
      },
      "execution_count": 120,
      "outputs": [
        {
          "output_type": "stream",
          "name": "stdout",
          "text": [
            "+--------------------+---+--------------------+--------------------+--------------------+----------+\n",
            "|            features|  y|      scaledFeatures|       rawPrediction|         probability|prediction|\n",
            "+--------------------+---+--------------------+--------------------+--------------------+----------+\n",
            "|(17,[0,1,2,3,7,8,...|  1|(17,[0,1,2,3,7,8,...|[1.24542709218735...|[0.77650726525855...|       0.0|\n",
            "|(17,[0,1,2,3,7,8,...|  0|(17,[0,1,2,3,7,8,...|[3.44991852253142...|[0.96922871071775...|       0.0|\n",
            "|(17,[0,1,2,3,7,8,...|  0|(17,[0,1,2,3,7,8,...|[3.07871672290329...|[0.95600624371609...|       0.0|\n",
            "|(17,[0,1,2,3,7,8,...|  0|(17,[0,1,2,3,7,8,...|[2.25070483388791...|[0.90471131528551...|       0.0|\n",
            "|(17,[0,1,2,3,7,8,...|  0|(17,[0,1,2,3,7,8,...|[3.00858784159754...|[0.95296059239434...|       0.0|\n",
            "|(17,[0,1,2,3,7,8,...|  0|(17,[0,1,2,3,7,8,...|[1.68546061857431...|[0.84362625382054...|       0.0|\n",
            "|(17,[0,1,2,3,7,8,...|  1|(17,[0,1,2,3,7,8,...|[2.14659357277445...|[0.89535002983203...|       0.0|\n",
            "|(17,[0,1,2,3,7,8,...|  1|(17,[0,1,2,3,7,8,...|[0.06698846773404...|[0.51674085708170...|       0.0|\n",
            "|(17,[0,1,2,3,7,8,...|  1|(17,[0,1,2,3,7,8,...|[0.62287806963690...|[0.65087283725290...|       0.0|\n",
            "|(17,[0,1,2,3,7,8,...|  1|(17,[0,1,2,3,7,8,...|[0.56974389695682...|[0.63870407860834...|       0.0|\n",
            "|(17,[0,1,2,3,7,8,...|  0|(17,[0,1,2,3,7,8,...|[2.78659329925347...|[0.94194703696147...|       0.0|\n",
            "|(17,[0,1,2,3,7,8,...|  0|(17,[0,1,2,3,7,8,...|[3.04890278491672...|[0.95473513296622...|       0.0|\n",
            "|(17,[0,1,2,3,7,8,...|  1|(17,[0,1,2,3,7,8,...|[0.14848689723104...|[0.53705366826529...|       0.0|\n",
            "|(17,[0,1,2,4,7,8,...|  0|(17,[0,1,2,4,7,8,...|[2.54295911398748...|[0.92709907531485...|       0.0|\n",
            "|(17,[0,1,2,4,7,8,...|  0|(17,[0,1,2,4,7,8,...|[-1.5001458245818...|[0.18240377559454...|       1.0|\n",
            "|(17,[0,1,2,4,7,8,...|  0|(17,[0,1,2,4,7,8,...|[-0.6441472819383...|[0.34430964329317...|       1.0|\n",
            "|(17,[0,1,2,4,7,8,...|  0|(17,[0,1,2,4,7,8,...|[3.21238895463021...|[0.96129784293727...|       0.0|\n",
            "|(17,[0,1,2,4,7,8,...|  0|(17,[0,1,2,4,7,8,...|[3.14742195507325...|[0.95880701938291...|       0.0|\n",
            "|(17,[0,1,2,4,7,8,...|  0|(17,[0,1,2,4,7,8,...|[1.86948508419448...|[0.86639868617511...|       0.0|\n",
            "|(17,[0,1,2,4,7,8,...|  0|(17,[0,1,2,4,7,8,...|[1.67118159597203...|[0.84173329499496...|       0.0|\n",
            "+--------------------+---+--------------------+--------------------+--------------------+----------+\n",
            "only showing top 20 rows\n",
            "\n",
            "+---+----------+-----+\n",
            "|  y|prediction|count|\n",
            "+---+----------+-----+\n",
            "|  1|       0.0|  529|\n",
            "|  0|       0.0| 7110|\n",
            "|  1|       1.0|  382|\n",
            "|  0|       1.0|  193|\n",
            "+---+----------+-----+\n",
            "\n",
            "+--------------------+---+--------------------+--------------------+--------------------+----------+\n",
            "|            features|  y|      scaledFeatures|       rawPrediction|         probability|prediction|\n",
            "+--------------------+---+--------------------+--------------------+--------------------+----------+\n",
            "|(17,[0,1,2,3,7,8,...|  1|(17,[0,1,2,3,7,8,...|[1.24542709218735...|[0.77650726525855...|       0.0|\n",
            "|(17,[0,1,2,3,7,8,...|  0|(17,[0,1,2,3,7,8,...|[3.44991852253142...|[0.96922871071775...|       0.0|\n",
            "|(17,[0,1,2,3,7,8,...|  0|(17,[0,1,2,3,7,8,...|[3.07871672290329...|[0.95600624371609...|       0.0|\n",
            "|(17,[0,1,2,3,7,8,...|  0|(17,[0,1,2,3,7,8,...|[2.25070483388791...|[0.90471131528551...|       0.0|\n",
            "|(17,[0,1,2,3,7,8,...|  0|(17,[0,1,2,3,7,8,...|[3.00858784159754...|[0.95296059239434...|       0.0|\n",
            "|(17,[0,1,2,3,7,8,...|  0|(17,[0,1,2,3,7,8,...|[1.68546061857431...|[0.84362625382054...|       0.0|\n",
            "|(17,[0,1,2,3,7,8,...|  1|(17,[0,1,2,3,7,8,...|[2.14659357277445...|[0.89535002983203...|       0.0|\n",
            "|(17,[0,1,2,3,7,8,...|  1|(17,[0,1,2,3,7,8,...|[0.06698846773404...|[0.51674085708170...|       0.0|\n",
            "|(17,[0,1,2,3,7,8,...|  1|(17,[0,1,2,3,7,8,...|[0.62287806963690...|[0.65087283725290...|       0.0|\n",
            "|(17,[0,1,2,3,7,8,...|  1|(17,[0,1,2,3,7,8,...|[0.56974389695682...|[0.63870407860834...|       0.0|\n",
            "|(17,[0,1,2,3,7,8,...|  0|(17,[0,1,2,3,7,8,...|[2.78659329925347...|[0.94194703696147...|       0.0|\n",
            "|(17,[0,1,2,3,7,8,...|  0|(17,[0,1,2,3,7,8,...|[3.04890278491672...|[0.95473513296622...|       0.0|\n",
            "|(17,[0,1,2,3,7,8,...|  1|(17,[0,1,2,3,7,8,...|[0.14848689723104...|[0.53705366826529...|       0.0|\n",
            "|(17,[0,1,2,4,7,8,...|  0|(17,[0,1,2,4,7,8,...|[2.54295911398748...|[0.92709907531485...|       0.0|\n",
            "|(17,[0,1,2,4,7,8,...|  0|(17,[0,1,2,4,7,8,...|[-1.5001458245818...|[0.18240377559454...|       1.0|\n",
            "|(17,[0,1,2,4,7,8,...|  0|(17,[0,1,2,4,7,8,...|[-0.6441472819383...|[0.34430964329317...|       1.0|\n",
            "|(17,[0,1,2,4,7,8,...|  0|(17,[0,1,2,4,7,8,...|[3.21238895463021...|[0.96129784293727...|       0.0|\n",
            "|(17,[0,1,2,4,7,8,...|  0|(17,[0,1,2,4,7,8,...|[3.14742195507325...|[0.95880701938291...|       0.0|\n",
            "|(17,[0,1,2,4,7,8,...|  0|(17,[0,1,2,4,7,8,...|[1.86948508419448...|[0.86639868617511...|       0.0|\n",
            "|(17,[0,1,2,4,7,8,...|  0|(17,[0,1,2,4,7,8,...|[1.67118159597203...|[0.84173329499496...|       0.0|\n",
            "+--------------------+---+--------------------+--------------------+--------------------+----------+\n",
            "only showing top 20 rows\n",
            "\n",
            "+---+----------+-----+\n",
            "|  y|prediction|count|\n",
            "+---+----------+-----+\n",
            "|  1|       0.0|  529|\n",
            "|  0|       0.0| 7110|\n",
            "|  1|       1.0|  382|\n",
            "|  0|       1.0|  193|\n",
            "+---+----------+-----+\n",
            "\n",
            "+--------------------+---+--------------------+--------------------+--------------------+----------+\n",
            "|            features|  y|      scaledFeatures|       rawPrediction|         probability|prediction|\n",
            "+--------------------+---+--------------------+--------------------+--------------------+----------+\n",
            "|(17,[0,1,2,3,7,8,...|  1|(17,[0,1,2,3,7,8,...|[1.24542709218735...|[0.77650726525855...|       0.0|\n",
            "|(17,[0,1,2,3,7,8,...|  0|(17,[0,1,2,3,7,8,...|[3.44991852253142...|[0.96922871071775...|       0.0|\n",
            "|(17,[0,1,2,3,7,8,...|  0|(17,[0,1,2,3,7,8,...|[3.07871672290329...|[0.95600624371609...|       0.0|\n",
            "|(17,[0,1,2,3,7,8,...|  0|(17,[0,1,2,3,7,8,...|[2.25070483388791...|[0.90471131528551...|       0.0|\n",
            "|(17,[0,1,2,3,7,8,...|  0|(17,[0,1,2,3,7,8,...|[3.00858784159754...|[0.95296059239434...|       0.0|\n",
            "|(17,[0,1,2,3,7,8,...|  0|(17,[0,1,2,3,7,8,...|[1.68546061857431...|[0.84362625382054...|       0.0|\n",
            "|(17,[0,1,2,3,7,8,...|  1|(17,[0,1,2,3,7,8,...|[2.14659357277445...|[0.89535002983203...|       0.0|\n",
            "|(17,[0,1,2,3,7,8,...|  1|(17,[0,1,2,3,7,8,...|[0.06698846773404...|[0.51674085708170...|       0.0|\n",
            "|(17,[0,1,2,3,7,8,...|  1|(17,[0,1,2,3,7,8,...|[0.62287806963690...|[0.65087283725290...|       0.0|\n",
            "|(17,[0,1,2,3,7,8,...|  1|(17,[0,1,2,3,7,8,...|[0.56974389695682...|[0.63870407860834...|       0.0|\n",
            "|(17,[0,1,2,3,7,8,...|  0|(17,[0,1,2,3,7,8,...|[2.78659329925347...|[0.94194703696147...|       0.0|\n",
            "|(17,[0,1,2,3,7,8,...|  0|(17,[0,1,2,3,7,8,...|[3.04890278491672...|[0.95473513296622...|       0.0|\n",
            "|(17,[0,1,2,3,7,8,...|  1|(17,[0,1,2,3,7,8,...|[0.14848689723104...|[0.53705366826529...|       0.0|\n",
            "|(17,[0,1,2,4,7,8,...|  0|(17,[0,1,2,4,7,8,...|[2.54295911398748...|[0.92709907531485...|       0.0|\n",
            "|(17,[0,1,2,4,7,8,...|  0|(17,[0,1,2,4,7,8,...|[-1.5001458245818...|[0.18240377559454...|       1.0|\n",
            "|(17,[0,1,2,4,7,8,...|  0|(17,[0,1,2,4,7,8,...|[-0.6441472819383...|[0.34430964329317...|       1.0|\n",
            "|(17,[0,1,2,4,7,8,...|  0|(17,[0,1,2,4,7,8,...|[3.21238895463021...|[0.96129784293727...|       0.0|\n",
            "|(17,[0,1,2,4,7,8,...|  0|(17,[0,1,2,4,7,8,...|[3.14742195507325...|[0.95880701938291...|       0.0|\n",
            "|(17,[0,1,2,4,7,8,...|  0|(17,[0,1,2,4,7,8,...|[1.86948508419448...|[0.86639868617511...|       0.0|\n",
            "|(17,[0,1,2,4,7,8,...|  0|(17,[0,1,2,4,7,8,...|[1.67118159597203...|[0.84173329499496...|       0.0|\n",
            "+--------------------+---+--------------------+--------------------+--------------------+----------+\n",
            "only showing top 20 rows\n",
            "\n",
            "+---+----------+-----+\n",
            "|  y|prediction|count|\n",
            "+---+----------+-----+\n",
            "|  1|       0.0|  529|\n",
            "|  0|       0.0| 7110|\n",
            "|  1|       1.0|  382|\n",
            "|  0|       1.0|  193|\n",
            "+---+----------+-----+\n",
            "\n",
            "+--------------------+---+--------------------+--------------------+--------------------+----------+\n",
            "|            features|  y|      scaledFeatures|       rawPrediction|         probability|prediction|\n",
            "+--------------------+---+--------------------+--------------------+--------------------+----------+\n",
            "|(17,[0,1,2,3,7,8,...|  1|(17,[0,1,2,3,7,8,...|[1.24542709218735...|[0.77650726525855...|       0.0|\n",
            "|(17,[0,1,2,3,7,8,...|  0|(17,[0,1,2,3,7,8,...|[3.44991852253142...|[0.96922871071775...|       0.0|\n",
            "|(17,[0,1,2,3,7,8,...|  0|(17,[0,1,2,3,7,8,...|[3.07871672290329...|[0.95600624371609...|       0.0|\n",
            "|(17,[0,1,2,3,7,8,...|  0|(17,[0,1,2,3,7,8,...|[2.25070483388791...|[0.90471131528551...|       0.0|\n",
            "|(17,[0,1,2,3,7,8,...|  0|(17,[0,1,2,3,7,8,...|[3.00858784159754...|[0.95296059239434...|       0.0|\n",
            "|(17,[0,1,2,3,7,8,...|  0|(17,[0,1,2,3,7,8,...|[1.68546061857431...|[0.84362625382054...|       0.0|\n",
            "|(17,[0,1,2,3,7,8,...|  1|(17,[0,1,2,3,7,8,...|[2.14659357277445...|[0.89535002983203...|       0.0|\n",
            "|(17,[0,1,2,3,7,8,...|  1|(17,[0,1,2,3,7,8,...|[0.06698846773404...|[0.51674085708170...|       0.0|\n",
            "|(17,[0,1,2,3,7,8,...|  1|(17,[0,1,2,3,7,8,...|[0.62287806963690...|[0.65087283725290...|       0.0|\n",
            "|(17,[0,1,2,3,7,8,...|  1|(17,[0,1,2,3,7,8,...|[0.56974389695682...|[0.63870407860834...|       0.0|\n",
            "|(17,[0,1,2,3,7,8,...|  0|(17,[0,1,2,3,7,8,...|[2.78659329925347...|[0.94194703696147...|       0.0|\n",
            "|(17,[0,1,2,3,7,8,...|  0|(17,[0,1,2,3,7,8,...|[3.04890278491672...|[0.95473513296622...|       0.0|\n",
            "|(17,[0,1,2,3,7,8,...|  1|(17,[0,1,2,3,7,8,...|[0.14848689723104...|[0.53705366826529...|       0.0|\n",
            "|(17,[0,1,2,4,7,8,...|  0|(17,[0,1,2,4,7,8,...|[2.54295911398748...|[0.92709907531485...|       0.0|\n",
            "|(17,[0,1,2,4,7,8,...|  0|(17,[0,1,2,4,7,8,...|[-1.5001458245818...|[0.18240377559454...|       1.0|\n",
            "|(17,[0,1,2,4,7,8,...|  0|(17,[0,1,2,4,7,8,...|[-0.6441472819383...|[0.34430964329317...|       1.0|\n",
            "|(17,[0,1,2,4,7,8,...|  0|(17,[0,1,2,4,7,8,...|[3.21238895463021...|[0.96129784293727...|       0.0|\n",
            "|(17,[0,1,2,4,7,8,...|  0|(17,[0,1,2,4,7,8,...|[3.14742195507325...|[0.95880701938291...|       0.0|\n",
            "|(17,[0,1,2,4,7,8,...|  0|(17,[0,1,2,4,7,8,...|[1.86948508419448...|[0.86639868617511...|       0.0|\n",
            "|(17,[0,1,2,4,7,8,...|  0|(17,[0,1,2,4,7,8,...|[1.67118159597203...|[0.84173329499496...|       0.0|\n",
            "+--------------------+---+--------------------+--------------------+--------------------+----------+\n",
            "only showing top 20 rows\n",
            "\n",
            "+---+----------+-----+\n",
            "|  y|prediction|count|\n",
            "+---+----------+-----+\n",
            "|  1|       0.0|  529|\n",
            "|  0|       0.0| 7110|\n",
            "|  1|       1.0|  382|\n",
            "|  0|       1.0|  193|\n",
            "+---+----------+-----+\n",
            "\n",
            "+--------------------+---+--------------------+--------------------+--------------------+----------+\n",
            "|            features|  y|      scaledFeatures|       rawPrediction|         probability|prediction|\n",
            "+--------------------+---+--------------------+--------------------+--------------------+----------+\n",
            "|(17,[0,1,2,3,7,8,...|  1|(17,[0,1,2,3,7,8,...|[1.24542709218735...|[0.77650726525855...|       0.0|\n",
            "|(17,[0,1,2,3,7,8,...|  0|(17,[0,1,2,3,7,8,...|[3.44991852253142...|[0.96922871071775...|       0.0|\n",
            "|(17,[0,1,2,3,7,8,...|  0|(17,[0,1,2,3,7,8,...|[3.07871672290329...|[0.95600624371609...|       0.0|\n",
            "|(17,[0,1,2,3,7,8,...|  0|(17,[0,1,2,3,7,8,...|[2.25070483388791...|[0.90471131528551...|       0.0|\n",
            "|(17,[0,1,2,3,7,8,...|  0|(17,[0,1,2,3,7,8,...|[3.00858784159754...|[0.95296059239434...|       0.0|\n",
            "|(17,[0,1,2,3,7,8,...|  0|(17,[0,1,2,3,7,8,...|[1.68546061857431...|[0.84362625382054...|       0.0|\n",
            "|(17,[0,1,2,3,7,8,...|  1|(17,[0,1,2,3,7,8,...|[2.14659357277445...|[0.89535002983203...|       0.0|\n",
            "|(17,[0,1,2,3,7,8,...|  1|(17,[0,1,2,3,7,8,...|[0.06698846773404...|[0.51674085708170...|       0.0|\n",
            "|(17,[0,1,2,3,7,8,...|  1|(17,[0,1,2,3,7,8,...|[0.62287806963690...|[0.65087283725290...|       0.0|\n",
            "|(17,[0,1,2,3,7,8,...|  1|(17,[0,1,2,3,7,8,...|[0.56974389695682...|[0.63870407860834...|       0.0|\n",
            "|(17,[0,1,2,3,7,8,...|  0|(17,[0,1,2,3,7,8,...|[2.78659329925347...|[0.94194703696147...|       0.0|\n",
            "|(17,[0,1,2,3,7,8,...|  0|(17,[0,1,2,3,7,8,...|[3.04890278491672...|[0.95473513296622...|       0.0|\n",
            "|(17,[0,1,2,3,7,8,...|  1|(17,[0,1,2,3,7,8,...|[0.14848689723104...|[0.53705366826529...|       0.0|\n",
            "|(17,[0,1,2,4,7,8,...|  0|(17,[0,1,2,4,7,8,...|[2.54295911398748...|[0.92709907531485...|       0.0|\n",
            "|(17,[0,1,2,4,7,8,...|  0|(17,[0,1,2,4,7,8,...|[-1.5001458245818...|[0.18240377559454...|       1.0|\n",
            "|(17,[0,1,2,4,7,8,...|  0|(17,[0,1,2,4,7,8,...|[-0.6441472819383...|[0.34430964329317...|       1.0|\n",
            "|(17,[0,1,2,4,7,8,...|  0|(17,[0,1,2,4,7,8,...|[3.21238895463021...|[0.96129784293727...|       0.0|\n",
            "|(17,[0,1,2,4,7,8,...|  0|(17,[0,1,2,4,7,8,...|[3.14742195507325...|[0.95880701938291...|       0.0|\n",
            "|(17,[0,1,2,4,7,8,...|  0|(17,[0,1,2,4,7,8,...|[1.86948508419448...|[0.86639868617511...|       0.0|\n",
            "|(17,[0,1,2,4,7,8,...|  0|(17,[0,1,2,4,7,8,...|[1.67118159597203...|[0.84173329499496...|       0.0|\n",
            "+--------------------+---+--------------------+--------------------+--------------------+----------+\n",
            "only showing top 20 rows\n",
            "\n",
            "+---+----------+-----+\n",
            "|  y|prediction|count|\n",
            "+---+----------+-----+\n",
            "|  1|       0.0|  529|\n",
            "|  0|       0.0| 7110|\n",
            "|  1|       1.0|  382|\n",
            "|  0|       1.0|  193|\n",
            "+---+----------+-----+\n",
            "\n",
            "+--------------------+---+--------------------+--------------------+--------------------+----------+\n",
            "|            features|  y|      scaledFeatures|       rawPrediction|         probability|prediction|\n",
            "+--------------------+---+--------------------+--------------------+--------------------+----------+\n",
            "|(17,[0,1,2,3,7,8,...|  1|(17,[0,1,2,3,7,8,...|[1.24542709218735...|[0.77650726525855...|       0.0|\n",
            "|(17,[0,1,2,3,7,8,...|  0|(17,[0,1,2,3,7,8,...|[3.44991852253142...|[0.96922871071775...|       0.0|\n",
            "|(17,[0,1,2,3,7,8,...|  0|(17,[0,1,2,3,7,8,...|[3.07871672290329...|[0.95600624371609...|       0.0|\n",
            "|(17,[0,1,2,3,7,8,...|  0|(17,[0,1,2,3,7,8,...|[2.25070483388791...|[0.90471131528551...|       0.0|\n",
            "|(17,[0,1,2,3,7,8,...|  0|(17,[0,1,2,3,7,8,...|[3.00858784159754...|[0.95296059239434...|       0.0|\n",
            "|(17,[0,1,2,3,7,8,...|  0|(17,[0,1,2,3,7,8,...|[1.68546061857431...|[0.84362625382054...|       0.0|\n",
            "|(17,[0,1,2,3,7,8,...|  1|(17,[0,1,2,3,7,8,...|[2.14659357277445...|[0.89535002983203...|       0.0|\n",
            "|(17,[0,1,2,3,7,8,...|  1|(17,[0,1,2,3,7,8,...|[0.06698846773404...|[0.51674085708170...|       0.0|\n",
            "|(17,[0,1,2,3,7,8,...|  1|(17,[0,1,2,3,7,8,...|[0.62287806963690...|[0.65087283725290...|       0.0|\n",
            "|(17,[0,1,2,3,7,8,...|  1|(17,[0,1,2,3,7,8,...|[0.56974389695682...|[0.63870407860834...|       0.0|\n",
            "|(17,[0,1,2,3,7,8,...|  0|(17,[0,1,2,3,7,8,...|[2.78659329925347...|[0.94194703696147...|       0.0|\n",
            "|(17,[0,1,2,3,7,8,...|  0|(17,[0,1,2,3,7,8,...|[3.04890278491672...|[0.95473513296622...|       0.0|\n",
            "|(17,[0,1,2,3,7,8,...|  1|(17,[0,1,2,3,7,8,...|[0.14848689723104...|[0.53705366826529...|       0.0|\n",
            "|(17,[0,1,2,4,7,8,...|  0|(17,[0,1,2,4,7,8,...|[2.54295911398748...|[0.92709907531485...|       0.0|\n",
            "|(17,[0,1,2,4,7,8,...|  0|(17,[0,1,2,4,7,8,...|[-1.5001458245818...|[0.18240377559454...|       1.0|\n",
            "|(17,[0,1,2,4,7,8,...|  0|(17,[0,1,2,4,7,8,...|[-0.6441472819383...|[0.34430964329317...|       1.0|\n",
            "|(17,[0,1,2,4,7,8,...|  0|(17,[0,1,2,4,7,8,...|[3.21238895463021...|[0.96129784293727...|       0.0|\n",
            "|(17,[0,1,2,4,7,8,...|  0|(17,[0,1,2,4,7,8,...|[3.14742195507325...|[0.95880701938291...|       0.0|\n",
            "|(17,[0,1,2,4,7,8,...|  0|(17,[0,1,2,4,7,8,...|[1.86948508419448...|[0.86639868617511...|       0.0|\n",
            "|(17,[0,1,2,4,7,8,...|  0|(17,[0,1,2,4,7,8,...|[1.67118159597203...|[0.84173329499496...|       0.0|\n",
            "+--------------------+---+--------------------+--------------------+--------------------+----------+\n",
            "only showing top 20 rows\n",
            "\n",
            "+---+----------+-----+\n",
            "|  y|prediction|count|\n",
            "+---+----------+-----+\n",
            "|  1|       0.0|  529|\n",
            "|  0|       0.0| 7110|\n",
            "|  1|       1.0|  382|\n",
            "|  0|       1.0|  193|\n",
            "+---+----------+-----+\n",
            "\n",
            "+--------------------+---+--------------------+--------------------+--------------------+----------+\n",
            "|            features|  y|      scaledFeatures|       rawPrediction|         probability|prediction|\n",
            "+--------------------+---+--------------------+--------------------+--------------------+----------+\n",
            "|(17,[0,1,2,3,7,8,...|  1|(17,[0,1,2,3,7,8,...|[1.24542709218735...|[0.77650726525855...|       0.0|\n",
            "|(17,[0,1,2,3,7,8,...|  0|(17,[0,1,2,3,7,8,...|[3.44991852253142...|[0.96922871071775...|       0.0|\n",
            "|(17,[0,1,2,3,7,8,...|  0|(17,[0,1,2,3,7,8,...|[3.07871672290329...|[0.95600624371609...|       0.0|\n",
            "|(17,[0,1,2,3,7,8,...|  0|(17,[0,1,2,3,7,8,...|[2.25070483388791...|[0.90471131528551...|       0.0|\n",
            "|(17,[0,1,2,3,7,8,...|  0|(17,[0,1,2,3,7,8,...|[3.00858784159754...|[0.95296059239434...|       0.0|\n",
            "|(17,[0,1,2,3,7,8,...|  0|(17,[0,1,2,3,7,8,...|[1.68546061857431...|[0.84362625382054...|       0.0|\n",
            "|(17,[0,1,2,3,7,8,...|  1|(17,[0,1,2,3,7,8,...|[2.14659357277445...|[0.89535002983203...|       0.0|\n",
            "|(17,[0,1,2,3,7,8,...|  1|(17,[0,1,2,3,7,8,...|[0.06698846773404...|[0.51674085708170...|       0.0|\n",
            "|(17,[0,1,2,3,7,8,...|  1|(17,[0,1,2,3,7,8,...|[0.62287806963690...|[0.65087283725290...|       0.0|\n",
            "|(17,[0,1,2,3,7,8,...|  1|(17,[0,1,2,3,7,8,...|[0.56974389695682...|[0.63870407860834...|       0.0|\n",
            "|(17,[0,1,2,3,7,8,...|  0|(17,[0,1,2,3,7,8,...|[2.78659329925347...|[0.94194703696147...|       0.0|\n",
            "|(17,[0,1,2,3,7,8,...|  0|(17,[0,1,2,3,7,8,...|[3.04890278491672...|[0.95473513296622...|       0.0|\n",
            "|(17,[0,1,2,3,7,8,...|  1|(17,[0,1,2,3,7,8,...|[0.14848689723104...|[0.53705366826529...|       0.0|\n",
            "|(17,[0,1,2,4,7,8,...|  0|(17,[0,1,2,4,7,8,...|[2.54295911398748...|[0.92709907531485...|       0.0|\n",
            "|(17,[0,1,2,4,7,8,...|  0|(17,[0,1,2,4,7,8,...|[-1.5001458245818...|[0.18240377559454...|       1.0|\n",
            "|(17,[0,1,2,4,7,8,...|  0|(17,[0,1,2,4,7,8,...|[-0.6441472819383...|[0.34430964329317...|       1.0|\n",
            "|(17,[0,1,2,4,7,8,...|  0|(17,[0,1,2,4,7,8,...|[3.21238895463021...|[0.96129784293727...|       0.0|\n",
            "|(17,[0,1,2,4,7,8,...|  0|(17,[0,1,2,4,7,8,...|[3.14742195507325...|[0.95880701938291...|       0.0|\n",
            "|(17,[0,1,2,4,7,8,...|  0|(17,[0,1,2,4,7,8,...|[1.86948508419448...|[0.86639868617511...|       0.0|\n",
            "|(17,[0,1,2,4,7,8,...|  0|(17,[0,1,2,4,7,8,...|[1.67118159597203...|[0.84173329499496...|       0.0|\n",
            "+--------------------+---+--------------------+--------------------+--------------------+----------+\n",
            "only showing top 20 rows\n",
            "\n",
            "+---+----------+-----+\n",
            "|  y|prediction|count|\n",
            "+---+----------+-----+\n",
            "|  1|       0.0|  529|\n",
            "|  0|       0.0| 7110|\n",
            "|  1|       1.0|  382|\n",
            "|  0|       1.0|  193|\n",
            "+---+----------+-----+\n",
            "\n",
            "+--------------------+---+--------------------+--------------------+--------------------+----------+\n",
            "|            features|  y|      scaledFeatures|       rawPrediction|         probability|prediction|\n",
            "+--------------------+---+--------------------+--------------------+--------------------+----------+\n",
            "|(17,[0,1,2,3,7,8,...|  1|(17,[0,1,2,3,7,8,...|[1.24542709218735...|[0.77650726525855...|       0.0|\n",
            "|(17,[0,1,2,3,7,8,...|  0|(17,[0,1,2,3,7,8,...|[3.44991852253142...|[0.96922871071775...|       0.0|\n",
            "|(17,[0,1,2,3,7,8,...|  0|(17,[0,1,2,3,7,8,...|[3.07871672290329...|[0.95600624371609...|       0.0|\n",
            "|(17,[0,1,2,3,7,8,...|  0|(17,[0,1,2,3,7,8,...|[2.25070483388791...|[0.90471131528551...|       0.0|\n",
            "|(17,[0,1,2,3,7,8,...|  0|(17,[0,1,2,3,7,8,...|[3.00858784159754...|[0.95296059239434...|       0.0|\n",
            "|(17,[0,1,2,3,7,8,...|  0|(17,[0,1,2,3,7,8,...|[1.68546061857431...|[0.84362625382054...|       0.0|\n",
            "|(17,[0,1,2,3,7,8,...|  1|(17,[0,1,2,3,7,8,...|[2.14659357277445...|[0.89535002983203...|       0.0|\n",
            "|(17,[0,1,2,3,7,8,...|  1|(17,[0,1,2,3,7,8,...|[0.06698846773404...|[0.51674085708170...|       0.0|\n",
            "|(17,[0,1,2,3,7,8,...|  1|(17,[0,1,2,3,7,8,...|[0.62287806963690...|[0.65087283725290...|       0.0|\n",
            "|(17,[0,1,2,3,7,8,...|  1|(17,[0,1,2,3,7,8,...|[0.56974389695682...|[0.63870407860834...|       0.0|\n",
            "|(17,[0,1,2,3,7,8,...|  0|(17,[0,1,2,3,7,8,...|[2.78659329925347...|[0.94194703696147...|       0.0|\n",
            "|(17,[0,1,2,3,7,8,...|  0|(17,[0,1,2,3,7,8,...|[3.04890278491672...|[0.95473513296622...|       0.0|\n",
            "|(17,[0,1,2,3,7,8,...|  1|(17,[0,1,2,3,7,8,...|[0.14848689723104...|[0.53705366826529...|       0.0|\n",
            "|(17,[0,1,2,4,7,8,...|  0|(17,[0,1,2,4,7,8,...|[2.54295911398748...|[0.92709907531485...|       0.0|\n",
            "|(17,[0,1,2,4,7,8,...|  0|(17,[0,1,2,4,7,8,...|[-1.5001458245818...|[0.18240377559454...|       1.0|\n",
            "|(17,[0,1,2,4,7,8,...|  0|(17,[0,1,2,4,7,8,...|[-0.6441472819383...|[0.34430964329317...|       1.0|\n",
            "|(17,[0,1,2,4,7,8,...|  0|(17,[0,1,2,4,7,8,...|[3.21238895463021...|[0.96129784293727...|       0.0|\n",
            "|(17,[0,1,2,4,7,8,...|  0|(17,[0,1,2,4,7,8,...|[3.14742195507325...|[0.95880701938291...|       0.0|\n",
            "|(17,[0,1,2,4,7,8,...|  0|(17,[0,1,2,4,7,8,...|[1.86948508419448...|[0.86639868617511...|       0.0|\n",
            "|(17,[0,1,2,4,7,8,...|  0|(17,[0,1,2,4,7,8,...|[1.67118159597203...|[0.84173329499496...|       0.0|\n",
            "+--------------------+---+--------------------+--------------------+--------------------+----------+\n",
            "only showing top 20 rows\n",
            "\n",
            "+---+----------+-----+\n",
            "|  y|prediction|count|\n",
            "+---+----------+-----+\n",
            "|  1|       0.0|  529|\n",
            "|  0|       0.0| 7110|\n",
            "|  1|       1.0|  382|\n",
            "|  0|       1.0|  193|\n",
            "+---+----------+-----+\n",
            "\n",
            "+--------------------+---+--------------------+--------------------+--------------------+----------+\n",
            "|            features|  y|      scaledFeatures|       rawPrediction|         probability|prediction|\n",
            "+--------------------+---+--------------------+--------------------+--------------------+----------+\n",
            "|(17,[0,1,2,3,7,8,...|  1|(17,[0,1,2,3,7,8,...|[1.24542709218735...|[0.77650726525855...|       0.0|\n",
            "|(17,[0,1,2,3,7,8,...|  0|(17,[0,1,2,3,7,8,...|[3.44991852253142...|[0.96922871071775...|       0.0|\n",
            "|(17,[0,1,2,3,7,8,...|  0|(17,[0,1,2,3,7,8,...|[3.07871672290329...|[0.95600624371609...|       0.0|\n",
            "|(17,[0,1,2,3,7,8,...|  0|(17,[0,1,2,3,7,8,...|[2.25070483388791...|[0.90471131528551...|       0.0|\n",
            "|(17,[0,1,2,3,7,8,...|  0|(17,[0,1,2,3,7,8,...|[3.00858784159754...|[0.95296059239434...|       0.0|\n",
            "|(17,[0,1,2,3,7,8,...|  0|(17,[0,1,2,3,7,8,...|[1.68546061857431...|[0.84362625382054...|       0.0|\n",
            "|(17,[0,1,2,3,7,8,...|  1|(17,[0,1,2,3,7,8,...|[2.14659357277445...|[0.89535002983203...|       0.0|\n",
            "|(17,[0,1,2,3,7,8,...|  1|(17,[0,1,2,3,7,8,...|[0.06698846773404...|[0.51674085708170...|       0.0|\n",
            "|(17,[0,1,2,3,7,8,...|  1|(17,[0,1,2,3,7,8,...|[0.62287806963690...|[0.65087283725290...|       0.0|\n",
            "|(17,[0,1,2,3,7,8,...|  1|(17,[0,1,2,3,7,8,...|[0.56974389695682...|[0.63870407860834...|       0.0|\n",
            "|(17,[0,1,2,3,7,8,...|  0|(17,[0,1,2,3,7,8,...|[2.78659329925347...|[0.94194703696147...|       0.0|\n",
            "|(17,[0,1,2,3,7,8,...|  0|(17,[0,1,2,3,7,8,...|[3.04890278491672...|[0.95473513296622...|       0.0|\n",
            "|(17,[0,1,2,3,7,8,...|  1|(17,[0,1,2,3,7,8,...|[0.14848689723104...|[0.53705366826529...|       0.0|\n",
            "|(17,[0,1,2,4,7,8,...|  0|(17,[0,1,2,4,7,8,...|[2.54295911398748...|[0.92709907531485...|       0.0|\n",
            "|(17,[0,1,2,4,7,8,...|  0|(17,[0,1,2,4,7,8,...|[-1.5001458245818...|[0.18240377559454...|       1.0|\n",
            "|(17,[0,1,2,4,7,8,...|  0|(17,[0,1,2,4,7,8,...|[-0.6441472819383...|[0.34430964329317...|       1.0|\n",
            "|(17,[0,1,2,4,7,8,...|  0|(17,[0,1,2,4,7,8,...|[3.21238895463021...|[0.96129784293727...|       0.0|\n",
            "|(17,[0,1,2,4,7,8,...|  0|(17,[0,1,2,4,7,8,...|[3.14742195507325...|[0.95880701938291...|       0.0|\n",
            "|(17,[0,1,2,4,7,8,...|  0|(17,[0,1,2,4,7,8,...|[1.86948508419448...|[0.86639868617511...|       0.0|\n",
            "|(17,[0,1,2,4,7,8,...|  0|(17,[0,1,2,4,7,8,...|[1.67118159597203...|[0.84173329499496...|       0.0|\n",
            "+--------------------+---+--------------------+--------------------+--------------------+----------+\n",
            "only showing top 20 rows\n",
            "\n",
            "+---+----------+-----+\n",
            "|  y|prediction|count|\n",
            "+---+----------+-----+\n",
            "|  1|       0.0|  529|\n",
            "|  0|       0.0| 7110|\n",
            "|  1|       1.0|  382|\n",
            "|  0|       1.0|  193|\n",
            "+---+----------+-----+\n",
            "\n",
            "+--------------------+---+--------------------+--------------------+--------------------+----------+\n",
            "|            features|  y|      scaledFeatures|       rawPrediction|         probability|prediction|\n",
            "+--------------------+---+--------------------+--------------------+--------------------+----------+\n",
            "|(17,[0,1,2,3,7,8,...|  1|(17,[0,1,2,3,7,8,...|[1.24542709218735...|[0.77650726525855...|       0.0|\n",
            "|(17,[0,1,2,3,7,8,...|  0|(17,[0,1,2,3,7,8,...|[3.44991852253142...|[0.96922871071775...|       0.0|\n",
            "|(17,[0,1,2,3,7,8,...|  0|(17,[0,1,2,3,7,8,...|[3.07871672290329...|[0.95600624371609...|       0.0|\n",
            "|(17,[0,1,2,3,7,8,...|  0|(17,[0,1,2,3,7,8,...|[2.25070483388791...|[0.90471131528551...|       0.0|\n",
            "|(17,[0,1,2,3,7,8,...|  0|(17,[0,1,2,3,7,8,...|[3.00858784159754...|[0.95296059239434...|       0.0|\n",
            "|(17,[0,1,2,3,7,8,...|  0|(17,[0,1,2,3,7,8,...|[1.68546061857431...|[0.84362625382054...|       0.0|\n",
            "|(17,[0,1,2,3,7,8,...|  1|(17,[0,1,2,3,7,8,...|[2.14659357277445...|[0.89535002983203...|       0.0|\n",
            "|(17,[0,1,2,3,7,8,...|  1|(17,[0,1,2,3,7,8,...|[0.06698846773404...|[0.51674085708170...|       0.0|\n",
            "|(17,[0,1,2,3,7,8,...|  1|(17,[0,1,2,3,7,8,...|[0.62287806963690...|[0.65087283725290...|       0.0|\n",
            "|(17,[0,1,2,3,7,8,...|  1|(17,[0,1,2,3,7,8,...|[0.56974389695682...|[0.63870407860834...|       0.0|\n",
            "|(17,[0,1,2,3,7,8,...|  0|(17,[0,1,2,3,7,8,...|[2.78659329925347...|[0.94194703696147...|       0.0|\n",
            "|(17,[0,1,2,3,7,8,...|  0|(17,[0,1,2,3,7,8,...|[3.04890278491672...|[0.95473513296622...|       0.0|\n",
            "|(17,[0,1,2,3,7,8,...|  1|(17,[0,1,2,3,7,8,...|[0.14848689723104...|[0.53705366826529...|       0.0|\n",
            "|(17,[0,1,2,4,7,8,...|  0|(17,[0,1,2,4,7,8,...|[2.54295911398748...|[0.92709907531485...|       0.0|\n",
            "|(17,[0,1,2,4,7,8,...|  0|(17,[0,1,2,4,7,8,...|[-1.5001458245818...|[0.18240377559454...|       1.0|\n",
            "|(17,[0,1,2,4,7,8,...|  0|(17,[0,1,2,4,7,8,...|[-0.6441472819383...|[0.34430964329317...|       1.0|\n",
            "|(17,[0,1,2,4,7,8,...|  0|(17,[0,1,2,4,7,8,...|[3.21238895463021...|[0.96129784293727...|       0.0|\n",
            "|(17,[0,1,2,4,7,8,...|  0|(17,[0,1,2,4,7,8,...|[3.14742195507325...|[0.95880701938291...|       0.0|\n",
            "|(17,[0,1,2,4,7,8,...|  0|(17,[0,1,2,4,7,8,...|[1.86948508419448...|[0.86639868617511...|       0.0|\n",
            "|(17,[0,1,2,4,7,8,...|  0|(17,[0,1,2,4,7,8,...|[1.67118159597203...|[0.84173329499496...|       0.0|\n",
            "+--------------------+---+--------------------+--------------------+--------------------+----------+\n",
            "only showing top 20 rows\n",
            "\n",
            "+---+----------+-----+\n",
            "|  y|prediction|count|\n",
            "+---+----------+-----+\n",
            "|  1|       0.0|  529|\n",
            "|  0|       0.0| 7110|\n",
            "|  1|       1.0|  382|\n",
            "|  0|       1.0|  193|\n",
            "+---+----------+-----+\n",
            "\n",
            "0.9121012904796688\n",
            "0.6643478260869565\n",
            "0.4193194291986827\n",
            "2.8277254374158813\n"
          ]
        }
      ]
    },
    {
      "cell_type": "markdown",
      "source": [
        "بدون هیچ پیش پردازشی"
      ],
      "metadata": {
        "id": "LDyCLBnf4ccw"
      }
    },
    {
      "cell_type": "code",
      "source": [
        "hasher = FeatureHasher(inputCols=['age',\n",
        " 'job',\n",
        " 'marital',\n",
        " 'education',\n",
        " 'default',\n",
        " 'housing',\n",
        " 'loan',\n",
        " 'contact',\n",
        " 'month',\n",
        " 'day_of_week',\n",
        " 'duration',\n",
        " 'campaign',\n",
        " 'pdays',\n",
        " 'previous',\n",
        " 'poutcome',\n",
        " 'emp_var_rate',\n",
        " 'cons_price_idx',\n",
        " 'cons_conf_idx',\n",
        " 'euribor3m',\n",
        " 'nr_employed'], outputCol=\"features\")\n",
        "featurized = hasher.transform(df)\n",
        "featurized.show(1)"
      ],
      "metadata": {
        "colab": {
          "base_uri": "https://localhost:8080/"
        },
        "id": "H1_F5D4U0BuI",
        "outputId": "52339e66-737a-4e0e-b05f-48c95367dcce"
      },
      "execution_count": 94,
      "outputs": [
        {
          "output_type": "stream",
          "name": "stdout",
          "text": [
            "+---+----------+-------+-----------------+-------+-------+----+--------+-----+-----------+--------+--------+-----+--------+-----------+------------+--------------+-------------+---------+-----------+---+---+--------------------+\n",
            "|age|       job|marital|        education|default|housing|loan| contact|month|day_of_week|duration|campaign|pdays|previous|   poutcome|emp_var_rate|cons_price_idx|cons_conf_idx|euribor3m|nr_employed|  y| id|            features|\n",
            "+---+----------+-------+-----------------+-------+-------+----+--------+-----+-----------+--------+--------+-----+--------+-----------+------------+--------------+-------------+---------+-----------+---+---+--------------------+\n",
            "| 30|management|married|university.degree|     no|     no|  no|cellular|  mar|        mon|     116|       1|  999|       0|nonexistent|        -1.8|        92.843|        -50.0|    1.811|     5099.1|  1|  0|(262144,[12449,29...|\n",
            "+---+----------+-------+-----------------+-------+-------+----+--------+-----+-----------+--------+--------+-----+--------+-----------+------------+--------------+-------------+---------+-----------+---+---+--------------------+\n",
            "only showing top 1 row\n",
            "\n"
          ]
        }
      ]
    },
    {
      "cell_type": "code",
      "source": [
        "new_accuracy=0\n",
        "new_Precision=0\n",
        "new_Recall=0\n",
        "new_F_Measure=0\n",
        "for i in range(n):\n",
        "  train_data, test_data =featurized.randomSplit([0.8, 0.2], seed=100)\n",
        "\n",
        "  lr = LogisticRegression(labelCol=\"y\", featuresCol=\"features\")\n",
        "  lrModel = lr.fit(train_data)\n",
        "  predictions = lrModel.transform(test_data)\n",
        "  #predictions.show()\n",
        "  evaluator = BinaryClassificationEvaluator(labelCol=\"y\",rawPredictionCol=\"rawPrediction\")\n",
        "  predictions = lrModel.transform(test_data)\n",
        "  predictions.groupBy('y', 'prediction').count().show()\n",
        "  TN = predictions.filter('prediction = 0 AND y = 0').count()\n",
        "  TP = predictions.filter('prediction = 1 AND y = 1').count()\n",
        "  FN = predictions.filter('prediction = 0 AND y = 1').count()\n",
        "  FP = predictions.filter('prediction = 1 AND y = 0').count()\n",
        "  new_accuracy =new_accuracy+ (TN + TP) / (TN + TP + FN + FP)\n",
        "  new_Precision = new_Precision+TP/(TP+FP)\n",
        "  new_Recall =new_Recall+ TP/(TP+FN)\n",
        "  new_F_Measure=new_F_Measure+(2*new_Precision*new_Recall)/(new_Precision+new_Recall)\n",
        "\n",
        "print(new_F_Measure/n)\n",
        "print(new_accuracy/n)\n",
        "print(new_Precision/n)\n",
        "print(new_Recall/n)\n"
      ],
      "metadata": {
        "colab": {
          "base_uri": "https://localhost:8080/"
        },
        "id": "pGDWijvQ6uVd",
        "outputId": "b45db3c0-01ef-4d72-eeeb-e0a025abfd1f"
      },
      "execution_count": 121,
      "outputs": [
        {
          "output_type": "stream",
          "name": "stdout",
          "text": [
            "+---+------------+-------+-------------------+-------+-------+----+---------+-----+-----------+--------+--------+-----+--------+-----------+------------+--------------+-------------+---------+-----------+---+-----+--------------------+--------------------+--------------------+----------+\n",
            "|age|         job|marital|          education|default|housing|loan|  contact|month|day_of_week|duration|campaign|pdays|previous|   poutcome|emp_var_rate|cons_price_idx|cons_conf_idx|euribor3m|nr_employed|  y|   id|            features|       rawPrediction|         probability|prediction|\n",
            "+---+------------+-------+-------------------+-------+-------+----+---------+-----+-----------+--------+--------+-----+--------+-----------+------------+--------------+-------------+---------+-----------+---+-----+--------------------+--------------------+--------------------+----------+\n",
            "| 18|     student| single|           basic.4y|     no|     no|  no| cellular|  apr|        thu|     108|       1|  999|       0|nonexistent|        -1.8|        93.075|        -47.1|    1.365|     5099.1|  0| 6252|(262144,[5034,124...|[2.27420334898374...|[0.90671791757741...|       0.0|\n",
            "| 18|     student| single|            unknown|     no|     no|  no|telephone|  sep|        tue|     401|       2|  999|       0|nonexistent|        -3.4|        92.379|        -29.8|    0.788|     5017.5|  0| 5670|(262144,[9,12449,...|[-0.0761193424519...|[0.48097934754982...|       1.0|\n",
            "| 18|     student| single|            unknown|     no|    yes|  no| cellular|  nov|        tue|     600|       2|  999|       3|    failure|        -1.1|        94.767|        -50.8|    1.049|     4963.6|  0|14740|(262144,[15646,19...|[-0.9998838936316...|[0.26896424987994...|       1.0|\n",
            "| 19|     student| single|           basic.9y|     no|     no|  no| cellular|  aug|        mon|      96|       1|    3|       1|    success|        -2.9|        92.201|        -31.4|    0.884|     5076.2|  0|17808|(262144,[12449,19...|[0.13993400716182...|[0.53492652748869...|       0.0|\n",
            "| 19|     student| single|           basic.9y|     no|    yes|  no|telephone|  aug|        mon|      85|       2|  999|       0|nonexistent|        -2.9|        92.201|        -31.4|    0.884|     5076.2|  0|16028|(262144,[9,19256,...|[2.35518534428419...|[0.91334550477787...|       0.0|\n",
            "| 19|     student| single|            unknown|     no|     no|  no| cellular|  nov|        mon|     132|       2|    3|       2|    success|        -3.4|        92.649|        -30.1|    0.714|     5017.5|  0|13473|(262144,[12449,19...|[-0.5341945603786...|[0.36953910590960...|       1.0|\n",
            "| 19|     student| single|            unknown|     no|    yes|  no|telephone|  apr|        tue|     396|       3|  999|       0|nonexistent|        -1.8|        93.075|        -47.1|    1.405|     5099.1|  1|16564|(262144,[9,19256,...|[1.37079619205061...|[0.79750875991563...|       0.0|\n",
            "| 19|     student| single|            unknown|     no|    yes| yes| cellular|  apr|        tue|     278|       3|  999|       0|nonexistent|        -1.8|        93.075|        -47.1|    1.405|     5099.1|  1| 3398|(262144,[19256,38...|[1.28971313462957...|[0.78409863027954...|       0.0|\n",
            "| 20| blue-collar| single|           basic.9y|unknown|    yes|  no|telephone|  may|        fri|      87|       4|  999|       0|nonexistent|        -1.8|        92.893|        -46.2|     1.25|     5099.1|  0| 9287|(262144,[9,2083,3...|[4.76896260734824...|[0.99158227737235...|       0.0|\n",
            "| 20|entrepreneur| single|        high.school|     no|     no|  no|telephone|  may|        fri|     217|       2|  999|       0|nonexistent|         1.1|        93.994|        -36.4|    4.855|     5191.0|  0|12353|(262144,[9,12449,...|[4.43017106335682...|[0.98822778423733...|       0.0|\n",
            "| 20|entrepreneur| single|        high.school|     no|     no|  no|telephone|  may|        thu|     598|       3|  999|       0|nonexistent|         1.1|        93.994|        -36.4|    4.855|     5191.0|  0| 8962|(262144,[9,12449,...|[2.63587753440882...|[0.93313520657522...|       0.0|\n",
            "| 20|    services| single|        high.school|     no|    yes|  no|telephone|  jun|        wed|     290|       2|  999|       0|nonexistent|         1.4|        94.465|        -41.8|    4.962|     5228.1|  0| 7564|(262144,[9,38765,...|[3.28506700129028...|[0.96391295301954...|       0.0|\n",
            "| 20|     student| single|        high.school|     no|    yes|  no| cellular|  may|        wed|     297|       1|  999|       0|nonexistent|        -1.8|        92.893|        -46.2|     1.27|     5099.1|  0|19254|(262144,[19256,30...|[2.02780813205626...|[0.88368597602537...|       0.0|\n",
            "| 20|     student| single|            unknown|     no|     no|  no| cellular|  oct|        mon|     137|       3|  999|       3|    failure|        -1.1|        94.601|        -49.5|    0.977|     4963.6|  0| 1441|(262144,[12449,15...|[1.16361394077361...|[0.76198876640189...|       0.0|\n",
            "| 20|     student| single|            unknown|     no|     no|  no|telephone|  oct|        tue|     250|       1|  999|       1|    failure|        -1.1|        94.601|        -49.5|    0.982|     4963.6|  0| 7197|(262144,[9,12449,...|[0.93106743429211...|[0.71729179458066...|       0.0|\n",
            "| 20|  technician| single|professional.course|     no|    yes|  no|telephone|  jun|        tue|      52|       1|  999|       1|    failure|        -1.7|        94.055|        -39.8|    0.702|     4991.6|  0|20137|(262144,[9,15646,...|[2.77045869989902...|[0.94105843460029...|       0.0|\n",
            "| 21|      admin.| single|        high.school|     no|    yes|  no| cellular|  jul|        wed|     680|       1|  999|       0|nonexistent|         1.4|        93.918|        -42.7|    4.957|     5228.1|  0|13069|(262144,[38765,39...|[1.16940492957232...|[0.76303743710726...|       0.0|\n",
            "| 21| blue-collar| single|           basic.9y|     no|     no|  no| cellular|  may|        mon|     154|       1|  999|       0|nonexistent|        -1.8|        92.893|        -46.2|    1.244|     5099.1|  0| 5668|(262144,[12449,30...|[3.47822709944676...|[0.97006187479972...|       0.0|\n",
            "| 21|    services| single|        high.school|     no|     no|  no| cellular|  may|        fri|     103|       6|  999|       0|nonexistent|        -1.8|        92.893|        -46.2|     1.25|     5099.1|  0|18982|(262144,[12449,30...|[3.62976634874706...|[0.97416288122711...|       0.0|\n",
            "| 21|     student| single|        high.school|     no|     no|  no| cellular|  jun|        thu|     400|       1|  999|       0|nonexistent|        -2.9|        92.963|        -40.8|     1.26|     5076.2|  1|13100|(262144,[12449,19...|[-0.3627614226156...|[0.41029126813973...|       1.0|\n",
            "+---+------------+-------+-------------------+-------+-------+----+---------+-----+-----------+--------+--------+-----+--------+-----------+------------+--------------+-------------+---------+-----------+---+-----+--------------------+--------------------+--------------------+----------+\n",
            "only showing top 20 rows\n",
            "\n",
            "+---+----------+-----+\n",
            "|  y|prediction|count|\n",
            "+---+----------+-----+\n",
            "|  1|       0.0|  551|\n",
            "|  0|       0.0| 7054|\n",
            "|  1|       1.0|  412|\n",
            "|  0|       1.0|  197|\n",
            "+---+----------+-----+\n",
            "\n",
            "+---+------------+-------+-------------------+-------+-------+----+---------+-----+-----------+--------+--------+-----+--------+-----------+------------+--------------+-------------+---------+-----------+---+-----+--------------------+--------------------+--------------------+----------+\n",
            "|age|         job|marital|          education|default|housing|loan|  contact|month|day_of_week|duration|campaign|pdays|previous|   poutcome|emp_var_rate|cons_price_idx|cons_conf_idx|euribor3m|nr_employed|  y|   id|            features|       rawPrediction|         probability|prediction|\n",
            "+---+------------+-------+-------------------+-------+-------+----+---------+-----+-----------+--------+--------+-----+--------+-----------+------------+--------------+-------------+---------+-----------+---+-----+--------------------+--------------------+--------------------+----------+\n",
            "| 18|     student| single|           basic.4y|     no|     no|  no| cellular|  apr|        thu|     108|       1|  999|       0|nonexistent|        -1.8|        93.075|        -47.1|    1.365|     5099.1|  0| 6252|(262144,[5034,124...|[2.27420334898374...|[0.90671791757741...|       0.0|\n",
            "| 18|     student| single|            unknown|     no|     no|  no|telephone|  sep|        tue|     401|       2|  999|       0|nonexistent|        -3.4|        92.379|        -29.8|    0.788|     5017.5|  0| 5670|(262144,[9,12449,...|[-0.0761193424519...|[0.48097934754982...|       1.0|\n",
            "| 18|     student| single|            unknown|     no|    yes|  no| cellular|  nov|        tue|     600|       2|  999|       3|    failure|        -1.1|        94.767|        -50.8|    1.049|     4963.6|  0|14740|(262144,[15646,19...|[-0.9998838936316...|[0.26896424987994...|       1.0|\n",
            "| 19|     student| single|           basic.9y|     no|     no|  no| cellular|  aug|        mon|      96|       1|    3|       1|    success|        -2.9|        92.201|        -31.4|    0.884|     5076.2|  0|17808|(262144,[12449,19...|[0.13993400716182...|[0.53492652748869...|       0.0|\n",
            "| 19|     student| single|           basic.9y|     no|    yes|  no|telephone|  aug|        mon|      85|       2|  999|       0|nonexistent|        -2.9|        92.201|        -31.4|    0.884|     5076.2|  0|16028|(262144,[9,19256,...|[2.35518534428419...|[0.91334550477787...|       0.0|\n",
            "| 19|     student| single|            unknown|     no|     no|  no| cellular|  nov|        mon|     132|       2|    3|       2|    success|        -3.4|        92.649|        -30.1|    0.714|     5017.5|  0|13473|(262144,[12449,19...|[-0.5341945603786...|[0.36953910590960...|       1.0|\n",
            "| 19|     student| single|            unknown|     no|    yes|  no|telephone|  apr|        tue|     396|       3|  999|       0|nonexistent|        -1.8|        93.075|        -47.1|    1.405|     5099.1|  1|16564|(262144,[9,19256,...|[1.37079619205061...|[0.79750875991563...|       0.0|\n",
            "| 19|     student| single|            unknown|     no|    yes| yes| cellular|  apr|        tue|     278|       3|  999|       0|nonexistent|        -1.8|        93.075|        -47.1|    1.405|     5099.1|  1| 3398|(262144,[19256,38...|[1.28971313462957...|[0.78409863027954...|       0.0|\n",
            "| 20| blue-collar| single|           basic.9y|unknown|    yes|  no|telephone|  may|        fri|      87|       4|  999|       0|nonexistent|        -1.8|        92.893|        -46.2|     1.25|     5099.1|  0| 9287|(262144,[9,2083,3...|[4.76896260734824...|[0.99158227737235...|       0.0|\n",
            "| 20|entrepreneur| single|        high.school|     no|     no|  no|telephone|  may|        fri|     217|       2|  999|       0|nonexistent|         1.1|        93.994|        -36.4|    4.855|     5191.0|  0|12353|(262144,[9,12449,...|[4.43017106335682...|[0.98822778423733...|       0.0|\n",
            "| 20|entrepreneur| single|        high.school|     no|     no|  no|telephone|  may|        thu|     598|       3|  999|       0|nonexistent|         1.1|        93.994|        -36.4|    4.855|     5191.0|  0| 8962|(262144,[9,12449,...|[2.63587753440882...|[0.93313520657522...|       0.0|\n",
            "| 20|    services| single|        high.school|     no|    yes|  no|telephone|  jun|        wed|     290|       2|  999|       0|nonexistent|         1.4|        94.465|        -41.8|    4.962|     5228.1|  0| 7564|(262144,[9,38765,...|[3.28506700129028...|[0.96391295301954...|       0.0|\n",
            "| 20|     student| single|        high.school|     no|    yes|  no| cellular|  may|        wed|     297|       1|  999|       0|nonexistent|        -1.8|        92.893|        -46.2|     1.27|     5099.1|  0|19254|(262144,[19256,30...|[2.02780813205626...|[0.88368597602537...|       0.0|\n",
            "| 20|     student| single|            unknown|     no|     no|  no| cellular|  oct|        mon|     137|       3|  999|       3|    failure|        -1.1|        94.601|        -49.5|    0.977|     4963.6|  0| 1441|(262144,[12449,15...|[1.16361394077361...|[0.76198876640189...|       0.0|\n",
            "| 20|     student| single|            unknown|     no|     no|  no|telephone|  oct|        tue|     250|       1|  999|       1|    failure|        -1.1|        94.601|        -49.5|    0.982|     4963.6|  0| 7197|(262144,[9,12449,...|[0.93106743429211...|[0.71729179458066...|       0.0|\n",
            "| 20|  technician| single|professional.course|     no|    yes|  no|telephone|  jun|        tue|      52|       1|  999|       1|    failure|        -1.7|        94.055|        -39.8|    0.702|     4991.6|  0|20137|(262144,[9,15646,...|[2.77045869989902...|[0.94105843460029...|       0.0|\n",
            "| 21|      admin.| single|        high.school|     no|    yes|  no| cellular|  jul|        wed|     680|       1|  999|       0|nonexistent|         1.4|        93.918|        -42.7|    4.957|     5228.1|  0|13069|(262144,[38765,39...|[1.16940492957232...|[0.76303743710726...|       0.0|\n",
            "| 21| blue-collar| single|           basic.9y|     no|     no|  no| cellular|  may|        mon|     154|       1|  999|       0|nonexistent|        -1.8|        92.893|        -46.2|    1.244|     5099.1|  0| 5668|(262144,[12449,30...|[3.47822709944676...|[0.97006187479972...|       0.0|\n",
            "| 21|    services| single|        high.school|     no|     no|  no| cellular|  may|        fri|     103|       6|  999|       0|nonexistent|        -1.8|        92.893|        -46.2|     1.25|     5099.1|  0|18982|(262144,[12449,30...|[3.62976634874706...|[0.97416288122711...|       0.0|\n",
            "| 21|     student| single|        high.school|     no|     no|  no| cellular|  jun|        thu|     400|       1|  999|       0|nonexistent|        -2.9|        92.963|        -40.8|     1.26|     5076.2|  1|13100|(262144,[12449,19...|[-0.3627614226156...|[0.41029126813973...|       1.0|\n",
            "+---+------------+-------+-------------------+-------+-------+----+---------+-----+-----------+--------+--------+-----+--------+-----------+------------+--------------+-------------+---------+-----------+---+-----+--------------------+--------------------+--------------------+----------+\n",
            "only showing top 20 rows\n",
            "\n",
            "+---+----------+-----+\n",
            "|  y|prediction|count|\n",
            "+---+----------+-----+\n",
            "|  1|       0.0|  551|\n",
            "|  0|       0.0| 7054|\n",
            "|  1|       1.0|  412|\n",
            "|  0|       1.0|  197|\n",
            "+---+----------+-----+\n",
            "\n",
            "+---+------------+-------+-------------------+-------+-------+----+---------+-----+-----------+--------+--------+-----+--------+-----------+------------+--------------+-------------+---------+-----------+---+-----+--------------------+--------------------+--------------------+----------+\n",
            "|age|         job|marital|          education|default|housing|loan|  contact|month|day_of_week|duration|campaign|pdays|previous|   poutcome|emp_var_rate|cons_price_idx|cons_conf_idx|euribor3m|nr_employed|  y|   id|            features|       rawPrediction|         probability|prediction|\n",
            "+---+------------+-------+-------------------+-------+-------+----+---------+-----+-----------+--------+--------+-----+--------+-----------+------------+--------------+-------------+---------+-----------+---+-----+--------------------+--------------------+--------------------+----------+\n",
            "| 18|     student| single|           basic.4y|     no|     no|  no| cellular|  apr|        thu|     108|       1|  999|       0|nonexistent|        -1.8|        93.075|        -47.1|    1.365|     5099.1|  0| 6252|(262144,[5034,124...|[2.27420334898374...|[0.90671791757741...|       0.0|\n",
            "| 18|     student| single|            unknown|     no|     no|  no|telephone|  sep|        tue|     401|       2|  999|       0|nonexistent|        -3.4|        92.379|        -29.8|    0.788|     5017.5|  0| 5670|(262144,[9,12449,...|[-0.0761193424519...|[0.48097934754982...|       1.0|\n",
            "| 18|     student| single|            unknown|     no|    yes|  no| cellular|  nov|        tue|     600|       2|  999|       3|    failure|        -1.1|        94.767|        -50.8|    1.049|     4963.6|  0|14740|(262144,[15646,19...|[-0.9998838936316...|[0.26896424987994...|       1.0|\n",
            "| 19|     student| single|           basic.9y|     no|     no|  no| cellular|  aug|        mon|      96|       1|    3|       1|    success|        -2.9|        92.201|        -31.4|    0.884|     5076.2|  0|17808|(262144,[12449,19...|[0.13993400716182...|[0.53492652748869...|       0.0|\n",
            "| 19|     student| single|           basic.9y|     no|    yes|  no|telephone|  aug|        mon|      85|       2|  999|       0|nonexistent|        -2.9|        92.201|        -31.4|    0.884|     5076.2|  0|16028|(262144,[9,19256,...|[2.35518534428419...|[0.91334550477787...|       0.0|\n",
            "| 19|     student| single|            unknown|     no|     no|  no| cellular|  nov|        mon|     132|       2|    3|       2|    success|        -3.4|        92.649|        -30.1|    0.714|     5017.5|  0|13473|(262144,[12449,19...|[-0.5341945603786...|[0.36953910590960...|       1.0|\n",
            "| 19|     student| single|            unknown|     no|    yes|  no|telephone|  apr|        tue|     396|       3|  999|       0|nonexistent|        -1.8|        93.075|        -47.1|    1.405|     5099.1|  1|16564|(262144,[9,19256,...|[1.37079619205061...|[0.79750875991563...|       0.0|\n",
            "| 19|     student| single|            unknown|     no|    yes| yes| cellular|  apr|        tue|     278|       3|  999|       0|nonexistent|        -1.8|        93.075|        -47.1|    1.405|     5099.1|  1| 3398|(262144,[19256,38...|[1.28971313462957...|[0.78409863027954...|       0.0|\n",
            "| 20| blue-collar| single|           basic.9y|unknown|    yes|  no|telephone|  may|        fri|      87|       4|  999|       0|nonexistent|        -1.8|        92.893|        -46.2|     1.25|     5099.1|  0| 9287|(262144,[9,2083,3...|[4.76896260734824...|[0.99158227737235...|       0.0|\n",
            "| 20|entrepreneur| single|        high.school|     no|     no|  no|telephone|  may|        fri|     217|       2|  999|       0|nonexistent|         1.1|        93.994|        -36.4|    4.855|     5191.0|  0|12353|(262144,[9,12449,...|[4.43017106335682...|[0.98822778423733...|       0.0|\n",
            "| 20|entrepreneur| single|        high.school|     no|     no|  no|telephone|  may|        thu|     598|       3|  999|       0|nonexistent|         1.1|        93.994|        -36.4|    4.855|     5191.0|  0| 8962|(262144,[9,12449,...|[2.63587753440882...|[0.93313520657522...|       0.0|\n",
            "| 20|    services| single|        high.school|     no|    yes|  no|telephone|  jun|        wed|     290|       2|  999|       0|nonexistent|         1.4|        94.465|        -41.8|    4.962|     5228.1|  0| 7564|(262144,[9,38765,...|[3.28506700129028...|[0.96391295301954...|       0.0|\n",
            "| 20|     student| single|        high.school|     no|    yes|  no| cellular|  may|        wed|     297|       1|  999|       0|nonexistent|        -1.8|        92.893|        -46.2|     1.27|     5099.1|  0|19254|(262144,[19256,30...|[2.02780813205626...|[0.88368597602537...|       0.0|\n",
            "| 20|     student| single|            unknown|     no|     no|  no| cellular|  oct|        mon|     137|       3|  999|       3|    failure|        -1.1|        94.601|        -49.5|    0.977|     4963.6|  0| 1441|(262144,[12449,15...|[1.16361394077361...|[0.76198876640189...|       0.0|\n",
            "| 20|     student| single|            unknown|     no|     no|  no|telephone|  oct|        tue|     250|       1|  999|       1|    failure|        -1.1|        94.601|        -49.5|    0.982|     4963.6|  0| 7197|(262144,[9,12449,...|[0.93106743429211...|[0.71729179458066...|       0.0|\n",
            "| 20|  technician| single|professional.course|     no|    yes|  no|telephone|  jun|        tue|      52|       1|  999|       1|    failure|        -1.7|        94.055|        -39.8|    0.702|     4991.6|  0|20137|(262144,[9,15646,...|[2.77045869989902...|[0.94105843460029...|       0.0|\n",
            "| 21|      admin.| single|        high.school|     no|    yes|  no| cellular|  jul|        wed|     680|       1|  999|       0|nonexistent|         1.4|        93.918|        -42.7|    4.957|     5228.1|  0|13069|(262144,[38765,39...|[1.16940492957232...|[0.76303743710726...|       0.0|\n",
            "| 21| blue-collar| single|           basic.9y|     no|     no|  no| cellular|  may|        mon|     154|       1|  999|       0|nonexistent|        -1.8|        92.893|        -46.2|    1.244|     5099.1|  0| 5668|(262144,[12449,30...|[3.47822709944676...|[0.97006187479972...|       0.0|\n",
            "| 21|    services| single|        high.school|     no|     no|  no| cellular|  may|        fri|     103|       6|  999|       0|nonexistent|        -1.8|        92.893|        -46.2|     1.25|     5099.1|  0|18982|(262144,[12449,30...|[3.62976634874706...|[0.97416288122711...|       0.0|\n",
            "| 21|     student| single|        high.school|     no|     no|  no| cellular|  jun|        thu|     400|       1|  999|       0|nonexistent|        -2.9|        92.963|        -40.8|     1.26|     5076.2|  1|13100|(262144,[12449,19...|[-0.3627614226156...|[0.41029126813973...|       1.0|\n",
            "+---+------------+-------+-------------------+-------+-------+----+---------+-----+-----------+--------+--------+-----+--------+-----------+------------+--------------+-------------+---------+-----------+---+-----+--------------------+--------------------+--------------------+----------+\n",
            "only showing top 20 rows\n",
            "\n",
            "+---+----------+-----+\n",
            "|  y|prediction|count|\n",
            "+---+----------+-----+\n",
            "|  1|       0.0|  551|\n",
            "|  0|       0.0| 7054|\n",
            "|  1|       1.0|  412|\n",
            "|  0|       1.0|  197|\n",
            "+---+----------+-----+\n",
            "\n",
            "+---+------------+-------+-------------------+-------+-------+----+---------+-----+-----------+--------+--------+-----+--------+-----------+------------+--------------+-------------+---------+-----------+---+-----+--------------------+--------------------+--------------------+----------+\n",
            "|age|         job|marital|          education|default|housing|loan|  contact|month|day_of_week|duration|campaign|pdays|previous|   poutcome|emp_var_rate|cons_price_idx|cons_conf_idx|euribor3m|nr_employed|  y|   id|            features|       rawPrediction|         probability|prediction|\n",
            "+---+------------+-------+-------------------+-------+-------+----+---------+-----+-----------+--------+--------+-----+--------+-----------+------------+--------------+-------------+---------+-----------+---+-----+--------------------+--------------------+--------------------+----------+\n",
            "| 18|     student| single|           basic.4y|     no|     no|  no| cellular|  apr|        thu|     108|       1|  999|       0|nonexistent|        -1.8|        93.075|        -47.1|    1.365|     5099.1|  0| 6252|(262144,[5034,124...|[2.27420334898374...|[0.90671791757741...|       0.0|\n",
            "| 18|     student| single|            unknown|     no|     no|  no|telephone|  sep|        tue|     401|       2|  999|       0|nonexistent|        -3.4|        92.379|        -29.8|    0.788|     5017.5|  0| 5670|(262144,[9,12449,...|[-0.0761193424519...|[0.48097934754982...|       1.0|\n",
            "| 18|     student| single|            unknown|     no|    yes|  no| cellular|  nov|        tue|     600|       2|  999|       3|    failure|        -1.1|        94.767|        -50.8|    1.049|     4963.6|  0|14740|(262144,[15646,19...|[-0.9998838936316...|[0.26896424987994...|       1.0|\n",
            "| 19|     student| single|           basic.9y|     no|     no|  no| cellular|  aug|        mon|      96|       1|    3|       1|    success|        -2.9|        92.201|        -31.4|    0.884|     5076.2|  0|17808|(262144,[12449,19...|[0.13993400716182...|[0.53492652748869...|       0.0|\n",
            "| 19|     student| single|           basic.9y|     no|    yes|  no|telephone|  aug|        mon|      85|       2|  999|       0|nonexistent|        -2.9|        92.201|        -31.4|    0.884|     5076.2|  0|16028|(262144,[9,19256,...|[2.35518534428419...|[0.91334550477787...|       0.0|\n",
            "| 19|     student| single|            unknown|     no|     no|  no| cellular|  nov|        mon|     132|       2|    3|       2|    success|        -3.4|        92.649|        -30.1|    0.714|     5017.5|  0|13473|(262144,[12449,19...|[-0.5341945603786...|[0.36953910590960...|       1.0|\n",
            "| 19|     student| single|            unknown|     no|    yes|  no|telephone|  apr|        tue|     396|       3|  999|       0|nonexistent|        -1.8|        93.075|        -47.1|    1.405|     5099.1|  1|16564|(262144,[9,19256,...|[1.37079619205061...|[0.79750875991563...|       0.0|\n",
            "| 19|     student| single|            unknown|     no|    yes| yes| cellular|  apr|        tue|     278|       3|  999|       0|nonexistent|        -1.8|        93.075|        -47.1|    1.405|     5099.1|  1| 3398|(262144,[19256,38...|[1.28971313462957...|[0.78409863027954...|       0.0|\n",
            "| 20| blue-collar| single|           basic.9y|unknown|    yes|  no|telephone|  may|        fri|      87|       4|  999|       0|nonexistent|        -1.8|        92.893|        -46.2|     1.25|     5099.1|  0| 9287|(262144,[9,2083,3...|[4.76896260734824...|[0.99158227737235...|       0.0|\n",
            "| 20|entrepreneur| single|        high.school|     no|     no|  no|telephone|  may|        fri|     217|       2|  999|       0|nonexistent|         1.1|        93.994|        -36.4|    4.855|     5191.0|  0|12353|(262144,[9,12449,...|[4.43017106335682...|[0.98822778423733...|       0.0|\n",
            "| 20|entrepreneur| single|        high.school|     no|     no|  no|telephone|  may|        thu|     598|       3|  999|       0|nonexistent|         1.1|        93.994|        -36.4|    4.855|     5191.0|  0| 8962|(262144,[9,12449,...|[2.63587753440882...|[0.93313520657522...|       0.0|\n",
            "| 20|    services| single|        high.school|     no|    yes|  no|telephone|  jun|        wed|     290|       2|  999|       0|nonexistent|         1.4|        94.465|        -41.8|    4.962|     5228.1|  0| 7564|(262144,[9,38765,...|[3.28506700129028...|[0.96391295301954...|       0.0|\n",
            "| 20|     student| single|        high.school|     no|    yes|  no| cellular|  may|        wed|     297|       1|  999|       0|nonexistent|        -1.8|        92.893|        -46.2|     1.27|     5099.1|  0|19254|(262144,[19256,30...|[2.02780813205626...|[0.88368597602537...|       0.0|\n",
            "| 20|     student| single|            unknown|     no|     no|  no| cellular|  oct|        mon|     137|       3|  999|       3|    failure|        -1.1|        94.601|        -49.5|    0.977|     4963.6|  0| 1441|(262144,[12449,15...|[1.16361394077361...|[0.76198876640189...|       0.0|\n",
            "| 20|     student| single|            unknown|     no|     no|  no|telephone|  oct|        tue|     250|       1|  999|       1|    failure|        -1.1|        94.601|        -49.5|    0.982|     4963.6|  0| 7197|(262144,[9,12449,...|[0.93106743429211...|[0.71729179458066...|       0.0|\n",
            "| 20|  technician| single|professional.course|     no|    yes|  no|telephone|  jun|        tue|      52|       1|  999|       1|    failure|        -1.7|        94.055|        -39.8|    0.702|     4991.6|  0|20137|(262144,[9,15646,...|[2.77045869989902...|[0.94105843460029...|       0.0|\n",
            "| 21|      admin.| single|        high.school|     no|    yes|  no| cellular|  jul|        wed|     680|       1|  999|       0|nonexistent|         1.4|        93.918|        -42.7|    4.957|     5228.1|  0|13069|(262144,[38765,39...|[1.16940492957232...|[0.76303743710726...|       0.0|\n",
            "| 21| blue-collar| single|           basic.9y|     no|     no|  no| cellular|  may|        mon|     154|       1|  999|       0|nonexistent|        -1.8|        92.893|        -46.2|    1.244|     5099.1|  0| 5668|(262144,[12449,30...|[3.47822709944676...|[0.97006187479972...|       0.0|\n",
            "| 21|    services| single|        high.school|     no|     no|  no| cellular|  may|        fri|     103|       6|  999|       0|nonexistent|        -1.8|        92.893|        -46.2|     1.25|     5099.1|  0|18982|(262144,[12449,30...|[3.62976634874706...|[0.97416288122711...|       0.0|\n",
            "| 21|     student| single|        high.school|     no|     no|  no| cellular|  jun|        thu|     400|       1|  999|       0|nonexistent|        -2.9|        92.963|        -40.8|     1.26|     5076.2|  1|13100|(262144,[12449,19...|[-0.3627614226156...|[0.41029126813973...|       1.0|\n",
            "+---+------------+-------+-------------------+-------+-------+----+---------+-----+-----------+--------+--------+-----+--------+-----------+------------+--------------+-------------+---------+-----------+---+-----+--------------------+--------------------+--------------------+----------+\n",
            "only showing top 20 rows\n",
            "\n",
            "+---+----------+-----+\n",
            "|  y|prediction|count|\n",
            "+---+----------+-----+\n",
            "|  1|       0.0|  551|\n",
            "|  0|       0.0| 7054|\n",
            "|  1|       1.0|  412|\n",
            "|  0|       1.0|  197|\n",
            "+---+----------+-----+\n",
            "\n",
            "+---+------------+-------+-------------------+-------+-------+----+---------+-----+-----------+--------+--------+-----+--------+-----------+------------+--------------+-------------+---------+-----------+---+-----+--------------------+--------------------+--------------------+----------+\n",
            "|age|         job|marital|          education|default|housing|loan|  contact|month|day_of_week|duration|campaign|pdays|previous|   poutcome|emp_var_rate|cons_price_idx|cons_conf_idx|euribor3m|nr_employed|  y|   id|            features|       rawPrediction|         probability|prediction|\n",
            "+---+------------+-------+-------------------+-------+-------+----+---------+-----+-----------+--------+--------+-----+--------+-----------+------------+--------------+-------------+---------+-----------+---+-----+--------------------+--------------------+--------------------+----------+\n",
            "| 18|     student| single|           basic.4y|     no|     no|  no| cellular|  apr|        thu|     108|       1|  999|       0|nonexistent|        -1.8|        93.075|        -47.1|    1.365|     5099.1|  0| 6252|(262144,[5034,124...|[2.27420334898374...|[0.90671791757741...|       0.0|\n",
            "| 18|     student| single|            unknown|     no|     no|  no|telephone|  sep|        tue|     401|       2|  999|       0|nonexistent|        -3.4|        92.379|        -29.8|    0.788|     5017.5|  0| 5670|(262144,[9,12449,...|[-0.0761193424519...|[0.48097934754982...|       1.0|\n",
            "| 18|     student| single|            unknown|     no|    yes|  no| cellular|  nov|        tue|     600|       2|  999|       3|    failure|        -1.1|        94.767|        -50.8|    1.049|     4963.6|  0|14740|(262144,[15646,19...|[-0.9998838936316...|[0.26896424987994...|       1.0|\n",
            "| 19|     student| single|           basic.9y|     no|     no|  no| cellular|  aug|        mon|      96|       1|    3|       1|    success|        -2.9|        92.201|        -31.4|    0.884|     5076.2|  0|17808|(262144,[12449,19...|[0.13993400716182...|[0.53492652748869...|       0.0|\n",
            "| 19|     student| single|           basic.9y|     no|    yes|  no|telephone|  aug|        mon|      85|       2|  999|       0|nonexistent|        -2.9|        92.201|        -31.4|    0.884|     5076.2|  0|16028|(262144,[9,19256,...|[2.35518534428419...|[0.91334550477787...|       0.0|\n",
            "| 19|     student| single|            unknown|     no|     no|  no| cellular|  nov|        mon|     132|       2|    3|       2|    success|        -3.4|        92.649|        -30.1|    0.714|     5017.5|  0|13473|(262144,[12449,19...|[-0.5341945603786...|[0.36953910590960...|       1.0|\n",
            "| 19|     student| single|            unknown|     no|    yes|  no|telephone|  apr|        tue|     396|       3|  999|       0|nonexistent|        -1.8|        93.075|        -47.1|    1.405|     5099.1|  1|16564|(262144,[9,19256,...|[1.37079619205061...|[0.79750875991563...|       0.0|\n",
            "| 19|     student| single|            unknown|     no|    yes| yes| cellular|  apr|        tue|     278|       3|  999|       0|nonexistent|        -1.8|        93.075|        -47.1|    1.405|     5099.1|  1| 3398|(262144,[19256,38...|[1.28971313462957...|[0.78409863027954...|       0.0|\n",
            "| 20| blue-collar| single|           basic.9y|unknown|    yes|  no|telephone|  may|        fri|      87|       4|  999|       0|nonexistent|        -1.8|        92.893|        -46.2|     1.25|     5099.1|  0| 9287|(262144,[9,2083,3...|[4.76896260734824...|[0.99158227737235...|       0.0|\n",
            "| 20|entrepreneur| single|        high.school|     no|     no|  no|telephone|  may|        fri|     217|       2|  999|       0|nonexistent|         1.1|        93.994|        -36.4|    4.855|     5191.0|  0|12353|(262144,[9,12449,...|[4.43017106335682...|[0.98822778423733...|       0.0|\n",
            "| 20|entrepreneur| single|        high.school|     no|     no|  no|telephone|  may|        thu|     598|       3|  999|       0|nonexistent|         1.1|        93.994|        -36.4|    4.855|     5191.0|  0| 8962|(262144,[9,12449,...|[2.63587753440882...|[0.93313520657522...|       0.0|\n",
            "| 20|    services| single|        high.school|     no|    yes|  no|telephone|  jun|        wed|     290|       2|  999|       0|nonexistent|         1.4|        94.465|        -41.8|    4.962|     5228.1|  0| 7564|(262144,[9,38765,...|[3.28506700129028...|[0.96391295301954...|       0.0|\n",
            "| 20|     student| single|        high.school|     no|    yes|  no| cellular|  may|        wed|     297|       1|  999|       0|nonexistent|        -1.8|        92.893|        -46.2|     1.27|     5099.1|  0|19254|(262144,[19256,30...|[2.02780813205626...|[0.88368597602537...|       0.0|\n",
            "| 20|     student| single|            unknown|     no|     no|  no| cellular|  oct|        mon|     137|       3|  999|       3|    failure|        -1.1|        94.601|        -49.5|    0.977|     4963.6|  0| 1441|(262144,[12449,15...|[1.16361394077361...|[0.76198876640189...|       0.0|\n",
            "| 20|     student| single|            unknown|     no|     no|  no|telephone|  oct|        tue|     250|       1|  999|       1|    failure|        -1.1|        94.601|        -49.5|    0.982|     4963.6|  0| 7197|(262144,[9,12449,...|[0.93106743429211...|[0.71729179458066...|       0.0|\n",
            "| 20|  technician| single|professional.course|     no|    yes|  no|telephone|  jun|        tue|      52|       1|  999|       1|    failure|        -1.7|        94.055|        -39.8|    0.702|     4991.6|  0|20137|(262144,[9,15646,...|[2.77045869989902...|[0.94105843460029...|       0.0|\n",
            "| 21|      admin.| single|        high.school|     no|    yes|  no| cellular|  jul|        wed|     680|       1|  999|       0|nonexistent|         1.4|        93.918|        -42.7|    4.957|     5228.1|  0|13069|(262144,[38765,39...|[1.16940492957232...|[0.76303743710726...|       0.0|\n",
            "| 21| blue-collar| single|           basic.9y|     no|     no|  no| cellular|  may|        mon|     154|       1|  999|       0|nonexistent|        -1.8|        92.893|        -46.2|    1.244|     5099.1|  0| 5668|(262144,[12449,30...|[3.47822709944676...|[0.97006187479972...|       0.0|\n",
            "| 21|    services| single|        high.school|     no|     no|  no| cellular|  may|        fri|     103|       6|  999|       0|nonexistent|        -1.8|        92.893|        -46.2|     1.25|     5099.1|  0|18982|(262144,[12449,30...|[3.62976634874706...|[0.97416288122711...|       0.0|\n",
            "| 21|     student| single|        high.school|     no|     no|  no| cellular|  jun|        thu|     400|       1|  999|       0|nonexistent|        -2.9|        92.963|        -40.8|     1.26|     5076.2|  1|13100|(262144,[12449,19...|[-0.3627614226156...|[0.41029126813973...|       1.0|\n",
            "+---+------------+-------+-------------------+-------+-------+----+---------+-----+-----------+--------+--------+-----+--------+-----------+------------+--------------+-------------+---------+-----------+---+-----+--------------------+--------------------+--------------------+----------+\n",
            "only showing top 20 rows\n",
            "\n",
            "+---+----------+-----+\n",
            "|  y|prediction|count|\n",
            "+---+----------+-----+\n",
            "|  1|       0.0|  551|\n",
            "|  0|       0.0| 7054|\n",
            "|  1|       1.0|  412|\n",
            "|  0|       1.0|  197|\n",
            "+---+----------+-----+\n",
            "\n",
            "+---+------------+-------+-------------------+-------+-------+----+---------+-----+-----------+--------+--------+-----+--------+-----------+------------+--------------+-------------+---------+-----------+---+-----+--------------------+--------------------+--------------------+----------+\n",
            "|age|         job|marital|          education|default|housing|loan|  contact|month|day_of_week|duration|campaign|pdays|previous|   poutcome|emp_var_rate|cons_price_idx|cons_conf_idx|euribor3m|nr_employed|  y|   id|            features|       rawPrediction|         probability|prediction|\n",
            "+---+------------+-------+-------------------+-------+-------+----+---------+-----+-----------+--------+--------+-----+--------+-----------+------------+--------------+-------------+---------+-----------+---+-----+--------------------+--------------------+--------------------+----------+\n",
            "| 18|     student| single|           basic.4y|     no|     no|  no| cellular|  apr|        thu|     108|       1|  999|       0|nonexistent|        -1.8|        93.075|        -47.1|    1.365|     5099.1|  0| 6252|(262144,[5034,124...|[2.27420334898374...|[0.90671791757741...|       0.0|\n",
            "| 18|     student| single|            unknown|     no|     no|  no|telephone|  sep|        tue|     401|       2|  999|       0|nonexistent|        -3.4|        92.379|        -29.8|    0.788|     5017.5|  0| 5670|(262144,[9,12449,...|[-0.0761193424519...|[0.48097934754982...|       1.0|\n",
            "| 18|     student| single|            unknown|     no|    yes|  no| cellular|  nov|        tue|     600|       2|  999|       3|    failure|        -1.1|        94.767|        -50.8|    1.049|     4963.6|  0|14740|(262144,[15646,19...|[-0.9998838936316...|[0.26896424987994...|       1.0|\n",
            "| 19|     student| single|           basic.9y|     no|     no|  no| cellular|  aug|        mon|      96|       1|    3|       1|    success|        -2.9|        92.201|        -31.4|    0.884|     5076.2|  0|17808|(262144,[12449,19...|[0.13993400716182...|[0.53492652748869...|       0.0|\n",
            "| 19|     student| single|           basic.9y|     no|    yes|  no|telephone|  aug|        mon|      85|       2|  999|       0|nonexistent|        -2.9|        92.201|        -31.4|    0.884|     5076.2|  0|16028|(262144,[9,19256,...|[2.35518534428419...|[0.91334550477787...|       0.0|\n",
            "| 19|     student| single|            unknown|     no|     no|  no| cellular|  nov|        mon|     132|       2|    3|       2|    success|        -3.4|        92.649|        -30.1|    0.714|     5017.5|  0|13473|(262144,[12449,19...|[-0.5341945603786...|[0.36953910590960...|       1.0|\n",
            "| 19|     student| single|            unknown|     no|    yes|  no|telephone|  apr|        tue|     396|       3|  999|       0|nonexistent|        -1.8|        93.075|        -47.1|    1.405|     5099.1|  1|16564|(262144,[9,19256,...|[1.37079619205061...|[0.79750875991563...|       0.0|\n",
            "| 19|     student| single|            unknown|     no|    yes| yes| cellular|  apr|        tue|     278|       3|  999|       0|nonexistent|        -1.8|        93.075|        -47.1|    1.405|     5099.1|  1| 3398|(262144,[19256,38...|[1.28971313462957...|[0.78409863027954...|       0.0|\n",
            "| 20| blue-collar| single|           basic.9y|unknown|    yes|  no|telephone|  may|        fri|      87|       4|  999|       0|nonexistent|        -1.8|        92.893|        -46.2|     1.25|     5099.1|  0| 9287|(262144,[9,2083,3...|[4.76896260734824...|[0.99158227737235...|       0.0|\n",
            "| 20|entrepreneur| single|        high.school|     no|     no|  no|telephone|  may|        fri|     217|       2|  999|       0|nonexistent|         1.1|        93.994|        -36.4|    4.855|     5191.0|  0|12353|(262144,[9,12449,...|[4.43017106335682...|[0.98822778423733...|       0.0|\n",
            "| 20|entrepreneur| single|        high.school|     no|     no|  no|telephone|  may|        thu|     598|       3|  999|       0|nonexistent|         1.1|        93.994|        -36.4|    4.855|     5191.0|  0| 8962|(262144,[9,12449,...|[2.63587753440882...|[0.93313520657522...|       0.0|\n",
            "| 20|    services| single|        high.school|     no|    yes|  no|telephone|  jun|        wed|     290|       2|  999|       0|nonexistent|         1.4|        94.465|        -41.8|    4.962|     5228.1|  0| 7564|(262144,[9,38765,...|[3.28506700129028...|[0.96391295301954...|       0.0|\n",
            "| 20|     student| single|        high.school|     no|    yes|  no| cellular|  may|        wed|     297|       1|  999|       0|nonexistent|        -1.8|        92.893|        -46.2|     1.27|     5099.1|  0|19254|(262144,[19256,30...|[2.02780813205626...|[0.88368597602537...|       0.0|\n",
            "| 20|     student| single|            unknown|     no|     no|  no| cellular|  oct|        mon|     137|       3|  999|       3|    failure|        -1.1|        94.601|        -49.5|    0.977|     4963.6|  0| 1441|(262144,[12449,15...|[1.16361394077361...|[0.76198876640189...|       0.0|\n",
            "| 20|     student| single|            unknown|     no|     no|  no|telephone|  oct|        tue|     250|       1|  999|       1|    failure|        -1.1|        94.601|        -49.5|    0.982|     4963.6|  0| 7197|(262144,[9,12449,...|[0.93106743429211...|[0.71729179458066...|       0.0|\n",
            "| 20|  technician| single|professional.course|     no|    yes|  no|telephone|  jun|        tue|      52|       1|  999|       1|    failure|        -1.7|        94.055|        -39.8|    0.702|     4991.6|  0|20137|(262144,[9,15646,...|[2.77045869989902...|[0.94105843460029...|       0.0|\n",
            "| 21|      admin.| single|        high.school|     no|    yes|  no| cellular|  jul|        wed|     680|       1|  999|       0|nonexistent|         1.4|        93.918|        -42.7|    4.957|     5228.1|  0|13069|(262144,[38765,39...|[1.16940492957232...|[0.76303743710726...|       0.0|\n",
            "| 21| blue-collar| single|           basic.9y|     no|     no|  no| cellular|  may|        mon|     154|       1|  999|       0|nonexistent|        -1.8|        92.893|        -46.2|    1.244|     5099.1|  0| 5668|(262144,[12449,30...|[3.47822709944676...|[0.97006187479972...|       0.0|\n",
            "| 21|    services| single|        high.school|     no|     no|  no| cellular|  may|        fri|     103|       6|  999|       0|nonexistent|        -1.8|        92.893|        -46.2|     1.25|     5099.1|  0|18982|(262144,[12449,30...|[3.62976634874706...|[0.97416288122711...|       0.0|\n",
            "| 21|     student| single|        high.school|     no|     no|  no| cellular|  jun|        thu|     400|       1|  999|       0|nonexistent|        -2.9|        92.963|        -40.8|     1.26|     5076.2|  1|13100|(262144,[12449,19...|[-0.3627614226156...|[0.41029126813973...|       1.0|\n",
            "+---+------------+-------+-------------------+-------+-------+----+---------+-----+-----------+--------+--------+-----+--------+-----------+------------+--------------+-------------+---------+-----------+---+-----+--------------------+--------------------+--------------------+----------+\n",
            "only showing top 20 rows\n",
            "\n",
            "+---+----------+-----+\n",
            "|  y|prediction|count|\n",
            "+---+----------+-----+\n",
            "|  1|       0.0|  551|\n",
            "|  0|       0.0| 7054|\n",
            "|  1|       1.0|  412|\n",
            "|  0|       1.0|  197|\n",
            "+---+----------+-----+\n",
            "\n",
            "+---+------------+-------+-------------------+-------+-------+----+---------+-----+-----------+--------+--------+-----+--------+-----------+------------+--------------+-------------+---------+-----------+---+-----+--------------------+--------------------+--------------------+----------+\n",
            "|age|         job|marital|          education|default|housing|loan|  contact|month|day_of_week|duration|campaign|pdays|previous|   poutcome|emp_var_rate|cons_price_idx|cons_conf_idx|euribor3m|nr_employed|  y|   id|            features|       rawPrediction|         probability|prediction|\n",
            "+---+------------+-------+-------------------+-------+-------+----+---------+-----+-----------+--------+--------+-----+--------+-----------+------------+--------------+-------------+---------+-----------+---+-----+--------------------+--------------------+--------------------+----------+\n",
            "| 18|     student| single|           basic.4y|     no|     no|  no| cellular|  apr|        thu|     108|       1|  999|       0|nonexistent|        -1.8|        93.075|        -47.1|    1.365|     5099.1|  0| 6252|(262144,[5034,124...|[2.27420334898374...|[0.90671791757741...|       0.0|\n",
            "| 18|     student| single|            unknown|     no|     no|  no|telephone|  sep|        tue|     401|       2|  999|       0|nonexistent|        -3.4|        92.379|        -29.8|    0.788|     5017.5|  0| 5670|(262144,[9,12449,...|[-0.0761193424519...|[0.48097934754982...|       1.0|\n",
            "| 18|     student| single|            unknown|     no|    yes|  no| cellular|  nov|        tue|     600|       2|  999|       3|    failure|        -1.1|        94.767|        -50.8|    1.049|     4963.6|  0|14740|(262144,[15646,19...|[-0.9998838936316...|[0.26896424987994...|       1.0|\n",
            "| 19|     student| single|           basic.9y|     no|     no|  no| cellular|  aug|        mon|      96|       1|    3|       1|    success|        -2.9|        92.201|        -31.4|    0.884|     5076.2|  0|17808|(262144,[12449,19...|[0.13993400716182...|[0.53492652748869...|       0.0|\n",
            "| 19|     student| single|           basic.9y|     no|    yes|  no|telephone|  aug|        mon|      85|       2|  999|       0|nonexistent|        -2.9|        92.201|        -31.4|    0.884|     5076.2|  0|16028|(262144,[9,19256,...|[2.35518534428419...|[0.91334550477787...|       0.0|\n",
            "| 19|     student| single|            unknown|     no|     no|  no| cellular|  nov|        mon|     132|       2|    3|       2|    success|        -3.4|        92.649|        -30.1|    0.714|     5017.5|  0|13473|(262144,[12449,19...|[-0.5341945603786...|[0.36953910590960...|       1.0|\n",
            "| 19|     student| single|            unknown|     no|    yes|  no|telephone|  apr|        tue|     396|       3|  999|       0|nonexistent|        -1.8|        93.075|        -47.1|    1.405|     5099.1|  1|16564|(262144,[9,19256,...|[1.37079619205061...|[0.79750875991563...|       0.0|\n",
            "| 19|     student| single|            unknown|     no|    yes| yes| cellular|  apr|        tue|     278|       3|  999|       0|nonexistent|        -1.8|        93.075|        -47.1|    1.405|     5099.1|  1| 3398|(262144,[19256,38...|[1.28971313462957...|[0.78409863027954...|       0.0|\n",
            "| 20| blue-collar| single|           basic.9y|unknown|    yes|  no|telephone|  may|        fri|      87|       4|  999|       0|nonexistent|        -1.8|        92.893|        -46.2|     1.25|     5099.1|  0| 9287|(262144,[9,2083,3...|[4.76896260734824...|[0.99158227737235...|       0.0|\n",
            "| 20|entrepreneur| single|        high.school|     no|     no|  no|telephone|  may|        fri|     217|       2|  999|       0|nonexistent|         1.1|        93.994|        -36.4|    4.855|     5191.0|  0|12353|(262144,[9,12449,...|[4.43017106335682...|[0.98822778423733...|       0.0|\n",
            "| 20|entrepreneur| single|        high.school|     no|     no|  no|telephone|  may|        thu|     598|       3|  999|       0|nonexistent|         1.1|        93.994|        -36.4|    4.855|     5191.0|  0| 8962|(262144,[9,12449,...|[2.63587753440882...|[0.93313520657522...|       0.0|\n",
            "| 20|    services| single|        high.school|     no|    yes|  no|telephone|  jun|        wed|     290|       2|  999|       0|nonexistent|         1.4|        94.465|        -41.8|    4.962|     5228.1|  0| 7564|(262144,[9,38765,...|[3.28506700129028...|[0.96391295301954...|       0.0|\n",
            "| 20|     student| single|        high.school|     no|    yes|  no| cellular|  may|        wed|     297|       1|  999|       0|nonexistent|        -1.8|        92.893|        -46.2|     1.27|     5099.1|  0|19254|(262144,[19256,30...|[2.02780813205626...|[0.88368597602537...|       0.0|\n",
            "| 20|     student| single|            unknown|     no|     no|  no| cellular|  oct|        mon|     137|       3|  999|       3|    failure|        -1.1|        94.601|        -49.5|    0.977|     4963.6|  0| 1441|(262144,[12449,15...|[1.16361394077361...|[0.76198876640189...|       0.0|\n",
            "| 20|     student| single|            unknown|     no|     no|  no|telephone|  oct|        tue|     250|       1|  999|       1|    failure|        -1.1|        94.601|        -49.5|    0.982|     4963.6|  0| 7197|(262144,[9,12449,...|[0.93106743429211...|[0.71729179458066...|       0.0|\n",
            "| 20|  technician| single|professional.course|     no|    yes|  no|telephone|  jun|        tue|      52|       1|  999|       1|    failure|        -1.7|        94.055|        -39.8|    0.702|     4991.6|  0|20137|(262144,[9,15646,...|[2.77045869989902...|[0.94105843460029...|       0.0|\n",
            "| 21|      admin.| single|        high.school|     no|    yes|  no| cellular|  jul|        wed|     680|       1|  999|       0|nonexistent|         1.4|        93.918|        -42.7|    4.957|     5228.1|  0|13069|(262144,[38765,39...|[1.16940492957232...|[0.76303743710726...|       0.0|\n",
            "| 21| blue-collar| single|           basic.9y|     no|     no|  no| cellular|  may|        mon|     154|       1|  999|       0|nonexistent|        -1.8|        92.893|        -46.2|    1.244|     5099.1|  0| 5668|(262144,[12449,30...|[3.47822709944676...|[0.97006187479972...|       0.0|\n",
            "| 21|    services| single|        high.school|     no|     no|  no| cellular|  may|        fri|     103|       6|  999|       0|nonexistent|        -1.8|        92.893|        -46.2|     1.25|     5099.1|  0|18982|(262144,[12449,30...|[3.62976634874706...|[0.97416288122711...|       0.0|\n",
            "| 21|     student| single|        high.school|     no|     no|  no| cellular|  jun|        thu|     400|       1|  999|       0|nonexistent|        -2.9|        92.963|        -40.8|     1.26|     5076.2|  1|13100|(262144,[12449,19...|[-0.3627614226156...|[0.41029126813973...|       1.0|\n",
            "+---+------------+-------+-------------------+-------+-------+----+---------+-----+-----------+--------+--------+-----+--------+-----------+------------+--------------+-------------+---------+-----------+---+-----+--------------------+--------------------+--------------------+----------+\n",
            "only showing top 20 rows\n",
            "\n",
            "+---+----------+-----+\n",
            "|  y|prediction|count|\n",
            "+---+----------+-----+\n",
            "|  1|       0.0|  551|\n",
            "|  0|       0.0| 7054|\n",
            "|  1|       1.0|  412|\n",
            "|  0|       1.0|  197|\n",
            "+---+----------+-----+\n",
            "\n",
            "+---+------------+-------+-------------------+-------+-------+----+---------+-----+-----------+--------+--------+-----+--------+-----------+------------+--------------+-------------+---------+-----------+---+-----+--------------------+--------------------+--------------------+----------+\n",
            "|age|         job|marital|          education|default|housing|loan|  contact|month|day_of_week|duration|campaign|pdays|previous|   poutcome|emp_var_rate|cons_price_idx|cons_conf_idx|euribor3m|nr_employed|  y|   id|            features|       rawPrediction|         probability|prediction|\n",
            "+---+------------+-------+-------------------+-------+-------+----+---------+-----+-----------+--------+--------+-----+--------+-----------+------------+--------------+-------------+---------+-----------+---+-----+--------------------+--------------------+--------------------+----------+\n",
            "| 18|     student| single|           basic.4y|     no|     no|  no| cellular|  apr|        thu|     108|       1|  999|       0|nonexistent|        -1.8|        93.075|        -47.1|    1.365|     5099.1|  0| 6252|(262144,[5034,124...|[2.27420334898374...|[0.90671791757741...|       0.0|\n",
            "| 18|     student| single|            unknown|     no|     no|  no|telephone|  sep|        tue|     401|       2|  999|       0|nonexistent|        -3.4|        92.379|        -29.8|    0.788|     5017.5|  0| 5670|(262144,[9,12449,...|[-0.0761193424519...|[0.48097934754982...|       1.0|\n",
            "| 18|     student| single|            unknown|     no|    yes|  no| cellular|  nov|        tue|     600|       2|  999|       3|    failure|        -1.1|        94.767|        -50.8|    1.049|     4963.6|  0|14740|(262144,[15646,19...|[-0.9998838936316...|[0.26896424987994...|       1.0|\n",
            "| 19|     student| single|           basic.9y|     no|     no|  no| cellular|  aug|        mon|      96|       1|    3|       1|    success|        -2.9|        92.201|        -31.4|    0.884|     5076.2|  0|17808|(262144,[12449,19...|[0.13993400716182...|[0.53492652748869...|       0.0|\n",
            "| 19|     student| single|           basic.9y|     no|    yes|  no|telephone|  aug|        mon|      85|       2|  999|       0|nonexistent|        -2.9|        92.201|        -31.4|    0.884|     5076.2|  0|16028|(262144,[9,19256,...|[2.35518534428419...|[0.91334550477787...|       0.0|\n",
            "| 19|     student| single|            unknown|     no|     no|  no| cellular|  nov|        mon|     132|       2|    3|       2|    success|        -3.4|        92.649|        -30.1|    0.714|     5017.5|  0|13473|(262144,[12449,19...|[-0.5341945603786...|[0.36953910590960...|       1.0|\n",
            "| 19|     student| single|            unknown|     no|    yes|  no|telephone|  apr|        tue|     396|       3|  999|       0|nonexistent|        -1.8|        93.075|        -47.1|    1.405|     5099.1|  1|16564|(262144,[9,19256,...|[1.37079619205061...|[0.79750875991563...|       0.0|\n",
            "| 19|     student| single|            unknown|     no|    yes| yes| cellular|  apr|        tue|     278|       3|  999|       0|nonexistent|        -1.8|        93.075|        -47.1|    1.405|     5099.1|  1| 3398|(262144,[19256,38...|[1.28971313462957...|[0.78409863027954...|       0.0|\n",
            "| 20| blue-collar| single|           basic.9y|unknown|    yes|  no|telephone|  may|        fri|      87|       4|  999|       0|nonexistent|        -1.8|        92.893|        -46.2|     1.25|     5099.1|  0| 9287|(262144,[9,2083,3...|[4.76896260734824...|[0.99158227737235...|       0.0|\n",
            "| 20|entrepreneur| single|        high.school|     no|     no|  no|telephone|  may|        fri|     217|       2|  999|       0|nonexistent|         1.1|        93.994|        -36.4|    4.855|     5191.0|  0|12353|(262144,[9,12449,...|[4.43017106335682...|[0.98822778423733...|       0.0|\n",
            "| 20|entrepreneur| single|        high.school|     no|     no|  no|telephone|  may|        thu|     598|       3|  999|       0|nonexistent|         1.1|        93.994|        -36.4|    4.855|     5191.0|  0| 8962|(262144,[9,12449,...|[2.63587753440882...|[0.93313520657522...|       0.0|\n",
            "| 20|    services| single|        high.school|     no|    yes|  no|telephone|  jun|        wed|     290|       2|  999|       0|nonexistent|         1.4|        94.465|        -41.8|    4.962|     5228.1|  0| 7564|(262144,[9,38765,...|[3.28506700129028...|[0.96391295301954...|       0.0|\n",
            "| 20|     student| single|        high.school|     no|    yes|  no| cellular|  may|        wed|     297|       1|  999|       0|nonexistent|        -1.8|        92.893|        -46.2|     1.27|     5099.1|  0|19254|(262144,[19256,30...|[2.02780813205626...|[0.88368597602537...|       0.0|\n",
            "| 20|     student| single|            unknown|     no|     no|  no| cellular|  oct|        mon|     137|       3|  999|       3|    failure|        -1.1|        94.601|        -49.5|    0.977|     4963.6|  0| 1441|(262144,[12449,15...|[1.16361394077361...|[0.76198876640189...|       0.0|\n",
            "| 20|     student| single|            unknown|     no|     no|  no|telephone|  oct|        tue|     250|       1|  999|       1|    failure|        -1.1|        94.601|        -49.5|    0.982|     4963.6|  0| 7197|(262144,[9,12449,...|[0.93106743429211...|[0.71729179458066...|       0.0|\n",
            "| 20|  technician| single|professional.course|     no|    yes|  no|telephone|  jun|        tue|      52|       1|  999|       1|    failure|        -1.7|        94.055|        -39.8|    0.702|     4991.6|  0|20137|(262144,[9,15646,...|[2.77045869989902...|[0.94105843460029...|       0.0|\n",
            "| 21|      admin.| single|        high.school|     no|    yes|  no| cellular|  jul|        wed|     680|       1|  999|       0|nonexistent|         1.4|        93.918|        -42.7|    4.957|     5228.1|  0|13069|(262144,[38765,39...|[1.16940492957232...|[0.76303743710726...|       0.0|\n",
            "| 21| blue-collar| single|           basic.9y|     no|     no|  no| cellular|  may|        mon|     154|       1|  999|       0|nonexistent|        -1.8|        92.893|        -46.2|    1.244|     5099.1|  0| 5668|(262144,[12449,30...|[3.47822709944676...|[0.97006187479972...|       0.0|\n",
            "| 21|    services| single|        high.school|     no|     no|  no| cellular|  may|        fri|     103|       6|  999|       0|nonexistent|        -1.8|        92.893|        -46.2|     1.25|     5099.1|  0|18982|(262144,[12449,30...|[3.62976634874706...|[0.97416288122711...|       0.0|\n",
            "| 21|     student| single|        high.school|     no|     no|  no| cellular|  jun|        thu|     400|       1|  999|       0|nonexistent|        -2.9|        92.963|        -40.8|     1.26|     5076.2|  1|13100|(262144,[12449,19...|[-0.3627614226156...|[0.41029126813973...|       1.0|\n",
            "+---+------------+-------+-------------------+-------+-------+----+---------+-----+-----------+--------+--------+-----+--------+-----------+------------+--------------+-------------+---------+-----------+---+-----+--------------------+--------------------+--------------------+----------+\n",
            "only showing top 20 rows\n",
            "\n",
            "+---+----------+-----+\n",
            "|  y|prediction|count|\n",
            "+---+----------+-----+\n",
            "|  1|       0.0|  551|\n",
            "|  0|       0.0| 7054|\n",
            "|  1|       1.0|  412|\n",
            "|  0|       1.0|  197|\n",
            "+---+----------+-----+\n",
            "\n",
            "+---+------------+-------+-------------------+-------+-------+----+---------+-----+-----------+--------+--------+-----+--------+-----------+------------+--------------+-------------+---------+-----------+---+-----+--------------------+--------------------+--------------------+----------+\n",
            "|age|         job|marital|          education|default|housing|loan|  contact|month|day_of_week|duration|campaign|pdays|previous|   poutcome|emp_var_rate|cons_price_idx|cons_conf_idx|euribor3m|nr_employed|  y|   id|            features|       rawPrediction|         probability|prediction|\n",
            "+---+------------+-------+-------------------+-------+-------+----+---------+-----+-----------+--------+--------+-----+--------+-----------+------------+--------------+-------------+---------+-----------+---+-----+--------------------+--------------------+--------------------+----------+\n",
            "| 18|     student| single|           basic.4y|     no|     no|  no| cellular|  apr|        thu|     108|       1|  999|       0|nonexistent|        -1.8|        93.075|        -47.1|    1.365|     5099.1|  0| 6252|(262144,[5034,124...|[2.27420334898374...|[0.90671791757741...|       0.0|\n",
            "| 18|     student| single|            unknown|     no|     no|  no|telephone|  sep|        tue|     401|       2|  999|       0|nonexistent|        -3.4|        92.379|        -29.8|    0.788|     5017.5|  0| 5670|(262144,[9,12449,...|[-0.0761193424519...|[0.48097934754982...|       1.0|\n",
            "| 18|     student| single|            unknown|     no|    yes|  no| cellular|  nov|        tue|     600|       2|  999|       3|    failure|        -1.1|        94.767|        -50.8|    1.049|     4963.6|  0|14740|(262144,[15646,19...|[-0.9998838936316...|[0.26896424987994...|       1.0|\n",
            "| 19|     student| single|           basic.9y|     no|     no|  no| cellular|  aug|        mon|      96|       1|    3|       1|    success|        -2.9|        92.201|        -31.4|    0.884|     5076.2|  0|17808|(262144,[12449,19...|[0.13993400716182...|[0.53492652748869...|       0.0|\n",
            "| 19|     student| single|           basic.9y|     no|    yes|  no|telephone|  aug|        mon|      85|       2|  999|       0|nonexistent|        -2.9|        92.201|        -31.4|    0.884|     5076.2|  0|16028|(262144,[9,19256,...|[2.35518534428419...|[0.91334550477787...|       0.0|\n",
            "| 19|     student| single|            unknown|     no|     no|  no| cellular|  nov|        mon|     132|       2|    3|       2|    success|        -3.4|        92.649|        -30.1|    0.714|     5017.5|  0|13473|(262144,[12449,19...|[-0.5341945603786...|[0.36953910590960...|       1.0|\n",
            "| 19|     student| single|            unknown|     no|    yes|  no|telephone|  apr|        tue|     396|       3|  999|       0|nonexistent|        -1.8|        93.075|        -47.1|    1.405|     5099.1|  1|16564|(262144,[9,19256,...|[1.37079619205061...|[0.79750875991563...|       0.0|\n",
            "| 19|     student| single|            unknown|     no|    yes| yes| cellular|  apr|        tue|     278|       3|  999|       0|nonexistent|        -1.8|        93.075|        -47.1|    1.405|     5099.1|  1| 3398|(262144,[19256,38...|[1.28971313462957...|[0.78409863027954...|       0.0|\n",
            "| 20| blue-collar| single|           basic.9y|unknown|    yes|  no|telephone|  may|        fri|      87|       4|  999|       0|nonexistent|        -1.8|        92.893|        -46.2|     1.25|     5099.1|  0| 9287|(262144,[9,2083,3...|[4.76896260734824...|[0.99158227737235...|       0.0|\n",
            "| 20|entrepreneur| single|        high.school|     no|     no|  no|telephone|  may|        fri|     217|       2|  999|       0|nonexistent|         1.1|        93.994|        -36.4|    4.855|     5191.0|  0|12353|(262144,[9,12449,...|[4.43017106335682...|[0.98822778423733...|       0.0|\n",
            "| 20|entrepreneur| single|        high.school|     no|     no|  no|telephone|  may|        thu|     598|       3|  999|       0|nonexistent|         1.1|        93.994|        -36.4|    4.855|     5191.0|  0| 8962|(262144,[9,12449,...|[2.63587753440882...|[0.93313520657522...|       0.0|\n",
            "| 20|    services| single|        high.school|     no|    yes|  no|telephone|  jun|        wed|     290|       2|  999|       0|nonexistent|         1.4|        94.465|        -41.8|    4.962|     5228.1|  0| 7564|(262144,[9,38765,...|[3.28506700129028...|[0.96391295301954...|       0.0|\n",
            "| 20|     student| single|        high.school|     no|    yes|  no| cellular|  may|        wed|     297|       1|  999|       0|nonexistent|        -1.8|        92.893|        -46.2|     1.27|     5099.1|  0|19254|(262144,[19256,30...|[2.02780813205626...|[0.88368597602537...|       0.0|\n",
            "| 20|     student| single|            unknown|     no|     no|  no| cellular|  oct|        mon|     137|       3|  999|       3|    failure|        -1.1|        94.601|        -49.5|    0.977|     4963.6|  0| 1441|(262144,[12449,15...|[1.16361394077361...|[0.76198876640189...|       0.0|\n",
            "| 20|     student| single|            unknown|     no|     no|  no|telephone|  oct|        tue|     250|       1|  999|       1|    failure|        -1.1|        94.601|        -49.5|    0.982|     4963.6|  0| 7197|(262144,[9,12449,...|[0.93106743429211...|[0.71729179458066...|       0.0|\n",
            "| 20|  technician| single|professional.course|     no|    yes|  no|telephone|  jun|        tue|      52|       1|  999|       1|    failure|        -1.7|        94.055|        -39.8|    0.702|     4991.6|  0|20137|(262144,[9,15646,...|[2.77045869989902...|[0.94105843460029...|       0.0|\n",
            "| 21|      admin.| single|        high.school|     no|    yes|  no| cellular|  jul|        wed|     680|       1|  999|       0|nonexistent|         1.4|        93.918|        -42.7|    4.957|     5228.1|  0|13069|(262144,[38765,39...|[1.16940492957232...|[0.76303743710726...|       0.0|\n",
            "| 21| blue-collar| single|           basic.9y|     no|     no|  no| cellular|  may|        mon|     154|       1|  999|       0|nonexistent|        -1.8|        92.893|        -46.2|    1.244|     5099.1|  0| 5668|(262144,[12449,30...|[3.47822709944676...|[0.97006187479972...|       0.0|\n",
            "| 21|    services| single|        high.school|     no|     no|  no| cellular|  may|        fri|     103|       6|  999|       0|nonexistent|        -1.8|        92.893|        -46.2|     1.25|     5099.1|  0|18982|(262144,[12449,30...|[3.62976634874706...|[0.97416288122711...|       0.0|\n",
            "| 21|     student| single|        high.school|     no|     no|  no| cellular|  jun|        thu|     400|       1|  999|       0|nonexistent|        -2.9|        92.963|        -40.8|     1.26|     5076.2|  1|13100|(262144,[12449,19...|[-0.3627614226156...|[0.41029126813973...|       1.0|\n",
            "+---+------------+-------+-------------------+-------+-------+----+---------+-----+-----------+--------+--------+-----+--------+-----------+------------+--------------+-------------+---------+-----------+---+-----+--------------------+--------------------+--------------------+----------+\n",
            "only showing top 20 rows\n",
            "\n",
            "+---+----------+-----+\n",
            "|  y|prediction|count|\n",
            "+---+----------+-----+\n",
            "|  1|       0.0|  551|\n",
            "|  0|       0.0| 7054|\n",
            "|  1|       1.0|  412|\n",
            "|  0|       1.0|  197|\n",
            "+---+----------+-----+\n",
            "\n",
            "+---+------------+-------+-------------------+-------+-------+----+---------+-----+-----------+--------+--------+-----+--------+-----------+------------+--------------+-------------+---------+-----------+---+-----+--------------------+--------------------+--------------------+----------+\n",
            "|age|         job|marital|          education|default|housing|loan|  contact|month|day_of_week|duration|campaign|pdays|previous|   poutcome|emp_var_rate|cons_price_idx|cons_conf_idx|euribor3m|nr_employed|  y|   id|            features|       rawPrediction|         probability|prediction|\n",
            "+---+------------+-------+-------------------+-------+-------+----+---------+-----+-----------+--------+--------+-----+--------+-----------+------------+--------------+-------------+---------+-----------+---+-----+--------------------+--------------------+--------------------+----------+\n",
            "| 18|     student| single|           basic.4y|     no|     no|  no| cellular|  apr|        thu|     108|       1|  999|       0|nonexistent|        -1.8|        93.075|        -47.1|    1.365|     5099.1|  0| 6252|(262144,[5034,124...|[2.27420334898374...|[0.90671791757741...|       0.0|\n",
            "| 18|     student| single|            unknown|     no|     no|  no|telephone|  sep|        tue|     401|       2|  999|       0|nonexistent|        -3.4|        92.379|        -29.8|    0.788|     5017.5|  0| 5670|(262144,[9,12449,...|[-0.0761193424519...|[0.48097934754982...|       1.0|\n",
            "| 18|     student| single|            unknown|     no|    yes|  no| cellular|  nov|        tue|     600|       2|  999|       3|    failure|        -1.1|        94.767|        -50.8|    1.049|     4963.6|  0|14740|(262144,[15646,19...|[-0.9998838936316...|[0.26896424987994...|       1.0|\n",
            "| 19|     student| single|           basic.9y|     no|     no|  no| cellular|  aug|        mon|      96|       1|    3|       1|    success|        -2.9|        92.201|        -31.4|    0.884|     5076.2|  0|17808|(262144,[12449,19...|[0.13993400716182...|[0.53492652748869...|       0.0|\n",
            "| 19|     student| single|           basic.9y|     no|    yes|  no|telephone|  aug|        mon|      85|       2|  999|       0|nonexistent|        -2.9|        92.201|        -31.4|    0.884|     5076.2|  0|16028|(262144,[9,19256,...|[2.35518534428419...|[0.91334550477787...|       0.0|\n",
            "| 19|     student| single|            unknown|     no|     no|  no| cellular|  nov|        mon|     132|       2|    3|       2|    success|        -3.4|        92.649|        -30.1|    0.714|     5017.5|  0|13473|(262144,[12449,19...|[-0.5341945603786...|[0.36953910590960...|       1.0|\n",
            "| 19|     student| single|            unknown|     no|    yes|  no|telephone|  apr|        tue|     396|       3|  999|       0|nonexistent|        -1.8|        93.075|        -47.1|    1.405|     5099.1|  1|16564|(262144,[9,19256,...|[1.37079619205061...|[0.79750875991563...|       0.0|\n",
            "| 19|     student| single|            unknown|     no|    yes| yes| cellular|  apr|        tue|     278|       3|  999|       0|nonexistent|        -1.8|        93.075|        -47.1|    1.405|     5099.1|  1| 3398|(262144,[19256,38...|[1.28971313462957...|[0.78409863027954...|       0.0|\n",
            "| 20| blue-collar| single|           basic.9y|unknown|    yes|  no|telephone|  may|        fri|      87|       4|  999|       0|nonexistent|        -1.8|        92.893|        -46.2|     1.25|     5099.1|  0| 9287|(262144,[9,2083,3...|[4.76896260734824...|[0.99158227737235...|       0.0|\n",
            "| 20|entrepreneur| single|        high.school|     no|     no|  no|telephone|  may|        fri|     217|       2|  999|       0|nonexistent|         1.1|        93.994|        -36.4|    4.855|     5191.0|  0|12353|(262144,[9,12449,...|[4.43017106335682...|[0.98822778423733...|       0.0|\n",
            "| 20|entrepreneur| single|        high.school|     no|     no|  no|telephone|  may|        thu|     598|       3|  999|       0|nonexistent|         1.1|        93.994|        -36.4|    4.855|     5191.0|  0| 8962|(262144,[9,12449,...|[2.63587753440882...|[0.93313520657522...|       0.0|\n",
            "| 20|    services| single|        high.school|     no|    yes|  no|telephone|  jun|        wed|     290|       2|  999|       0|nonexistent|         1.4|        94.465|        -41.8|    4.962|     5228.1|  0| 7564|(262144,[9,38765,...|[3.28506700129028...|[0.96391295301954...|       0.0|\n",
            "| 20|     student| single|        high.school|     no|    yes|  no| cellular|  may|        wed|     297|       1|  999|       0|nonexistent|        -1.8|        92.893|        -46.2|     1.27|     5099.1|  0|19254|(262144,[19256,30...|[2.02780813205626...|[0.88368597602537...|       0.0|\n",
            "| 20|     student| single|            unknown|     no|     no|  no| cellular|  oct|        mon|     137|       3|  999|       3|    failure|        -1.1|        94.601|        -49.5|    0.977|     4963.6|  0| 1441|(262144,[12449,15...|[1.16361394077361...|[0.76198876640189...|       0.0|\n",
            "| 20|     student| single|            unknown|     no|     no|  no|telephone|  oct|        tue|     250|       1|  999|       1|    failure|        -1.1|        94.601|        -49.5|    0.982|     4963.6|  0| 7197|(262144,[9,12449,...|[0.93106743429211...|[0.71729179458066...|       0.0|\n",
            "| 20|  technician| single|professional.course|     no|    yes|  no|telephone|  jun|        tue|      52|       1|  999|       1|    failure|        -1.7|        94.055|        -39.8|    0.702|     4991.6|  0|20137|(262144,[9,15646,...|[2.77045869989902...|[0.94105843460029...|       0.0|\n",
            "| 21|      admin.| single|        high.school|     no|    yes|  no| cellular|  jul|        wed|     680|       1|  999|       0|nonexistent|         1.4|        93.918|        -42.7|    4.957|     5228.1|  0|13069|(262144,[38765,39...|[1.16940492957232...|[0.76303743710726...|       0.0|\n",
            "| 21| blue-collar| single|           basic.9y|     no|     no|  no| cellular|  may|        mon|     154|       1|  999|       0|nonexistent|        -1.8|        92.893|        -46.2|    1.244|     5099.1|  0| 5668|(262144,[12449,30...|[3.47822709944676...|[0.97006187479972...|       0.0|\n",
            "| 21|    services| single|        high.school|     no|     no|  no| cellular|  may|        fri|     103|       6|  999|       0|nonexistent|        -1.8|        92.893|        -46.2|     1.25|     5099.1|  0|18982|(262144,[12449,30...|[3.62976634874706...|[0.97416288122711...|       0.0|\n",
            "| 21|     student| single|        high.school|     no|     no|  no| cellular|  jun|        thu|     400|       1|  999|       0|nonexistent|        -2.9|        92.963|        -40.8|     1.26|     5076.2|  1|13100|(262144,[12449,19...|[-0.3627614226156...|[0.41029126813973...|       1.0|\n",
            "+---+------------+-------+-------------------+-------+-------+----+---------+-----+-----------+--------+--------+-----+--------+-----------+------------+--------------+-------------+---------+-----------+---+-----+--------------------+--------------------+--------------------+----------+\n",
            "only showing top 20 rows\n",
            "\n",
            "+---+----------+-----+\n",
            "|  y|prediction|count|\n",
            "+---+----------+-----+\n",
            "|  1|       0.0|  551|\n",
            "|  0|       0.0| 7054|\n",
            "|  1|       1.0|  412|\n",
            "|  0|       1.0|  197|\n",
            "+---+----------+-----+\n",
            "\n",
            "2.88295165394402\n",
            "0.9089359629900169\n",
            "0.676518883415435\n",
            "0.42782969885773625\n"
          ]
        }
      ]
    },
    {
      "cell_type": "code",
      "source": [
        "rows = scaledData.count()\n",
        "cols = len(scaledData.columns)\n",
        "print(\"Total rows: \", rows)\n",
        "print(\"Total columns: \", cols)\n"
      ],
      "metadata": {
        "colab": {
          "base_uri": "https://localhost:8080/"
        },
        "id": "YlHGr-xj8LJz",
        "outputId": "37d8e6a1-8994-4982-dbc7-80034e71fccf"
      },
      "execution_count": 114,
      "outputs": [
        {
          "output_type": "stream",
          "name": "stdout",
          "text": [
            "Total rows:  41176\n",
            "Total columns:  3\n"
          ]
        }
      ]
    },
    {
      "cell_type": "code",
      "source": [
        "transformed_data.show(1)"
      ],
      "metadata": {
        "colab": {
          "base_uri": "https://localhost:8080/"
        },
        "id": "JpFg0bJYAAdR",
        "outputId": "d1226f7c-267c-4312-883c-6b6f4c993533"
      },
      "execution_count": 115,
      "outputs": [
        {
          "output_type": "stream",
          "name": "stdout",
          "text": [
            "+---+----------+-------+-----------------+-------+-------+----+--------+-----+-----------+--------+--------+-----+--------+-----------+------------+--------------+-------------+---------+-----------+---+---+---------+-------------+---------------+-------------+-------------+----------+-------------+-----------+-----------------+--------------+--------------+--------------+----------------+--------------+--------------+-------------+--------------+-------------+------------------+---------------+\n",
            "|age|       job|marital|        education|default|housing|loan| contact|month|day_of_week|duration|campaign|pdays|previous|   poutcome|emp_var_rate|cons_price_idx|cons_conf_idx|euribor3m|nr_employed|  y| id|job_index|marital_index|education_index|default_index|housing_index|loan_index|contact_index|month_index|day_of_week_index|poutcome_index|    job_onehot|marital_onehot|education_onehot|default_onehot|housing_onehot|  loan_onehot|contact_onehot| month_onehot|day_of_week_onehot|poutcome_onehot|\n",
            "+---+----------+-------+-----------------+-------+-------+----+--------+-----+-----------+--------+--------+-----+--------+-----------+------------+--------------+-------------+---------+-----------+---+---+---------+-------------+---------------+-------------+-------------+----------+-------------+-----------+-----------------+--------------+--------------+--------------+----------------+--------------+--------------+-------------+--------------+-------------+------------------+---------------+\n",
            "| 30|management|married|university.degree|     no|     no|  no|cellular|  mar|        mon|     116|       1|  999|       0|nonexistent|        -1.8|        92.843|        -50.0|    1.811|     5099.1|  1|  0|      4.0|          0.0|            0.0|          0.0|          1.0|       0.0|          0.0|        8.0|              1.0|           0.0|(11,[4],[1.0])| (3,[0],[1.0])|   (7,[0],[1.0])| (2,[0],[1.0])| (2,[1],[1.0])|(2,[0],[1.0])| (1,[0],[1.0])|(9,[8],[1.0])|     (4,[1],[1.0])|  (2,[0],[1.0])|\n",
            "+---+----------+-------+-----------------+-------+-------+----+--------+-----+-----------+--------+--------+-----+--------+-----------+------------+--------------+-------------+---------+-----------+---+---+---------+-------------+---------------+-------------+-------------+----------+-------------+-----------+-----------------+--------------+--------------+--------------+----------------+--------------+--------------+-------------+--------------+-------------+------------------+---------------+\n",
            "only showing top 1 row\n",
            "\n"
          ]
        }
      ]
    },
    {
      "cell_type": "code",
      "source": [
        "from pyspark.ml.classification import LogisticRegression\n",
        "from pyspark.ml.linalg import Vectors\n",
        "from pyspark.ml.feature import VectorAssembler\n",
        "from pyspark.ml.evaluation import BinaryClassificationEvaluator\n",
        "from pyspark.ml.feature import VectorAssembler\n",
        "from pyspark.ml.feature import StandardScaler\n",
        "df_new = transformed_data.select('age','campaign','job_index','marital_index','education_index','default_index','housing_index','duration', 'pdays', 'previous', 'emp_var_rate', 'cons_price_idx', 'euribor3m', 'nr_employed', 'contact_index', 'month_index', 'poutcome_index', 'y')\n",
        "# انتخاب تمامی ستون‌های عددی\n",
        "numeric_cols = ['age','campaign','job_index','marital_index','education_index','default_index','housing_index','duration', 'pdays', 'previous', 'emp_var_rate', 'cons_price_idx', 'euribor3m', 'nr_employed', 'contact_index', 'month_index', 'poutcome_index']\n",
        "\n",
        "# تبدیل تمام ستون‌های انتخاب شده به یک ستون وکتور\n",
        "assembler = VectorAssembler(inputCols=numeric_cols, outputCol=\"features\")\n",
        "output = assembler.transform(df_new).select(\"features\",'y')\n",
        "\n",
        "# نرمالایز کردن ویژگی‌ها\n",
        "scaler = StandardScaler(inputCol=\"features\", outputCol=\"scaledFeatures\",\n",
        "                        withStd=True, withMean=False)\n",
        "scalerModel = scaler.fit(output)\n",
        "scaledData = scalerModel.transform(output)\n",
        "scaledData.show()\n",
        "accuracy=0\n",
        "Precision=0\n",
        "Recall=0\n",
        "F_Measure=0\n",
        "for i in range(10):\n",
        "  train_data, test_data =scaledData.randomSplit([0.8, 0.2], seed=100)\n",
        "\n",
        "  lr = LogisticRegression(labelCol=\"y\", featuresCol=\"scaledFeatures\")\n",
        "  lrModel = lr.fit(train_data)\n",
        "  predictions = lrModel.transform(test_data)\n",
        "  #predictions.show()\n",
        "  evaluator = BinaryClassificationEvaluator(labelCol=\"y\",rawPredictionCol=\"rawPrediction\")\n",
        "  predictions = lrModel.transform(test_data)\n",
        "  predictions.groupBy('y', 'prediction').count().show()\n",
        "  TN = predictions.filter('prediction = 0 AND y = 0').count()\n",
        "  TP = predictions.filter('prediction = 1 AND y = 1').count()\n",
        "  FN = predictions.filter('prediction = 0 AND y = 1').count()\n",
        "  FP = predictions.filter('prediction = 1 AND y = 0').count()\n",
        "  accuracy =accuracy+ (TN + TP) / (TN + TP + FN + FP)\n",
        "  Precision =Precision+ TP/(TP+FP)\n",
        "  Recall =Recall+ TP/(TP+FN)\n",
        "  F_Measure=F_Measure+(2*Precision*Recall)/(Precision+Recall)\n",
        "print(accuracy/n)\n",
        "print(Precision/n)\n",
        "print(Recall/n)\n",
        "print(F_Measure)\n"
      ],
      "metadata": {
        "colab": {
          "base_uri": "https://localhost:8080/"
        },
        "id": "U12IYZib-FFH",
        "outputId": "e07c429f-da03-4aeb-eddf-03f1907adec2"
      },
      "execution_count": 122,
      "outputs": [
        {
          "output_type": "stream",
          "name": "stdout",
          "text": [
            "+--------------------+---+--------------------+\n",
            "|            features|  y|      scaledFeatures|\n",
            "+--------------------+---+--------------------+\n",
            "|[30.0,1.0,4.0,0.0...|  1|[2.87889085715131...|\n",
            "|[34.0,1.0,0.0,0.0...|  0|[3.26274297143816...|\n",
            "|[27.0,1.0,9.0,1.0...|  0|[2.59100177143618...|\n",
            "|[32.0,1.0,10.0,1....|  0|[3.07081691429474...|\n",
            "|[30.0,18.0,3.0,1....|  0|[2.87889085715131...|\n",
            "|[48.0,2.0,1.0,0.0...|  0|[4.60622537144211...|\n",
            "|(17,[0,1,6,7,8,10...|  0|(17,[0,1,6,7,8,10...|\n",
            "|[33.0,5.0,0.0,0.0...|  0|[3.16677994286645...|\n",
            "|[53.0,1.0,0.0,1.0...|  0|[5.08604051430066...|\n",
            "|(17,[0,1,4,7,8,10...|  0|(17,[0,1,4,7,8,10...|\n",
            "|[55.0,1.0,1.0,0.0...|  0|[5.27796657144408...|\n",
            "|[55.0,1.0,0.0,1.0...|  0|[5.27796657144408...|\n",
            "|(17,[0,1,4,6,7,8,...|  0|(17,[0,1,4,6,7,8,...|\n",
            "|[48.0,2.0,4.0,0.0...|  0|[4.60622537144211...|\n",
            "|[27.0,14.0,9.0,0....|  0|[2.59100177143618...|\n",
            "|[34.0,1.0,9.0,1.0...|  1|[3.26274297143816...|\n",
            "|[40.0,2.0,4.0,0.0...|  0|[3.83852114286842...|\n",
            "|[63.0,3.0,5.0,0.0...|  0|[6.04567080001777...|\n",
            "|[41.0,1.0,1.0,0.0...|  0|[3.93448417144013...|\n",
            "|[49.0,1.0,8.0,2.0...|  0|[4.70218840001382...|\n",
            "+--------------------+---+--------------------+\n",
            "only showing top 20 rows\n",
            "\n",
            "+---+----------+-----+\n",
            "|  y|prediction|count|\n",
            "+---+----------+-----+\n",
            "|  1|       0.0|  529|\n",
            "|  0|       0.0| 7110|\n",
            "|  1|       1.0|  382|\n",
            "|  0|       1.0|  193|\n",
            "+---+----------+-----+\n",
            "\n",
            "+---+----------+-----+\n",
            "|  y|prediction|count|\n",
            "+---+----------+-----+\n",
            "|  1|       0.0|  529|\n",
            "|  0|       0.0| 7110|\n",
            "|  1|       1.0|  382|\n",
            "|  0|       1.0|  193|\n",
            "+---+----------+-----+\n",
            "\n",
            "+---+----------+-----+\n",
            "|  y|prediction|count|\n",
            "+---+----------+-----+\n",
            "|  1|       0.0|  529|\n",
            "|  0|       0.0| 7110|\n",
            "|  1|       1.0|  382|\n",
            "|  0|       1.0|  193|\n",
            "+---+----------+-----+\n",
            "\n",
            "+---+----------+-----+\n",
            "|  y|prediction|count|\n",
            "+---+----------+-----+\n",
            "|  1|       0.0|  529|\n",
            "|  0|       0.0| 7110|\n",
            "|  1|       1.0|  382|\n",
            "|  0|       1.0|  193|\n",
            "+---+----------+-----+\n",
            "\n",
            "+---+----------+-----+\n",
            "|  y|prediction|count|\n",
            "+---+----------+-----+\n",
            "|  1|       0.0|  529|\n",
            "|  0|       0.0| 7110|\n",
            "|  1|       1.0|  382|\n",
            "|  0|       1.0|  193|\n",
            "+---+----------+-----+\n",
            "\n",
            "+---+----------+-----+\n",
            "|  y|prediction|count|\n",
            "+---+----------+-----+\n",
            "|  1|       0.0|  529|\n",
            "|  0|       0.0| 7110|\n",
            "|  1|       1.0|  382|\n",
            "|  0|       1.0|  193|\n",
            "+---+----------+-----+\n",
            "\n",
            "+---+----------+-----+\n",
            "|  y|prediction|count|\n",
            "+---+----------+-----+\n",
            "|  1|       0.0|  529|\n",
            "|  0|       0.0| 7110|\n",
            "|  1|       1.0|  382|\n",
            "|  0|       1.0|  193|\n",
            "+---+----------+-----+\n",
            "\n",
            "+---+----------+-----+\n",
            "|  y|prediction|count|\n",
            "+---+----------+-----+\n",
            "|  1|       0.0|  529|\n",
            "|  0|       0.0| 7110|\n",
            "|  1|       1.0|  382|\n",
            "|  0|       1.0|  193|\n",
            "+---+----------+-----+\n",
            "\n",
            "+---+----------+-----+\n",
            "|  y|prediction|count|\n",
            "+---+----------+-----+\n",
            "|  1|       0.0|  529|\n",
            "|  0|       0.0| 7110|\n",
            "|  1|       1.0|  382|\n",
            "|  0|       1.0|  193|\n",
            "+---+----------+-----+\n",
            "\n",
            "+---+----------+-----+\n",
            "|  y|prediction|count|\n",
            "+---+----------+-----+\n",
            "|  1|       0.0|  529|\n",
            "|  0|       0.0| 7110|\n",
            "|  1|       1.0|  382|\n",
            "|  0|       1.0|  193|\n",
            "+---+----------+-----+\n",
            "\n",
            "9.121012904796688\n",
            "6.643478260869565\n",
            "4.193194291986827\n",
            "28.27725437415881\n"
          ]
        }
      ]
    },
    {
      "cell_type": "code",
      "source": [
        "print(accuracy/n)\n",
        "print(Precision/n)\n",
        "print(Recall/n)\n",
        "print(F_Measure/n)"
      ],
      "metadata": {
        "colab": {
          "base_uri": "https://localhost:8080/"
        },
        "id": "Y2YJWq2_Bhg1",
        "outputId": "7dd49b19-f7cb-4ed4-a02d-37761fc66e07"
      },
      "execution_count": 123,
      "outputs": [
        {
          "output_type": "stream",
          "name": "stdout",
          "text": [
            "0.9121012904796688\n",
            "0.6643478260869565\n",
            "0.4193194291986827\n",
            "2.8277254374158813\n"
          ]
        }
      ]
    },
    {
      "cell_type": "code",
      "source": [],
      "metadata": {
        "id": "A3E6Ice0MMyd"
      },
      "execution_count": null,
      "outputs": []
    }
  ]
}